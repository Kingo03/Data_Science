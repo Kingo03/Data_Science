{
 "cells": [
  {
   "cell_type": "raw",
   "id": "9510a365-a27b-44e7-a35e-b41bcc0d81b0",
   "metadata": {},
   "source": [
    "Assignment no. 12 - EDA-2(Exploratory Data Analysis) "
   ]
  },
  {
   "cell_type": "code",
   "execution_count": 9,
   "id": "4a6fc716-9dce-4b14-8706-9a38465527f4",
   "metadata": {},
   "outputs": [],
   "source": [
    "import numpy as np\n",
    "import pandas as pd\n",
    "import matplotlib.pyplot as plt\n",
    "import seaborn as sns"
   ]
  },
  {
   "cell_type": "code",
   "execution_count": 10,
   "id": "b8afa746-efed-4c7f-9959-8200df59973b",
   "metadata": {},
   "outputs": [],
   "source": [
    "df = pd.read_csv('adult_with_headers.csv')"
   ]
  },
  {
   "cell_type": "code",
   "execution_count": 11,
   "id": "f91c09b5-796e-4605-a429-469b6600306b",
   "metadata": {},
   "outputs": [
    {
     "data": {
      "text/html": [
       "<div>\n",
       "<style scoped>\n",
       "    .dataframe tbody tr th:only-of-type {\n",
       "        vertical-align: middle;\n",
       "    }\n",
       "\n",
       "    .dataframe tbody tr th {\n",
       "        vertical-align: top;\n",
       "    }\n",
       "\n",
       "    .dataframe thead th {\n",
       "        text-align: right;\n",
       "    }\n",
       "</style>\n",
       "<table border=\"1\" class=\"dataframe\">\n",
       "  <thead>\n",
       "    <tr style=\"text-align: right;\">\n",
       "      <th></th>\n",
       "      <th>age</th>\n",
       "      <th>workclass</th>\n",
       "      <th>fnlwgt</th>\n",
       "      <th>education</th>\n",
       "      <th>education_num</th>\n",
       "      <th>marital_status</th>\n",
       "      <th>occupation</th>\n",
       "      <th>relationship</th>\n",
       "      <th>race</th>\n",
       "      <th>sex</th>\n",
       "      <th>capital_gain</th>\n",
       "      <th>capital_loss</th>\n",
       "      <th>hours_per_week</th>\n",
       "      <th>native_country</th>\n",
       "      <th>income</th>\n",
       "    </tr>\n",
       "  </thead>\n",
       "  <tbody>\n",
       "    <tr>\n",
       "      <th>0</th>\n",
       "      <td>39</td>\n",
       "      <td>State-gov</td>\n",
       "      <td>77516</td>\n",
       "      <td>Bachelors</td>\n",
       "      <td>13</td>\n",
       "      <td>Never-married</td>\n",
       "      <td>Adm-clerical</td>\n",
       "      <td>Not-in-family</td>\n",
       "      <td>White</td>\n",
       "      <td>Male</td>\n",
       "      <td>2174</td>\n",
       "      <td>0</td>\n",
       "      <td>40</td>\n",
       "      <td>United-States</td>\n",
       "      <td>&lt;=50K</td>\n",
       "    </tr>\n",
       "    <tr>\n",
       "      <th>1</th>\n",
       "      <td>50</td>\n",
       "      <td>Self-emp-not-inc</td>\n",
       "      <td>83311</td>\n",
       "      <td>Bachelors</td>\n",
       "      <td>13</td>\n",
       "      <td>Married-civ-spouse</td>\n",
       "      <td>Exec-managerial</td>\n",
       "      <td>Husband</td>\n",
       "      <td>White</td>\n",
       "      <td>Male</td>\n",
       "      <td>0</td>\n",
       "      <td>0</td>\n",
       "      <td>13</td>\n",
       "      <td>United-States</td>\n",
       "      <td>&lt;=50K</td>\n",
       "    </tr>\n",
       "    <tr>\n",
       "      <th>2</th>\n",
       "      <td>38</td>\n",
       "      <td>Private</td>\n",
       "      <td>215646</td>\n",
       "      <td>HS-grad</td>\n",
       "      <td>9</td>\n",
       "      <td>Divorced</td>\n",
       "      <td>Handlers-cleaners</td>\n",
       "      <td>Not-in-family</td>\n",
       "      <td>White</td>\n",
       "      <td>Male</td>\n",
       "      <td>0</td>\n",
       "      <td>0</td>\n",
       "      <td>40</td>\n",
       "      <td>United-States</td>\n",
       "      <td>&lt;=50K</td>\n",
       "    </tr>\n",
       "    <tr>\n",
       "      <th>3</th>\n",
       "      <td>53</td>\n",
       "      <td>Private</td>\n",
       "      <td>234721</td>\n",
       "      <td>11th</td>\n",
       "      <td>7</td>\n",
       "      <td>Married-civ-spouse</td>\n",
       "      <td>Handlers-cleaners</td>\n",
       "      <td>Husband</td>\n",
       "      <td>Black</td>\n",
       "      <td>Male</td>\n",
       "      <td>0</td>\n",
       "      <td>0</td>\n",
       "      <td>40</td>\n",
       "      <td>United-States</td>\n",
       "      <td>&lt;=50K</td>\n",
       "    </tr>\n",
       "    <tr>\n",
       "      <th>4</th>\n",
       "      <td>28</td>\n",
       "      <td>Private</td>\n",
       "      <td>338409</td>\n",
       "      <td>Bachelors</td>\n",
       "      <td>13</td>\n",
       "      <td>Married-civ-spouse</td>\n",
       "      <td>Prof-specialty</td>\n",
       "      <td>Wife</td>\n",
       "      <td>Black</td>\n",
       "      <td>Female</td>\n",
       "      <td>0</td>\n",
       "      <td>0</td>\n",
       "      <td>40</td>\n",
       "      <td>Cuba</td>\n",
       "      <td>&lt;=50K</td>\n",
       "    </tr>\n",
       "  </tbody>\n",
       "</table>\n",
       "</div>"
      ],
      "text/plain": [
       "   age          workclass  fnlwgt   education  education_num  \\\n",
       "0   39          State-gov   77516   Bachelors             13   \n",
       "1   50   Self-emp-not-inc   83311   Bachelors             13   \n",
       "2   38            Private  215646     HS-grad              9   \n",
       "3   53            Private  234721        11th              7   \n",
       "4   28            Private  338409   Bachelors             13   \n",
       "\n",
       "        marital_status          occupation    relationship    race      sex  \\\n",
       "0        Never-married        Adm-clerical   Not-in-family   White     Male   \n",
       "1   Married-civ-spouse     Exec-managerial         Husband   White     Male   \n",
       "2             Divorced   Handlers-cleaners   Not-in-family   White     Male   \n",
       "3   Married-civ-spouse   Handlers-cleaners         Husband   Black     Male   \n",
       "4   Married-civ-spouse      Prof-specialty            Wife   Black   Female   \n",
       "\n",
       "   capital_gain  capital_loss  hours_per_week  native_country  income  \n",
       "0          2174             0              40   United-States   <=50K  \n",
       "1             0             0              13   United-States   <=50K  \n",
       "2             0             0              40   United-States   <=50K  \n",
       "3             0             0              40   United-States   <=50K  \n",
       "4             0             0              40            Cuba   <=50K  "
      ]
     },
     "execution_count": 11,
     "metadata": {},
     "output_type": "execute_result"
    }
   ],
   "source": [
    "df.head()"
   ]
  },
  {
   "cell_type": "code",
   "execution_count": 12,
   "id": "7d0546d6-fcb4-4f2e-8e7c-0908dd32d53d",
   "metadata": {},
   "outputs": [
    {
     "data": {
      "text/html": [
       "<div>\n",
       "<style scoped>\n",
       "    .dataframe tbody tr th:only-of-type {\n",
       "        vertical-align: middle;\n",
       "    }\n",
       "\n",
       "    .dataframe tbody tr th {\n",
       "        vertical-align: top;\n",
       "    }\n",
       "\n",
       "    .dataframe thead th {\n",
       "        text-align: right;\n",
       "    }\n",
       "</style>\n",
       "<table border=\"1\" class=\"dataframe\">\n",
       "  <thead>\n",
       "    <tr style=\"text-align: right;\">\n",
       "      <th></th>\n",
       "      <th>age</th>\n",
       "      <th>workclass</th>\n",
       "      <th>fnlwgt</th>\n",
       "      <th>education</th>\n",
       "      <th>education_num</th>\n",
       "      <th>marital_status</th>\n",
       "      <th>occupation</th>\n",
       "      <th>relationship</th>\n",
       "      <th>race</th>\n",
       "      <th>sex</th>\n",
       "      <th>capital_gain</th>\n",
       "      <th>capital_loss</th>\n",
       "      <th>hours_per_week</th>\n",
       "      <th>native_country</th>\n",
       "      <th>income</th>\n",
       "    </tr>\n",
       "  </thead>\n",
       "  <tbody>\n",
       "    <tr>\n",
       "      <th>32556</th>\n",
       "      <td>27</td>\n",
       "      <td>Private</td>\n",
       "      <td>257302</td>\n",
       "      <td>Assoc-acdm</td>\n",
       "      <td>12</td>\n",
       "      <td>Married-civ-spouse</td>\n",
       "      <td>Tech-support</td>\n",
       "      <td>Wife</td>\n",
       "      <td>White</td>\n",
       "      <td>Female</td>\n",
       "      <td>0</td>\n",
       "      <td>0</td>\n",
       "      <td>38</td>\n",
       "      <td>United-States</td>\n",
       "      <td>&lt;=50K</td>\n",
       "    </tr>\n",
       "    <tr>\n",
       "      <th>32557</th>\n",
       "      <td>40</td>\n",
       "      <td>Private</td>\n",
       "      <td>154374</td>\n",
       "      <td>HS-grad</td>\n",
       "      <td>9</td>\n",
       "      <td>Married-civ-spouse</td>\n",
       "      <td>Machine-op-inspct</td>\n",
       "      <td>Husband</td>\n",
       "      <td>White</td>\n",
       "      <td>Male</td>\n",
       "      <td>0</td>\n",
       "      <td>0</td>\n",
       "      <td>40</td>\n",
       "      <td>United-States</td>\n",
       "      <td>&gt;50K</td>\n",
       "    </tr>\n",
       "    <tr>\n",
       "      <th>32558</th>\n",
       "      <td>58</td>\n",
       "      <td>Private</td>\n",
       "      <td>151910</td>\n",
       "      <td>HS-grad</td>\n",
       "      <td>9</td>\n",
       "      <td>Widowed</td>\n",
       "      <td>Adm-clerical</td>\n",
       "      <td>Unmarried</td>\n",
       "      <td>White</td>\n",
       "      <td>Female</td>\n",
       "      <td>0</td>\n",
       "      <td>0</td>\n",
       "      <td>40</td>\n",
       "      <td>United-States</td>\n",
       "      <td>&lt;=50K</td>\n",
       "    </tr>\n",
       "    <tr>\n",
       "      <th>32559</th>\n",
       "      <td>22</td>\n",
       "      <td>Private</td>\n",
       "      <td>201490</td>\n",
       "      <td>HS-grad</td>\n",
       "      <td>9</td>\n",
       "      <td>Never-married</td>\n",
       "      <td>Adm-clerical</td>\n",
       "      <td>Own-child</td>\n",
       "      <td>White</td>\n",
       "      <td>Male</td>\n",
       "      <td>0</td>\n",
       "      <td>0</td>\n",
       "      <td>20</td>\n",
       "      <td>United-States</td>\n",
       "      <td>&lt;=50K</td>\n",
       "    </tr>\n",
       "    <tr>\n",
       "      <th>32560</th>\n",
       "      <td>52</td>\n",
       "      <td>Self-emp-inc</td>\n",
       "      <td>287927</td>\n",
       "      <td>HS-grad</td>\n",
       "      <td>9</td>\n",
       "      <td>Married-civ-spouse</td>\n",
       "      <td>Exec-managerial</td>\n",
       "      <td>Wife</td>\n",
       "      <td>White</td>\n",
       "      <td>Female</td>\n",
       "      <td>15024</td>\n",
       "      <td>0</td>\n",
       "      <td>40</td>\n",
       "      <td>United-States</td>\n",
       "      <td>&gt;50K</td>\n",
       "    </tr>\n",
       "  </tbody>\n",
       "</table>\n",
       "</div>"
      ],
      "text/plain": [
       "       age      workclass  fnlwgt    education  education_num  \\\n",
       "32556   27        Private  257302   Assoc-acdm             12   \n",
       "32557   40        Private  154374      HS-grad              9   \n",
       "32558   58        Private  151910      HS-grad              9   \n",
       "32559   22        Private  201490      HS-grad              9   \n",
       "32560   52   Self-emp-inc  287927      HS-grad              9   \n",
       "\n",
       "            marital_status          occupation relationship    race      sex  \\\n",
       "32556   Married-civ-spouse        Tech-support         Wife   White   Female   \n",
       "32557   Married-civ-spouse   Machine-op-inspct      Husband   White     Male   \n",
       "32558              Widowed        Adm-clerical    Unmarried   White   Female   \n",
       "32559        Never-married        Adm-clerical    Own-child   White     Male   \n",
       "32560   Married-civ-spouse     Exec-managerial         Wife   White   Female   \n",
       "\n",
       "       capital_gain  capital_loss  hours_per_week  native_country  income  \n",
       "32556             0             0              38   United-States   <=50K  \n",
       "32557             0             0              40   United-States    >50K  \n",
       "32558             0             0              40   United-States   <=50K  \n",
       "32559             0             0              20   United-States   <=50K  \n",
       "32560         15024             0              40   United-States    >50K  "
      ]
     },
     "execution_count": 12,
     "metadata": {},
     "output_type": "execute_result"
    }
   ],
   "source": [
    "df.tail()"
   ]
  },
  {
   "cell_type": "code",
   "execution_count": 13,
   "id": "a299c578-21a5-4794-bb20-62be9442f71b",
   "metadata": {},
   "outputs": [
    {
     "data": {
      "text/plain": [
       "(32561, 15)"
      ]
     },
     "execution_count": 13,
     "metadata": {},
     "output_type": "execute_result"
    }
   ],
   "source": [
    "df.shape"
   ]
  },
  {
   "cell_type": "code",
   "execution_count": 14,
   "id": "d3a5b3b9-303a-4b38-947e-2c24f21ea1da",
   "metadata": {},
   "outputs": [
    {
     "name": "stdout",
     "output_type": "stream",
     "text": [
      "<class 'pandas.core.frame.DataFrame'>\n",
      "RangeIndex: 32561 entries, 0 to 32560\n",
      "Data columns (total 15 columns):\n",
      " #   Column          Non-Null Count  Dtype \n",
      "---  ------          --------------  ----- \n",
      " 0   age             32561 non-null  int64 \n",
      " 1   workclass       32561 non-null  object\n",
      " 2   fnlwgt          32561 non-null  int64 \n",
      " 3   education       32561 non-null  object\n",
      " 4   education_num   32561 non-null  int64 \n",
      " 5   marital_status  32561 non-null  object\n",
      " 6   occupation      32561 non-null  object\n",
      " 7   relationship    32561 non-null  object\n",
      " 8   race            32561 non-null  object\n",
      " 9   sex             32561 non-null  object\n",
      " 10  capital_gain    32561 non-null  int64 \n",
      " 11  capital_loss    32561 non-null  int64 \n",
      " 12  hours_per_week  32561 non-null  int64 \n",
      " 13  native_country  32561 non-null  object\n",
      " 14  income          32561 non-null  object\n",
      "dtypes: int64(6), object(9)\n",
      "memory usage: 3.7+ MB\n"
     ]
    }
   ],
   "source": [
    "df.info()"
   ]
  },
  {
   "cell_type": "code",
   "execution_count": 15,
   "id": "e471dbf7-6a84-44ff-8b53-2b50280b5567",
   "metadata": {},
   "outputs": [
    {
     "data": {
      "text/plain": [
       "0        39\n",
       "1        50\n",
       "2        38\n",
       "3        53\n",
       "4        28\n",
       "         ..\n",
       "32556    27\n",
       "32557    40\n",
       "32558    58\n",
       "32559    22\n",
       "32560    52\n",
       "Name: age, Length: 32561, dtype: int64"
      ]
     },
     "execution_count": 15,
     "metadata": {},
     "output_type": "execute_result"
    }
   ],
   "source": [
    "df['age']"
   ]
  },
  {
   "cell_type": "code",
   "execution_count": 16,
   "id": "bcddf70c-d92f-482f-9e9c-25b7a2501f05",
   "metadata": {},
   "outputs": [
    {
     "data": {
      "text/plain": [
       "count    32561.000000\n",
       "mean        38.581647\n",
       "std         13.640433\n",
       "min         17.000000\n",
       "25%         28.000000\n",
       "50%         37.000000\n",
       "75%         48.000000\n",
       "max         90.000000\n",
       "Name: age, dtype: float64"
      ]
     },
     "execution_count": 16,
     "metadata": {},
     "output_type": "execute_result"
    }
   ],
   "source": [
    "df['age'].describe()"
   ]
  },
  {
   "cell_type": "code",
   "execution_count": 17,
   "id": "d00efef4-3f7a-4463-9bab-0a3b9dcf2c15",
   "metadata": {},
   "outputs": [
    {
     "data": {
      "text/plain": [
       "37.0"
      ]
     },
     "execution_count": 17,
     "metadata": {},
     "output_type": "execute_result"
    }
   ],
   "source": [
    "df['age'].median()"
   ]
  },
  {
   "cell_type": "code",
   "execution_count": 18,
   "id": "3894749a-50a4-44f8-bf3e-2dd85d361dea",
   "metadata": {},
   "outputs": [
    {
     "data": {
      "text/plain": [
       "0    36\n",
       "Name: age, dtype: int64"
      ]
     },
     "execution_count": 18,
     "metadata": {},
     "output_type": "execute_result"
    }
   ],
   "source": [
    "df['age'].mode()"
   ]
  },
  {
   "cell_type": "code",
   "execution_count": 19,
   "id": "607de60e-2f6d-4bc8-9d9a-ca8098f4e2c2",
   "metadata": {},
   "outputs": [
    {
     "data": {
      "text/plain": [
       "np.float64(0.5587433694130484)"
      ]
     },
     "execution_count": 19,
     "metadata": {},
     "output_type": "execute_result"
    }
   ],
   "source": [
    "df['age'].skew()  # mean > median > mode  right skew, positive skew"
   ]
  },
  {
   "cell_type": "code",
   "execution_count": 20,
   "id": "845934cf-9b02-4d59-9413-3c59af6a14e2",
   "metadata": {},
   "outputs": [
    {
     "data": {
      "text/plain": [
       "<Axes: ylabel='Frequency'>"
      ]
     },
     "execution_count": 20,
     "metadata": {},
     "output_type": "execute_result"
    },
    {
     "data": {
      "image/png": "[encoded data removed]",
      "text/plain": [
       "<Figure size 640x480 with 1 Axes>"
      ]
     },
     "metadata": {},
     "output_type": "display_data"
    }
   ],
   "source": [
    "df['age'].plot(kind= 'hist', color = 'yellow')"
   ]
  },
  {
   "cell_type": "code",
   "execution_count": 21,
   "id": "3fb8b4fe-2789-45a6-be1e-1164d03b9827",
   "metadata": {},
   "outputs": [
    {
     "data": {
      "text/plain": [
       "0                State-gov\n",
       "1         Self-emp-not-inc\n",
       "2                  Private\n",
       "3                  Private\n",
       "4                  Private\n",
       "               ...        \n",
       "32556              Private\n",
       "32557              Private\n",
       "32558              Private\n",
       "32559              Private\n",
       "32560         Self-emp-inc\n",
       "Name: workclass, Length: 32561, dtype: object"
      ]
     },
     "execution_count": 21,
     "metadata": {},
     "output_type": "execute_result"
    }
   ],
   "source": [
    "df['workclass']"
   ]
  },
  {
   "cell_type": "code",
   "execution_count": 22,
   "id": "0a018b12-5479-4fc3-8434-a1ee0a3b0cbb",
   "metadata": {},
   "outputs": [
    {
     "data": {
      "text/plain": [
       "workclass\n",
       "Private             22696\n",
       "Self-emp-not-inc     2541\n",
       "Local-gov            2093\n",
       "?                    1836\n",
       "State-gov            1298\n",
       "Self-emp-inc         1116\n",
       "Federal-gov           960\n",
       "Without-pay            14\n",
       "Never-worked            7\n",
       "Name: count, dtype: int64"
      ]
     },
     "execution_count": 22,
     "metadata": {},
     "output_type": "execute_result"
    }
   ],
   "source": [
    "df['workclass'].value_counts()"
   ]
  },
  {
   "cell_type": "code",
   "execution_count": 23,
   "id": "f1e0a7a0-acac-4214-a78b-8e00971d6a0a",
   "metadata": {},
   "outputs": [
    {
     "data": {
      "text/plain": [
       "workclass\n",
       "Private             22696\n",
       "Self-emp-not-inc     2541\n",
       "Local-gov            2093\n",
       "?                    1836\n",
       "State-gov            1298\n",
       "Self-emp-inc         1116\n",
       "Federal-gov           960\n",
       "Without-pay            14\n",
       "Never-worked            7\n",
       "Name: count, dtype: int64"
      ]
     },
     "execution_count": 23,
     "metadata": {},
     "output_type": "execute_result"
    }
   ],
   "source": [
    "df['workclass'] = df['workclass'].str.strip()\n",
    "df['workclass'].value_counts()"
   ]
  },
  {
   "cell_type": "code",
   "execution_count": 24,
   "id": "be4325a4-79a9-4381-977b-e2617d075ac7",
   "metadata": {},
   "outputs": [],
   "source": [
    "df['workclass'] = df['workclass'].replace('?', np.nan)"
   ]
  },
  {
   "cell_type": "code",
   "execution_count": 25,
   "id": "b1c0136c-600b-4ce7-a583-71155c2f914a",
   "metadata": {},
   "outputs": [
    {
     "data": {
      "text/plain": [
       "workclass\n",
       "Private             22696\n",
       "Self-emp-not-inc     2541\n",
       "Local-gov            2093\n",
       "State-gov            1298\n",
       "Self-emp-inc         1116\n",
       "Federal-gov           960\n",
       "Without-pay            14\n",
       "Never-worked            7\n",
       "Name: count, dtype: int64"
      ]
     },
     "execution_count": 25,
     "metadata": {},
     "output_type": "execute_result"
    }
   ],
   "source": [
    "df['workclass'].value_counts()"
   ]
  },
  {
   "cell_type": "code",
   "execution_count": 26,
   "id": "c0558003-936a-4322-840b-853f05f910da",
   "metadata": {},
   "outputs": [
    {
     "data": {
      "text/plain": [
       "(32561, 15)"
      ]
     },
     "execution_count": 26,
     "metadata": {},
     "output_type": "execute_result"
    }
   ],
   "source": [
    "df.shape"
   ]
  },
  {
   "cell_type": "code",
   "execution_count": 27,
   "id": "53edd51d-7fb8-4bfd-aad4-f3347714cd78",
   "metadata": {},
   "outputs": [],
   "source": [
    "df.to_csv('cleaned.csv', index = False) # to check empty null spaces"
   ]
  },
  {
   "cell_type": "code",
   "execution_count": 28,
   "id": "a7641fb9-ccce-4c52-9dd8-189cc933bd56",
   "metadata": {},
   "outputs": [],
   "source": [
    "df = df.dropna(subset=['workclass']) # droping that null spaces\n"
   ]
  },
  {
   "cell_type": "code",
   "execution_count": 29,
   "id": "00c201de-bb60-4a94-a86c-c0c68d0dc48f",
   "metadata": {},
   "outputs": [],
   "source": [
    "df.to_csv('cleaned.csv', index = False) #restoring clean data "
   ]
  },
  {
   "cell_type": "code",
   "execution_count": 30,
   "id": "58f5c875-4498-4ddd-8716-ea01df0f22fa",
   "metadata": {},
   "outputs": [
    {
     "data": {
      "text/plain": [
       "(30725, 15)"
      ]
     },
     "execution_count": 30,
     "metadata": {},
     "output_type": "execute_result"
    }
   ],
   "source": [
    "df.shape"
   ]
  },
  {
   "cell_type": "code",
   "execution_count": 31,
   "id": "acef1ee0-ac16-4af4-8e9c-09016f8e1192",
   "metadata": {},
   "outputs": [
    {
     "data": {
      "text/plain": [
       "0         77516\n",
       "1         83311\n",
       "2        215646\n",
       "3        234721\n",
       "4        338409\n",
       "          ...  \n",
       "32556    257302\n",
       "32557    154374\n",
       "32558    151910\n",
       "32559    201490\n",
       "32560    287927\n",
       "Name: fnlwgt, Length: 30725, dtype: int64"
      ]
     },
     "execution_count": 31,
     "metadata": {},
     "output_type": "execute_result"
    }
   ],
   "source": [
    "df['fnlwgt']"
   ]
  },
  {
   "cell_type": "code",
   "execution_count": 32,
   "id": "8ab38470-f944-455d-a42a-4d2a21da2737",
   "metadata": {},
   "outputs": [
    {
     "data": {
      "text/plain": [
       "0          Bachelors\n",
       "1          Bachelors\n",
       "2            HS-grad\n",
       "3               11th\n",
       "4          Bachelors\n",
       "            ...     \n",
       "32556     Assoc-acdm\n",
       "32557        HS-grad\n",
       "32558        HS-grad\n",
       "32559        HS-grad\n",
       "32560        HS-grad\n",
       "Name: education, Length: 30725, dtype: object"
      ]
     },
     "execution_count": 32,
     "metadata": {},
     "output_type": "execute_result"
    }
   ],
   "source": [
    "df['education']"
   ]
  },
  {
   "cell_type": "code",
   "execution_count": 33,
   "id": "4665666d-ed24-43b5-b5d7-337f4dbaa54e",
   "metadata": {},
   "outputs": [
    {
     "data": {
      "text/plain": [
       "education\n",
       "HS-grad         9969\n",
       "Some-college    6777\n",
       "Bachelors       5182\n",
       "Masters         1675\n",
       "Assoc-voc       1321\n",
       "11th            1057\n",
       "Assoc-acdm      1020\n",
       "10th             833\n",
       "7th-8th          574\n",
       "Prof-school      558\n",
       "9th              463\n",
       "Doctorate        398\n",
       "12th             393\n",
       "5th-6th          303\n",
       "1st-4th          156\n",
       "Preschool         46\n",
       "Name: count, dtype: int64"
      ]
     },
     "execution_count": 33,
     "metadata": {},
     "output_type": "execute_result"
    }
   ],
   "source": [
    "df['education'].value_counts()"
   ]
  },
  {
   "cell_type": "code",
   "execution_count": 34,
   "id": "47f8aa35-28cc-4afa-92db-d582315e511d",
   "metadata": {},
   "outputs": [
    {
     "data": {
      "text/html": [
       "<div>\n",
       "<style scoped>\n",
       "    .dataframe tbody tr th:only-of-type {\n",
       "        vertical-align: middle;\n",
       "    }\n",
       "\n",
       "    .dataframe tbody tr th {\n",
       "        vertical-align: top;\n",
       "    }\n",
       "\n",
       "    .dataframe thead th {\n",
       "        text-align: right;\n",
       "    }\n",
       "</style>\n",
       "<table border=\"1\" class=\"dataframe\">\n",
       "  <thead>\n",
       "    <tr style=\"text-align: right;\">\n",
       "      <th>income</th>\n",
       "      <th>&lt;=50K</th>\n",
       "      <th>&gt;50K</th>\n",
       "    </tr>\n",
       "    <tr>\n",
       "      <th>education</th>\n",
       "      <th></th>\n",
       "      <th></th>\n",
       "    </tr>\n",
       "  </thead>\n",
       "  <tbody>\n",
       "    <tr>\n",
       "      <th>10th</th>\n",
       "      <td>3.349946</td>\n",
       "      <td>0.784314</td>\n",
       "    </tr>\n",
       "    <tr>\n",
       "      <th>11th</th>\n",
       "      <td>4.320693</td>\n",
       "      <td>0.784314</td>\n",
       "    </tr>\n",
       "    <tr>\n",
       "      <th>12th</th>\n",
       "      <td>1.568797</td>\n",
       "      <td>0.405229</td>\n",
       "    </tr>\n",
       "    <tr>\n",
       "      <th>1st-4th</th>\n",
       "      <td>0.650054</td>\n",
       "      <td>0.078431</td>\n",
       "    </tr>\n",
       "    <tr>\n",
       "      <th>5th-6th</th>\n",
       "      <td>1.252438</td>\n",
       "      <td>0.183007</td>\n",
       "    </tr>\n",
       "    <tr>\n",
       "      <th>7th-8th</th>\n",
       "      <td>2.322860</td>\n",
       "      <td>0.496732</td>\n",
       "    </tr>\n",
       "    <tr>\n",
       "      <th>9th</th>\n",
       "      <td>1.893824</td>\n",
       "      <td>0.339869</td>\n",
       "    </tr>\n",
       "    <tr>\n",
       "      <th>Assoc-acdm</th>\n",
       "      <td>3.297941</td>\n",
       "      <td>3.385621</td>\n",
       "    </tr>\n",
       "    <tr>\n",
       "      <th>Assoc-voc</th>\n",
       "      <td>4.216685</td>\n",
       "      <td>4.549020</td>\n",
       "    </tr>\n",
       "    <tr>\n",
       "      <th>Bachelors</th>\n",
       "      <td>13.027086</td>\n",
       "      <td>28.444444</td>\n",
       "    </tr>\n",
       "    <tr>\n",
       "      <th>Doctorate</th>\n",
       "      <td>0.446371</td>\n",
       "      <td>3.856209</td>\n",
       "    </tr>\n",
       "    <tr>\n",
       "      <th>HS-grad</th>\n",
       "      <td>36.143012</td>\n",
       "      <td>21.294118</td>\n",
       "    </tr>\n",
       "    <tr>\n",
       "      <th>Masters</th>\n",
       "      <td>3.180932</td>\n",
       "      <td>12.300654</td>\n",
       "    </tr>\n",
       "    <tr>\n",
       "      <th>Preschool</th>\n",
       "      <td>0.199350</td>\n",
       "      <td>0.000000</td>\n",
       "    </tr>\n",
       "    <tr>\n",
       "      <th>Prof-school</th>\n",
       "      <td>0.619718</td>\n",
       "      <td>5.424837</td>\n",
       "    </tr>\n",
       "    <tr>\n",
       "      <th>Some-college</th>\n",
       "      <td>23.510293</td>\n",
       "      <td>17.673203</td>\n",
       "    </tr>\n",
       "  </tbody>\n",
       "</table>\n",
       "</div>"
      ],
      "text/plain": [
       "income            <=50K       >50K\n",
       "education                         \n",
       "10th           3.349946   0.784314\n",
       "11th           4.320693   0.784314\n",
       "12th           1.568797   0.405229\n",
       "1st-4th        0.650054   0.078431\n",
       "5th-6th        1.252438   0.183007\n",
       "7th-8th        2.322860   0.496732\n",
       "9th            1.893824   0.339869\n",
       "Assoc-acdm     3.297941   3.385621\n",
       "Assoc-voc      4.216685   4.549020\n",
       "Bachelors     13.027086  28.444444\n",
       "Doctorate      0.446371   3.856209\n",
       "HS-grad       36.143012  21.294118\n",
       "Masters        3.180932  12.300654\n",
       "Preschool      0.199350   0.000000\n",
       "Prof-school    0.619718   5.424837\n",
       "Some-college  23.510293  17.673203"
      ]
     },
     "execution_count": 34,
     "metadata": {},
     "output_type": "execute_result"
    }
   ],
   "source": [
    "pd.crosstab(df['education'], df['income'] , normalize= 'columns')*100"
   ]
  },
  {
   "cell_type": "code",
   "execution_count": 35,
   "id": "2872920e-664b-4b2e-8d9f-8ce7adb962b7",
   "metadata": {},
   "outputs": [
    {
     "data": {
      "image/png": "[encoded data removed]",
      "text/plain": [
       "<Figure size 1500x600 with 1 Axes>"
      ]
     },
     "metadata": {},
     "output_type": "display_data"
    }
   ],
   "source": [
    "fig, ax = plt.subplots(figsize=(15, 6))\n",
    "sns.lineplot(x ='education', y ='income', data = df, ax = ax)\n",
    "# plt.xlabel(\"education\")\n",
    "# plt.ylabel(\"income\")\n",
    "plt.title('education Vs income')\n",
    "plt.show()"
   ]
  },
  {
   "cell_type": "code",
   "execution_count": 36,
   "id": "87e13266-7837-408c-ac4e-25c4f4ac3dd3",
   "metadata": {},
   "outputs": [
    {
     "data": {
      "text/plain": [
       "0        13\n",
       "1        13\n",
       "2         9\n",
       "3         7\n",
       "4        13\n",
       "         ..\n",
       "32556    12\n",
       "32557     9\n",
       "32558     9\n",
       "32559     9\n",
       "32560     9\n",
       "Name: education_num, Length: 30725, dtype: int64"
      ]
     },
     "execution_count": 36,
     "metadata": {},
     "output_type": "execute_result"
    }
   ],
   "source": [
    "df['education_num']"
   ]
  },
  {
   "cell_type": "code",
   "execution_count": 37,
   "id": "ad62f295-10fd-486c-81fa-43a05e336e6a",
   "metadata": {},
   "outputs": [
    {
     "data": {
      "text/plain": [
       "education_num\n",
       "9     9969\n",
       "10    6777\n",
       "13    5182\n",
       "14    1675\n",
       "11    1321\n",
       "7     1057\n",
       "12    1020\n",
       "6      833\n",
       "4      574\n",
       "15     558\n",
       "5      463\n",
       "16     398\n",
       "8      393\n",
       "3      303\n",
       "2      156\n",
       "1       46\n",
       "Name: count, dtype: int64"
      ]
     },
     "execution_count": 37,
     "metadata": {},
     "output_type": "execute_result"
    }
   ],
   "source": [
    "df['education_num'].value_counts()"
   ]
  },
  {
   "cell_type": "code",
   "execution_count": 38,
   "id": "7653dc23-f9fa-4c2f-8595-e4a56ef0bd40",
   "metadata": {},
   "outputs": [
    {
     "data": {
      "text/plain": [
       "0              Never-married\n",
       "1         Married-civ-spouse\n",
       "2                   Divorced\n",
       "3         Married-civ-spouse\n",
       "4         Married-civ-spouse\n",
       "                ...         \n",
       "32556     Married-civ-spouse\n",
       "32557     Married-civ-spouse\n",
       "32558                Widowed\n",
       "32559          Never-married\n",
       "32560     Married-civ-spouse\n",
       "Name: marital_status, Length: 30725, dtype: object"
      ]
     },
     "execution_count": 38,
     "metadata": {},
     "output_type": "execute_result"
    }
   ],
   "source": [
    "df['marital_status']"
   ]
  },
  {
   "cell_type": "code",
   "execution_count": 39,
   "id": "de6fc855-d962-4193-9a0e-4c67b019ef45",
   "metadata": {},
   "outputs": [
    {
     "data": {
      "text/plain": [
       "marital_status\n",
       "Married-civ-spouse       14340\n",
       "Never-married             9917\n",
       "Divorced                  4259\n",
       "Separated                  959\n",
       "Widowed                    840\n",
       "Married-spouse-absent      389\n",
       "Married-AF-spouse           21\n",
       "Name: count, dtype: int64"
      ]
     },
     "execution_count": 39,
     "metadata": {},
     "output_type": "execute_result"
    }
   ],
   "source": [
    "df['marital_status'].value_counts()"
   ]
  },
  {
   "cell_type": "code",
   "execution_count": 40,
   "id": "d7e89da7-a8ca-4e74-86c3-aaac634fc1ca",
   "metadata": {},
   "outputs": [
    {
     "data": {
      "text/plain": [
       "0              Adm-clerical\n",
       "1           Exec-managerial\n",
       "2         Handlers-cleaners\n",
       "3         Handlers-cleaners\n",
       "4            Prof-specialty\n",
       "                ...        \n",
       "32556          Tech-support\n",
       "32557     Machine-op-inspct\n",
       "32558          Adm-clerical\n",
       "32559          Adm-clerical\n",
       "32560       Exec-managerial\n",
       "Name: occupation, Length: 30725, dtype: object"
      ]
     },
     "execution_count": 40,
     "metadata": {},
     "output_type": "execute_result"
    }
   ],
   "source": [
    "df['occupation']"
   ]
  },
  {
   "cell_type": "code",
   "execution_count": 41,
   "id": "044bfa38-8d81-460d-ae34-617cd5c63e09",
   "metadata": {},
   "outputs": [
    {
     "data": {
      "text/plain": [
       "occupation\n",
       "Prof-specialty       4140\n",
       "Craft-repair         4099\n",
       "Exec-managerial      4066\n",
       "Adm-clerical         3770\n",
       "Sales                3650\n",
       "Other-service        3295\n",
       "Machine-op-inspct    2002\n",
       "Transport-moving     1597\n",
       "Handlers-cleaners    1370\n",
       "Farming-fishing       994\n",
       "Tech-support          928\n",
       "Protective-serv       649\n",
       "Priv-house-serv       149\n",
       "Armed-Forces            9\n",
       "?                       7\n",
       "Name: count, dtype: int64"
      ]
     },
     "execution_count": 41,
     "metadata": {},
     "output_type": "execute_result"
    }
   ],
   "source": [
    "df['occupation'].value_counts()"
   ]
  },
  {
   "cell_type": "code",
   "execution_count": 42,
   "id": "ccecff5b-c976-4dac-be3a-0213a53e9b37",
   "metadata": {},
   "outputs": [],
   "source": [
    "df['occupation'] = df['occupation'].str.strip()"
   ]
  },
  {
   "cell_type": "code",
   "execution_count": 43,
   "id": "c7adc522-eb0c-4d98-b09e-ed127a7ab793",
   "metadata": {},
   "outputs": [],
   "source": [
    "df['occupation'] = df['occupation'].replace('?' , np.nan)"
   ]
  },
  {
   "cell_type": "code",
   "execution_count": 44,
   "id": "c7441435-076b-4ad9-a7df-2dc94ceeaeeb",
   "metadata": {},
   "outputs": [
    {
     "data": {
      "text/plain": [
       "0             Adm-clerical\n",
       "1          Exec-managerial\n",
       "2        Handlers-cleaners\n",
       "3        Handlers-cleaners\n",
       "4           Prof-specialty\n",
       "               ...        \n",
       "32556         Tech-support\n",
       "32557    Machine-op-inspct\n",
       "32558         Adm-clerical\n",
       "32559         Adm-clerical\n",
       "32560      Exec-managerial\n",
       "Name: occupation, Length: 30718, dtype: object"
      ]
     },
     "execution_count": 44,
     "metadata": {},
     "output_type": "execute_result"
    }
   ],
   "source": [
    "df['occupation'].dropna()"
   ]
  },
  {
   "cell_type": "code",
   "execution_count": 45,
   "id": "f704aa4c-ed43-44d1-b575-19b7858e7d39",
   "metadata": {},
   "outputs": [
    {
     "data": {
      "text/plain": [
       "occupation\n",
       "Prof-specialty       4140\n",
       "Craft-repair         4099\n",
       "Exec-managerial      4066\n",
       "Adm-clerical         3770\n",
       "Sales                3650\n",
       "Other-service        3295\n",
       "Machine-op-inspct    2002\n",
       "Transport-moving     1597\n",
       "Handlers-cleaners    1370\n",
       "Farming-fishing       994\n",
       "Tech-support          928\n",
       "Protective-serv       649\n",
       "Priv-house-serv       149\n",
       "Armed-Forces            9\n",
       "Name: count, dtype: int64"
      ]
     },
     "execution_count": 45,
     "metadata": {},
     "output_type": "execute_result"
    }
   ],
   "source": [
    "df['occupation'].value_counts()"
   ]
  },
  {
   "cell_type": "code",
   "execution_count": 46,
   "id": "65666d42-4ae6-4ab7-8096-80a0abf858e2",
   "metadata": {},
   "outputs": [
    {
     "data": {
      "text/plain": [
       "np.int64(30718)"
      ]
     },
     "execution_count": 46,
     "metadata": {},
     "output_type": "execute_result"
    }
   ],
   "source": [
    "df['occupation'].count()"
   ]
  },
  {
   "cell_type": "code",
   "execution_count": 47,
   "id": "df7e38f7-87d6-4ec5-a6c0-a0eb75129ffa",
   "metadata": {},
   "outputs": [
    {
     "data": {
      "text/plain": [
       "0         Not-in-family\n",
       "1               Husband\n",
       "2         Not-in-family\n",
       "3               Husband\n",
       "4                  Wife\n",
       "              ...      \n",
       "32556              Wife\n",
       "32557           Husband\n",
       "32558         Unmarried\n",
       "32559         Own-child\n",
       "32560              Wife\n",
       "Name: relationship, Length: 30725, dtype: object"
      ]
     },
     "execution_count": 47,
     "metadata": {},
     "output_type": "execute_result"
    }
   ],
   "source": [
    "df['relationship']"
   ]
  },
  {
   "cell_type": "code",
   "execution_count": 48,
   "id": "c9573054-d8cb-4156-b5de-c4a31ad0cbd0",
   "metadata": {},
   "outputs": [
    {
     "data": {
      "text/plain": [
       "relationship\n",
       "Husband           12704\n",
       "Not-in-family      7866\n",
       "Own-child          4530\n",
       "Unmarried          3271\n",
       "Wife               1436\n",
       "Other-relative      918\n",
       "Name: count, dtype: int64"
      ]
     },
     "execution_count": 48,
     "metadata": {},
     "output_type": "execute_result"
    }
   ],
   "source": [
    "df['relationship'].value_counts()"
   ]
  },
  {
   "cell_type": "code",
   "execution_count": 49,
   "id": "42171749-d782-4fe3-96c8-73ac520641f8",
   "metadata": {},
   "outputs": [
    {
     "data": {
      "text/plain": [
       "0         White\n",
       "1         White\n",
       "2         White\n",
       "3         Black\n",
       "4         Black\n",
       "          ...  \n",
       "32556     White\n",
       "32557     White\n",
       "32558     White\n",
       "32559     White\n",
       "32560     White\n",
       "Name: race, Length: 30725, dtype: object"
      ]
     },
     "execution_count": 49,
     "metadata": {},
     "output_type": "execute_result"
    }
   ],
   "source": [
    "df['race']"
   ]
  },
  {
   "cell_type": "code",
   "execution_count": 50,
   "id": "8c0ddb1f-ec7a-4360-8589-fe4218def316",
   "metadata": {},
   "outputs": [
    {
     "data": {
      "text/plain": [
       "race\n",
       "White                 26306\n",
       "Black                  2911\n",
       "Asian-Pac-Islander      974\n",
       "Amer-Indian-Eskimo      286\n",
       "Other                   248\n",
       "Name: count, dtype: int64"
      ]
     },
     "execution_count": 50,
     "metadata": {},
     "output_type": "execute_result"
    }
   ],
   "source": [
    "df['race'].value_counts()"
   ]
  },
  {
   "cell_type": "code",
   "execution_count": 51,
   "id": "491b3948-e9c2-4e5c-a29f-364e4475feca",
   "metadata": {},
   "outputs": [
    {
     "data": {
      "text/plain": [
       "0           Male\n",
       "1           Male\n",
       "2           Male\n",
       "3           Male\n",
       "4         Female\n",
       "          ...   \n",
       "32556     Female\n",
       "32557       Male\n",
       "32558     Female\n",
       "32559       Male\n",
       "32560     Female\n",
       "Name: sex, Length: 30725, dtype: object"
      ]
     },
     "execution_count": 51,
     "metadata": {},
     "output_type": "execute_result"
    }
   ],
   "source": [
    "df['sex']"
   ]
  },
  {
   "cell_type": "code",
   "execution_count": 52,
   "id": "0da69eda-f73e-47e9-a58b-d51db4c3ee9c",
   "metadata": {},
   "outputs": [
    {
     "data": {
      "text/plain": [
       "sex\n",
       "Male      20793\n",
       "Female     9932\n",
       "Name: count, dtype: int64"
      ]
     },
     "execution_count": 52,
     "metadata": {},
     "output_type": "execute_result"
    }
   ],
   "source": [
    "df['sex'].value_counts()"
   ]
  },
  {
   "cell_type": "code",
   "execution_count": 53,
   "id": "7f4e218b-690e-4ca3-9dd9-2401771b20c0",
   "metadata": {},
   "outputs": [
    {
     "data": {
      "text/plain": [
       "np.int64(30725)"
      ]
     },
     "execution_count": 53,
     "metadata": {},
     "output_type": "execute_result"
    }
   ],
   "source": [
    "df['sex'].count()"
   ]
  },
  {
   "cell_type": "code",
   "execution_count": 54,
   "id": "f711d72b-8191-4392-b551-8683d4a165d2",
   "metadata": {},
   "outputs": [],
   "source": [
    "# df['sex'] = df['sex'].replace({'Male': 1, 'Female': 0})\n",
    "# df['sex'] = df['sex'].map({'Male': 1, 'Female': 0})\n",
    "# df['sex'] = df['sex'].apply(lambda x: 1 if x == 'Male' else 0)\n",
    "\n",
    "# df['sex'] = (df['sex'].astype(str).str.strip().str.lower().map({'male': 1, 'female': 0}))\n",
    "# df['sex'] = df['sex'].map({'Male': 1, 'Female': 0}).fillna(-1)\n"
   ]
  },
  {
   "cell_type": "code",
   "execution_count": 55,
   "id": "a382f97c-4701-4f08-9912-d0448ccb4466",
   "metadata": {},
   "outputs": [
    {
     "data": {
      "text/plain": [
       "0           Male\n",
       "1           Male\n",
       "2           Male\n",
       "3           Male\n",
       "4         Female\n",
       "          ...   \n",
       "32556     Female\n",
       "32557       Male\n",
       "32558     Female\n",
       "32559       Male\n",
       "32560     Female\n",
       "Name: sex, Length: 30725, dtype: object"
      ]
     },
     "execution_count": 55,
     "metadata": {},
     "output_type": "execute_result"
    }
   ],
   "source": [
    "df['sex']"
   ]
  },
  {
   "cell_type": "code",
   "execution_count": 56,
   "id": "3b4f4f29-0b65-4587-a1f8-a95cfeba4b21",
   "metadata": {},
   "outputs": [
    {
     "data": {
      "text/plain": [
       "sex\n",
       "Male      20793\n",
       "Female     9932\n",
       "Name: count, dtype: int64"
      ]
     },
     "execution_count": 56,
     "metadata": {},
     "output_type": "execute_result"
    }
   ],
   "source": [
    "df['sex'].value_counts()"
   ]
  },
  {
   "cell_type": "code",
   "execution_count": 57,
   "id": "80e7ecaf-9ec7-4071-94dc-349307e1d763",
   "metadata": {},
   "outputs": [
    {
     "data": {
      "text/plain": [
       "0         2174\n",
       "1            0\n",
       "2            0\n",
       "3            0\n",
       "4            0\n",
       "         ...  \n",
       "32556        0\n",
       "32557        0\n",
       "32558        0\n",
       "32559        0\n",
       "32560    15024\n",
       "Name: capital_gain, Length: 30725, dtype: int64"
      ]
     },
     "execution_count": 57,
     "metadata": {},
     "output_type": "execute_result"
    }
   ],
   "source": [
    "df['capital_gain']"
   ]
  },
  {
   "cell_type": "code",
   "execution_count": 58,
   "id": "3c9e9d0f-a361-4ae4-b08f-f14f102af76a",
   "metadata": {},
   "outputs": [
    {
     "data": {
      "text/plain": [
       "age               2589\n",
       "workclass         2589\n",
       "fnlwgt            2589\n",
       "education         2589\n",
       "education_num     2589\n",
       "marital_status    2589\n",
       "occupation        2589\n",
       "relationship      2589\n",
       "race              2589\n",
       "sex               2589\n",
       "capital_gain      2589\n",
       "capital_loss      2589\n",
       "hours_per_week    2589\n",
       "native_country    2589\n",
       "income            2589\n",
       "dtype: int64"
      ]
     },
     "execution_count": 58,
     "metadata": {},
     "output_type": "execute_result"
    }
   ],
   "source": [
    "df[df['capital_gain'] > 0 ].count()"
   ]
  },
  {
   "cell_type": "code",
   "execution_count": 59,
   "id": "c4720487-b684-43ec-9f2a-c2fb9e847cf8",
   "metadata": {},
   "outputs": [
    {
     "data": {
      "text/plain": [
       "<Axes: ylabel='capital_gain'>"
      ]
     },
     "execution_count": 59,
     "metadata": {},
     "output_type": "execute_result"
    },
    {
     "data": {
      "image/png": "[encoded data removed]",
      "text/plain": [
       "<Figure size 640x480 with 1 Axes>"
      ]
     },
     "metadata": {},
     "output_type": "display_data"
    }
   ],
   "source": [
    "sns.boxplot(df['capital_gain'])"
   ]
  },
  {
   "cell_type": "code",
   "execution_count": 60,
   "id": "b61ba043-69f6-4eec-ba7c-54cfb2b7900b",
   "metadata": {},
   "outputs": [
    {
     "data": {
      "text/plain": [
       "<Axes: ylabel='Density'>"
      ]
     },
     "execution_count": 60,
     "metadata": {},
     "output_type": "execute_result"
    },
    {
     "data": {
      "image/png": "[encoded data removed]",
      "text/plain": [
       "<Figure size 640x480 with 1 Axes>"
      ]
     },
     "metadata": {},
     "output_type": "display_data"
    }
   ],
   "source": [
    "df['capital_gain'].plot( kind = 'kde')"
   ]
  },
  {
   "cell_type": "code",
   "execution_count": 61,
   "id": "735c9c64-02ad-4187-9378-aa672912f469",
   "metadata": {},
   "outputs": [
    {
     "data": {
      "text/plain": [
       "0        0\n",
       "1        0\n",
       "2        0\n",
       "3        0\n",
       "4        0\n",
       "        ..\n",
       "32556    0\n",
       "32557    0\n",
       "32558    0\n",
       "32559    0\n",
       "32560    0\n",
       "Name: capital_loss, Length: 30725, dtype: int64"
      ]
     },
     "execution_count": 61,
     "metadata": {},
     "output_type": "execute_result"
    }
   ],
   "source": [
    "df['capital_loss']"
   ]
  },
  {
   "cell_type": "code",
   "execution_count": 62,
   "id": "382bf50a-21ab-466c-bd7b-04f60edc75e1",
   "metadata": {},
   "outputs": [
    {
     "data": {
      "text/plain": [
       "age               1461\n",
       "workclass         1461\n",
       "fnlwgt            1461\n",
       "education         1461\n",
       "education_num     1461\n",
       "marital_status    1461\n",
       "occupation        1461\n",
       "relationship      1461\n",
       "race              1461\n",
       "sex               1461\n",
       "capital_gain      1461\n",
       "capital_loss      1461\n",
       "hours_per_week    1461\n",
       "native_country    1461\n",
       "income            1461\n",
       "dtype: int64"
      ]
     },
     "execution_count": 62,
     "metadata": {},
     "output_type": "execute_result"
    }
   ],
   "source": [
    "df[df['capital_loss'] > 0].count()"
   ]
  },
  {
   "cell_type": "code",
   "execution_count": 63,
   "id": "9f2adc48-fcb4-4f8b-92c0-7bb50e1b26af",
   "metadata": {},
   "outputs": [
    {
     "data": {
      "text/plain": [
       "0        40\n",
       "1        13\n",
       "2        40\n",
       "3        40\n",
       "4        40\n",
       "         ..\n",
       "32556    38\n",
       "32557    40\n",
       "32558    40\n",
       "32559    20\n",
       "32560    40\n",
       "Name: hours_per_week, Length: 30725, dtype: int64"
      ]
     },
     "execution_count": 63,
     "metadata": {},
     "output_type": "execute_result"
    }
   ],
   "source": [
    "df['hours_per_week']"
   ]
  },
  {
   "cell_type": "code",
   "execution_count": 64,
   "id": "79a0982e-fe4d-4af6-9919-9447cae4f845",
   "metadata": {},
   "outputs": [
    {
     "data": {
      "text/plain": [
       "<Axes: ylabel='Frequency'>"
      ]
     },
     "execution_count": 64,
     "metadata": {},
     "output_type": "execute_result"
    },
    {
     "data": {
      "image/png": "[encoded data removed]",
      "text/plain": [
       "<Figure size 640x480 with 1 Axes>"
      ]
     },
     "metadata": {},
     "output_type": "display_data"
    }
   ],
   "source": [
    "df['hours_per_week'].plot(kind = 'hist')"
   ]
  },
  {
   "cell_type": "code",
   "execution_count": 65,
   "id": "550b1b7a-8faf-49cb-9b31-1341ec5c4a0a",
   "metadata": {},
   "outputs": [
    {
     "data": {
      "text/plain": [
       "native_country\n",
       "United-States                 27511\n",
       "Mexico                          610\n",
       "?                               556\n",
       "Philippines                     188\n",
       "Germany                         128\n",
       "Puerto-Rico                     109\n",
       "Canada                          107\n",
       "El-Salvador                     100\n",
       "India                           100\n",
       "Cuba                             92\n",
       "England                          86\n",
       "Jamaica                          80\n",
       "South                            71\n",
       "Italy                            68\n",
       "China                            68\n",
       "Dominican-Republic               67\n",
       "Vietnam                          64\n",
       "Guatemala                        63\n",
       "Japan                            59\n",
       "Columbia                         56\n",
       "Poland                           56\n",
       "Haiti                            42\n",
       "Iran                             42\n",
       "Taiwan                           42\n",
       "Portugal                         34\n",
       "Nicaragua                        33\n",
       "Peru                             30\n",
       "Greece                           29\n",
       "France                           27\n",
       "Ecuador                          27\n",
       "Ireland                          24\n",
       "Hong                             19\n",
       "Trinadad&Tobago                  18\n",
       "Cambodia                         18\n",
       "Laos                             17\n",
       "Thailand                         17\n",
       "Yugoslavia                       16\n",
       "Outlying-US(Guam-USVI-etc)       14\n",
       "Hungary                          13\n",
       "Honduras                         12\n",
       "Scotland                         11\n",
       "Holand-Netherlands                1\n",
       "Name: count, dtype: int64"
      ]
     },
     "execution_count": 65,
     "metadata": {},
     "output_type": "execute_result"
    }
   ],
   "source": [
    "df['native_country'].value_counts()"
   ]
  },
  {
   "cell_type": "code",
   "execution_count": 66,
   "id": "d643b25a-b913-4252-a7c2-17a4c71dc0a3",
   "metadata": {},
   "outputs": [
    {
     "data": {
      "text/plain": [
       "Index(['age', 'workclass', 'fnlwgt', 'education', 'education_num',\n",
       "       'marital_status', 'occupation', 'relationship', 'race', 'sex',\n",
       "       'capital_gain', 'capital_loss', 'hours_per_week', 'native_country',\n",
       "       'income'],\n",
       "      dtype='object')"
      ]
     },
     "execution_count": 66,
     "metadata": {},
     "output_type": "execute_result"
    }
   ],
   "source": [
    "df.columns"
   ]
  },
  {
   "cell_type": "code",
   "execution_count": 67,
   "id": "aad11a89-4cce-4af9-905b-4165e8f1cf8c",
   "metadata": {},
   "outputs": [
    {
     "name": "stdout",
     "output_type": "stream",
     "text": [
      "<class 'pandas.core.frame.DataFrame'>\n",
      "Index: 30725 entries, 0 to 32560\n",
      "Data columns (total 15 columns):\n",
      " #   Column          Non-Null Count  Dtype \n",
      "---  ------          --------------  ----- \n",
      " 0   age             30725 non-null  int64 \n",
      " 1   workclass       30725 non-null  object\n",
      " 2   fnlwgt          30725 non-null  int64 \n",
      " 3   education       30725 non-null  object\n",
      " 4   education_num   30725 non-null  int64 \n",
      " 5   marital_status  30725 non-null  object\n",
      " 6   occupation      30718 non-null  object\n",
      " 7   relationship    30725 non-null  object\n",
      " 8   race            30725 non-null  object\n",
      " 9   sex             30725 non-null  object\n",
      " 10  capital_gain    30725 non-null  int64 \n",
      " 11  capital_loss    30725 non-null  int64 \n",
      " 12  hours_per_week  30725 non-null  int64 \n",
      " 13  native_country  30725 non-null  object\n",
      " 14  income          30725 non-null  object\n",
      "dtypes: int64(6), object(9)\n",
      "memory usage: 3.8+ MB\n"
     ]
    }
   ],
   "source": [
    "df.info()"
   ]
  },
  {
   "cell_type": "code",
   "execution_count": 68,
   "id": "cc550738-c14b-4d76-a078-2bf8d1029ad2",
   "metadata": {},
   "outputs": [
    {
     "data": {
      "text/plain": [
       "occupation\n",
       "Prof-specialty       4140\n",
       "Craft-repair         4099\n",
       "Exec-managerial      4066\n",
       "Adm-clerical         3770\n",
       "Sales                3650\n",
       "Other-service        3295\n",
       "Machine-op-inspct    2002\n",
       "Transport-moving     1597\n",
       "Handlers-cleaners    1370\n",
       "Farming-fishing       994\n",
       "Tech-support          928\n",
       "Protective-serv       649\n",
       "Priv-house-serv       149\n",
       "Armed-Forces            9\n",
       "Name: count, dtype: int64"
      ]
     },
     "execution_count": 68,
     "metadata": {},
     "output_type": "execute_result"
    }
   ],
   "source": [
    "df['occupation'].value_counts()"
   ]
  },
  {
   "cell_type": "code",
   "execution_count": 69,
   "id": "12120b11-b92e-4f13-8215-ad9fd61195d6",
   "metadata": {},
   "outputs": [
    {
     "data": {
      "text/plain": [
       "np.int64(30718)"
      ]
     },
     "execution_count": 69,
     "metadata": {},
     "output_type": "execute_result"
    }
   ],
   "source": [
    "df['occupation'].count()"
   ]
  },
  {
   "cell_type": "code",
   "execution_count": 70,
   "id": "3657d4b3-b6e7-4b0e-8320-9ac33558ce3c",
   "metadata": {},
   "outputs": [
    {
     "data": {
      "text/html": [
       "<div>\n",
       "<style scoped>\n",
       "    .dataframe tbody tr th:only-of-type {\n",
       "        vertical-align: middle;\n",
       "    }\n",
       "\n",
       "    .dataframe tbody tr th {\n",
       "        vertical-align: top;\n",
       "    }\n",
       "\n",
       "    .dataframe thead th {\n",
       "        text-align: right;\n",
       "    }\n",
       "</style>\n",
       "<table border=\"1\" class=\"dataframe\">\n",
       "  <thead>\n",
       "    <tr style=\"text-align: right;\">\n",
       "      <th></th>\n",
       "      <th>age</th>\n",
       "      <th>workclass</th>\n",
       "      <th>fnlwgt</th>\n",
       "      <th>education</th>\n",
       "      <th>education_num</th>\n",
       "      <th>marital_status</th>\n",
       "      <th>occupation</th>\n",
       "      <th>relationship</th>\n",
       "      <th>race</th>\n",
       "      <th>sex</th>\n",
       "      <th>capital_gain</th>\n",
       "      <th>capital_loss</th>\n",
       "      <th>hours_per_week</th>\n",
       "      <th>native_country</th>\n",
       "      <th>income</th>\n",
       "    </tr>\n",
       "  </thead>\n",
       "  <tbody>\n",
       "    <tr>\n",
       "      <th>5361</th>\n",
       "      <td>18</td>\n",
       "      <td>Never-worked</td>\n",
       "      <td>206359</td>\n",
       "      <td>10th</td>\n",
       "      <td>6</td>\n",
       "      <td>Never-married</td>\n",
       "      <td>NaN</td>\n",
       "      <td>Own-child</td>\n",
       "      <td>White</td>\n",
       "      <td>Male</td>\n",
       "      <td>0</td>\n",
       "      <td>0</td>\n",
       "      <td>40</td>\n",
       "      <td>United-States</td>\n",
       "      <td>&lt;=50K</td>\n",
       "    </tr>\n",
       "    <tr>\n",
       "      <th>10845</th>\n",
       "      <td>23</td>\n",
       "      <td>Never-worked</td>\n",
       "      <td>188535</td>\n",
       "      <td>7th-8th</td>\n",
       "      <td>4</td>\n",
       "      <td>Divorced</td>\n",
       "      <td>NaN</td>\n",
       "      <td>Not-in-family</td>\n",
       "      <td>White</td>\n",
       "      <td>Male</td>\n",
       "      <td>0</td>\n",
       "      <td>0</td>\n",
       "      <td>35</td>\n",
       "      <td>United-States</td>\n",
       "      <td>&lt;=50K</td>\n",
       "    </tr>\n",
       "    <tr>\n",
       "      <th>14772</th>\n",
       "      <td>17</td>\n",
       "      <td>Never-worked</td>\n",
       "      <td>237272</td>\n",
       "      <td>10th</td>\n",
       "      <td>6</td>\n",
       "      <td>Never-married</td>\n",
       "      <td>NaN</td>\n",
       "      <td>Own-child</td>\n",
       "      <td>White</td>\n",
       "      <td>Male</td>\n",
       "      <td>0</td>\n",
       "      <td>0</td>\n",
       "      <td>30</td>\n",
       "      <td>United-States</td>\n",
       "      <td>&lt;=50K</td>\n",
       "    </tr>\n",
       "    <tr>\n",
       "      <th>20337</th>\n",
       "      <td>18</td>\n",
       "      <td>Never-worked</td>\n",
       "      <td>157131</td>\n",
       "      <td>11th</td>\n",
       "      <td>7</td>\n",
       "      <td>Never-married</td>\n",
       "      <td>NaN</td>\n",
       "      <td>Own-child</td>\n",
       "      <td>White</td>\n",
       "      <td>Female</td>\n",
       "      <td>0</td>\n",
       "      <td>0</td>\n",
       "      <td>10</td>\n",
       "      <td>United-States</td>\n",
       "      <td>&lt;=50K</td>\n",
       "    </tr>\n",
       "    <tr>\n",
       "      <th>23232</th>\n",
       "      <td>20</td>\n",
       "      <td>Never-worked</td>\n",
       "      <td>462294</td>\n",
       "      <td>Some-college</td>\n",
       "      <td>10</td>\n",
       "      <td>Never-married</td>\n",
       "      <td>NaN</td>\n",
       "      <td>Own-child</td>\n",
       "      <td>Black</td>\n",
       "      <td>Male</td>\n",
       "      <td>0</td>\n",
       "      <td>0</td>\n",
       "      <td>40</td>\n",
       "      <td>United-States</td>\n",
       "      <td>&lt;=50K</td>\n",
       "    </tr>\n",
       "    <tr>\n",
       "      <th>32304</th>\n",
       "      <td>30</td>\n",
       "      <td>Never-worked</td>\n",
       "      <td>176673</td>\n",
       "      <td>HS-grad</td>\n",
       "      <td>9</td>\n",
       "      <td>Married-civ-spouse</td>\n",
       "      <td>NaN</td>\n",
       "      <td>Wife</td>\n",
       "      <td>Black</td>\n",
       "      <td>Female</td>\n",
       "      <td>0</td>\n",
       "      <td>0</td>\n",
       "      <td>40</td>\n",
       "      <td>United-States</td>\n",
       "      <td>&lt;=50K</td>\n",
       "    </tr>\n",
       "    <tr>\n",
       "      <th>32314</th>\n",
       "      <td>18</td>\n",
       "      <td>Never-worked</td>\n",
       "      <td>153663</td>\n",
       "      <td>Some-college</td>\n",
       "      <td>10</td>\n",
       "      <td>Never-married</td>\n",
       "      <td>NaN</td>\n",
       "      <td>Own-child</td>\n",
       "      <td>White</td>\n",
       "      <td>Male</td>\n",
       "      <td>0</td>\n",
       "      <td>0</td>\n",
       "      <td>4</td>\n",
       "      <td>United-States</td>\n",
       "      <td>&lt;=50K</td>\n",
       "    </tr>\n",
       "  </tbody>\n",
       "</table>\n",
       "</div>"
      ],
      "text/plain": [
       "       age     workclass  fnlwgt      education  education_num  \\\n",
       "5361    18  Never-worked  206359           10th              6   \n",
       "10845   23  Never-worked  188535        7th-8th              4   \n",
       "14772   17  Never-worked  237272           10th              6   \n",
       "20337   18  Never-worked  157131           11th              7   \n",
       "23232   20  Never-worked  462294   Some-college             10   \n",
       "32304   30  Never-worked  176673        HS-grad              9   \n",
       "32314   18  Never-worked  153663   Some-college             10   \n",
       "\n",
       "            marital_status occupation    relationship    race      sex  \\\n",
       "5361         Never-married        NaN       Own-child   White     Male   \n",
       "10845             Divorced        NaN   Not-in-family   White     Male   \n",
       "14772        Never-married        NaN       Own-child   White     Male   \n",
       "20337        Never-married        NaN       Own-child   White   Female   \n",
       "23232        Never-married        NaN       Own-child   Black     Male   \n",
       "32304   Married-civ-spouse        NaN            Wife   Black   Female   \n",
       "32314        Never-married        NaN       Own-child   White     Male   \n",
       "\n",
       "       capital_gain  capital_loss  hours_per_week  native_country  income  \n",
       "5361              0             0              40   United-States   <=50K  \n",
       "10845             0             0              35   United-States   <=50K  \n",
       "14772             0             0              30   United-States   <=50K  \n",
       "20337             0             0              10   United-States   <=50K  \n",
       "23232             0             0              40   United-States   <=50K  \n",
       "32304             0             0              40   United-States   <=50K  \n",
       "32314             0             0               4   United-States   <=50K  "
      ]
     },
     "execution_count": 70,
     "metadata": {},
     "output_type": "execute_result"
    }
   ],
   "source": [
    "df[df['occupation'].isnull()]\n",
    "\n"
   ]
  },
  {
   "cell_type": "code",
   "execution_count": 71,
   "id": "be3c5cd1-37aa-44f4-b212-3907788f9ea8",
   "metadata": {},
   "outputs": [],
   "source": [
    "df = df.dropna(subset=['occupation'])\n"
   ]
  },
  {
   "cell_type": "code",
   "execution_count": 72,
   "id": "9ec6e4a4-6e60-4ed4-ab59-2be75fe84e51",
   "metadata": {},
   "outputs": [
    {
     "name": "stdout",
     "output_type": "stream",
     "text": [
      "<class 'pandas.core.frame.DataFrame'>\n",
      "Index: 30718 entries, 0 to 32560\n",
      "Data columns (total 15 columns):\n",
      " #   Column          Non-Null Count  Dtype \n",
      "---  ------          --------------  ----- \n",
      " 0   age             30718 non-null  int64 \n",
      " 1   workclass       30718 non-null  object\n",
      " 2   fnlwgt          30718 non-null  int64 \n",
      " 3   education       30718 non-null  object\n",
      " 4   education_num   30718 non-null  int64 \n",
      " 5   marital_status  30718 non-null  object\n",
      " 6   occupation      30718 non-null  object\n",
      " 7   relationship    30718 non-null  object\n",
      " 8   race            30718 non-null  object\n",
      " 9   sex             30718 non-null  object\n",
      " 10  capital_gain    30718 non-null  int64 \n",
      " 11  capital_loss    30718 non-null  int64 \n",
      " 12  hours_per_week  30718 non-null  int64 \n",
      " 13  native_country  30718 non-null  object\n",
      " 14  income          30718 non-null  object\n",
      "dtypes: int64(6), object(9)\n",
      "memory usage: 3.7+ MB\n"
     ]
    }
   ],
   "source": [
    "df.info()"
   ]
  },
  {
   "cell_type": "code",
   "execution_count": 73,
   "id": "11ee2405-0a39-452b-9e21-03134c40d295",
   "metadata": {},
   "outputs": [],
   "source": [
    "# num_cols = ['age', 'hours_perweek', 'fnlwgt', 'capital_gain', 'capital_loss']\n"
   ]
  },
  {
   "cell_type": "code",
   "execution_count": 74,
   "id": "eb64288c-6018-4baa-a2ed-7813a3bd7ce8",
   "metadata": {},
   "outputs": [],
   "source": [
    "# from sklearn.preprocessing import StandardScaler\n",
    "\n",
    "# scaler = StandardScaler()\n",
    "# df[num_cols] = scaler.fit_transform(df[num_cols])\n"
   ]
  },
  {
   "cell_type": "code",
   "execution_count": 75,
   "id": "daad964f-c6d1-477d-ac69-cc22b1d9dd94",
   "metadata": {},
   "outputs": [],
   "source": [
    "# from sklearn.preprocessing import MinMaxScaler\n",
    "\n",
    "# minmax = MinMaxScaler()\n",
    "# df[num_cols] = minmax.fit_transform(df[num_cols])\n"
   ]
  },
  {
   "cell_type": "code",
   "execution_count": 76,
   "id": "ad440199-2e1f-45c6-bb79-7d739a2fcc69",
   "metadata": {},
   "outputs": [],
   "source": [
    "# # Standard Scaled DataFrame\n",
    "# df_standard = df.copy()\n",
    "# df_standard[num_cols] = StandardScaler().fit_transform(df[num_cols])\n",
    "\n",
    "# # Min-Max Scaled DataFrame\n",
    "# df_minmax = df.copy()\n",
    "# df_minmax[num_cols] = MinMaxScaler().fit_transform(df[num_cols])\n"
   ]
  },
  {
   "cell_type": "code",
   "execution_count": 77,
   "id": "8fd13708-28aa-4f9e-bd01-32dd55b99932",
   "metadata": {},
   "outputs": [
    {
     "data": {
      "text/html": [
       "<div>\n",
       "<style scoped>\n",
       "    .dataframe tbody tr th:only-of-type {\n",
       "        vertical-align: middle;\n",
       "    }\n",
       "\n",
       "    .dataframe tbody tr th {\n",
       "        vertical-align: top;\n",
       "    }\n",
       "\n",
       "    .dataframe thead th {\n",
       "        text-align: right;\n",
       "    }\n",
       "</style>\n",
       "<table border=\"1\" class=\"dataframe\">\n",
       "  <thead>\n",
       "    <tr style=\"text-align: right;\">\n",
       "      <th></th>\n",
       "      <th>age</th>\n",
       "      <th>workclass</th>\n",
       "      <th>fnlwgt</th>\n",
       "      <th>education</th>\n",
       "      <th>education_num</th>\n",
       "      <th>marital_status</th>\n",
       "      <th>occupation</th>\n",
       "      <th>relationship</th>\n",
       "      <th>race</th>\n",
       "      <th>sex</th>\n",
       "      <th>capital_gain</th>\n",
       "      <th>capital_loss</th>\n",
       "      <th>hours_per_week</th>\n",
       "      <th>native_country</th>\n",
       "      <th>income</th>\n",
       "    </tr>\n",
       "  </thead>\n",
       "  <tbody>\n",
       "    <tr>\n",
       "      <th>0</th>\n",
       "      <td>39</td>\n",
       "      <td>State-gov</td>\n",
       "      <td>77516</td>\n",
       "      <td>Bachelors</td>\n",
       "      <td>13</td>\n",
       "      <td>Never-married</td>\n",
       "      <td>Adm-clerical</td>\n",
       "      <td>Not-in-family</td>\n",
       "      <td>White</td>\n",
       "      <td>Male</td>\n",
       "      <td>2174</td>\n",
       "      <td>0</td>\n",
       "      <td>40</td>\n",
       "      <td>United-States</td>\n",
       "      <td>&lt;=50K</td>\n",
       "    </tr>\n",
       "    <tr>\n",
       "      <th>1</th>\n",
       "      <td>50</td>\n",
       "      <td>Self-emp-not-inc</td>\n",
       "      <td>83311</td>\n",
       "      <td>Bachelors</td>\n",
       "      <td>13</td>\n",
       "      <td>Married-civ-spouse</td>\n",
       "      <td>Exec-managerial</td>\n",
       "      <td>Husband</td>\n",
       "      <td>White</td>\n",
       "      <td>Male</td>\n",
       "      <td>0</td>\n",
       "      <td>0</td>\n",
       "      <td>13</td>\n",
       "      <td>United-States</td>\n",
       "      <td>&lt;=50K</td>\n",
       "    </tr>\n",
       "    <tr>\n",
       "      <th>2</th>\n",
       "      <td>38</td>\n",
       "      <td>Private</td>\n",
       "      <td>215646</td>\n",
       "      <td>HS-grad</td>\n",
       "      <td>9</td>\n",
       "      <td>Divorced</td>\n",
       "      <td>Handlers-cleaners</td>\n",
       "      <td>Not-in-family</td>\n",
       "      <td>White</td>\n",
       "      <td>Male</td>\n",
       "      <td>0</td>\n",
       "      <td>0</td>\n",
       "      <td>40</td>\n",
       "      <td>United-States</td>\n",
       "      <td>&lt;=50K</td>\n",
       "    </tr>\n",
       "    <tr>\n",
       "      <th>3</th>\n",
       "      <td>53</td>\n",
       "      <td>Private</td>\n",
       "      <td>234721</td>\n",
       "      <td>11th</td>\n",
       "      <td>7</td>\n",
       "      <td>Married-civ-spouse</td>\n",
       "      <td>Handlers-cleaners</td>\n",
       "      <td>Husband</td>\n",
       "      <td>Black</td>\n",
       "      <td>Male</td>\n",
       "      <td>0</td>\n",
       "      <td>0</td>\n",
       "      <td>40</td>\n",
       "      <td>United-States</td>\n",
       "      <td>&lt;=50K</td>\n",
       "    </tr>\n",
       "    <tr>\n",
       "      <th>4</th>\n",
       "      <td>28</td>\n",
       "      <td>Private</td>\n",
       "      <td>338409</td>\n",
       "      <td>Bachelors</td>\n",
       "      <td>13</td>\n",
       "      <td>Married-civ-spouse</td>\n",
       "      <td>Prof-specialty</td>\n",
       "      <td>Wife</td>\n",
       "      <td>Black</td>\n",
       "      <td>Female</td>\n",
       "      <td>0</td>\n",
       "      <td>0</td>\n",
       "      <td>40</td>\n",
       "      <td>Cuba</td>\n",
       "      <td>&lt;=50K</td>\n",
       "    </tr>\n",
       "  </tbody>\n",
       "</table>\n",
       "</div>"
      ],
      "text/plain": [
       "   age         workclass  fnlwgt   education  education_num  \\\n",
       "0   39         State-gov   77516   Bachelors             13   \n",
       "1   50  Self-emp-not-inc   83311   Bachelors             13   \n",
       "2   38           Private  215646     HS-grad              9   \n",
       "3   53           Private  234721        11th              7   \n",
       "4   28           Private  338409   Bachelors             13   \n",
       "\n",
       "        marital_status         occupation    relationship    race      sex  \\\n",
       "0        Never-married       Adm-clerical   Not-in-family   White     Male   \n",
       "1   Married-civ-spouse    Exec-managerial         Husband   White     Male   \n",
       "2             Divorced  Handlers-cleaners   Not-in-family   White     Male   \n",
       "3   Married-civ-spouse  Handlers-cleaners         Husband   Black     Male   \n",
       "4   Married-civ-spouse     Prof-specialty            Wife   Black   Female   \n",
       "\n",
       "   capital_gain  capital_loss  hours_per_week  native_country  income  \n",
       "0          2174             0              40   United-States   <=50K  \n",
       "1             0             0              13   United-States   <=50K  \n",
       "2             0             0              40   United-States   <=50K  \n",
       "3             0             0              40   United-States   <=50K  \n",
       "4             0             0              40            Cuba   <=50K  "
      ]
     },
     "execution_count": 77,
     "metadata": {},
     "output_type": "execute_result"
    }
   ],
   "source": [
    "df.head()"
   ]
  },
  {
   "cell_type": "code",
   "execution_count": 78,
   "id": "dace6baf-8821-4ed8-ba59-7409bbc841eb",
   "metadata": {},
   "outputs": [
    {
     "name": "stdout",
     "output_type": "stream",
     "text": [
      "workclass : 7\n",
      "education : 16\n",
      "marital_status : 7\n",
      "occupation : 14\n",
      "relationship : 6\n",
      "race : 5\n",
      "sex : 2\n",
      "native_country : 42\n",
      "income : 2\n"
     ]
    }
   ],
   "source": [
    "for col in df.select_dtypes(include='object').columns:\n",
    "    print(col, \":\", df[col].nunique())\n"
   ]
  },
  {
   "cell_type": "code",
   "execution_count": 79,
   "id": "45dd9ac9-a69c-40ac-ab76-1c7ff8fb0811",
   "metadata": {},
   "outputs": [],
   "source": [
    "from sklearn.preprocessing import LabelEncoder\n",
    "import pandas as pd\n",
    "\n",
    "# Make a copy\n",
    "df_encoded = df.copy()\n",
    "\n",
    "# Iterate over categorical columns\n",
    "for col in df_encoded.select_dtypes(include='object').columns:\n",
    "    if df_encoded[col].nunique() < 5:\n",
    "        # One-Hot Encoding\n",
    "        df_encoded = pd.get_dummies(df_encoded, columns=[col], drop_first=True)\n",
    "    else:\n",
    "        # Label Encoding\n",
    "        le = LabelEncoder()\n",
    "        df_encoded[col] = le.fit_transform(df_encoded[col].astype(str))\n"
   ]
  },
  {
   "cell_type": "code",
   "execution_count": 80,
   "id": "8581a12a-f4f4-4192-bca4-64893042e511",
   "metadata": {},
   "outputs": [
    {
     "data": {
      "text/html": [
       "<div>\n",
       "<style scoped>\n",
       "    .dataframe tbody tr th:only-of-type {\n",
       "        vertical-align: middle;\n",
       "    }\n",
       "\n",
       "    .dataframe tbody tr th {\n",
       "        vertical-align: top;\n",
       "    }\n",
       "\n",
       "    .dataframe thead th {\n",
       "        text-align: right;\n",
       "    }\n",
       "</style>\n",
       "<table border=\"1\" class=\"dataframe\">\n",
       "  <thead>\n",
       "    <tr style=\"text-align: right;\">\n",
       "      <th></th>\n",
       "      <th>age</th>\n",
       "      <th>workclass</th>\n",
       "      <th>fnlwgt</th>\n",
       "      <th>education</th>\n",
       "      <th>education_num</th>\n",
       "      <th>marital_status</th>\n",
       "      <th>occupation</th>\n",
       "      <th>relationship</th>\n",
       "      <th>race</th>\n",
       "      <th>sex</th>\n",
       "      <th>capital_gain</th>\n",
       "      <th>capital_loss</th>\n",
       "      <th>hours_per_week</th>\n",
       "      <th>native_country</th>\n",
       "      <th>income</th>\n",
       "    </tr>\n",
       "  </thead>\n",
       "  <tbody>\n",
       "    <tr>\n",
       "      <th>0</th>\n",
       "      <td>39</td>\n",
       "      <td>State-gov</td>\n",
       "      <td>77516</td>\n",
       "      <td>Bachelors</td>\n",
       "      <td>13</td>\n",
       "      <td>Never-married</td>\n",
       "      <td>Adm-clerical</td>\n",
       "      <td>Not-in-family</td>\n",
       "      <td>White</td>\n",
       "      <td>Male</td>\n",
       "      <td>2174</td>\n",
       "      <td>0</td>\n",
       "      <td>40</td>\n",
       "      <td>United-States</td>\n",
       "      <td>&lt;=50K</td>\n",
       "    </tr>\n",
       "    <tr>\n",
       "      <th>1</th>\n",
       "      <td>50</td>\n",
       "      <td>Self-emp-not-inc</td>\n",
       "      <td>83311</td>\n",
       "      <td>Bachelors</td>\n",
       "      <td>13</td>\n",
       "      <td>Married-civ-spouse</td>\n",
       "      <td>Exec-managerial</td>\n",
       "      <td>Husband</td>\n",
       "      <td>White</td>\n",
       "      <td>Male</td>\n",
       "      <td>0</td>\n",
       "      <td>0</td>\n",
       "      <td>13</td>\n",
       "      <td>United-States</td>\n",
       "      <td>&lt;=50K</td>\n",
       "    </tr>\n",
       "    <tr>\n",
       "      <th>2</th>\n",
       "      <td>38</td>\n",
       "      <td>Private</td>\n",
       "      <td>215646</td>\n",
       "      <td>HS-grad</td>\n",
       "      <td>9</td>\n",
       "      <td>Divorced</td>\n",
       "      <td>Handlers-cleaners</td>\n",
       "      <td>Not-in-family</td>\n",
       "      <td>White</td>\n",
       "      <td>Male</td>\n",
       "      <td>0</td>\n",
       "      <td>0</td>\n",
       "      <td>40</td>\n",
       "      <td>United-States</td>\n",
       "      <td>&lt;=50K</td>\n",
       "    </tr>\n",
       "    <tr>\n",
       "      <th>3</th>\n",
       "      <td>53</td>\n",
       "      <td>Private</td>\n",
       "      <td>234721</td>\n",
       "      <td>11th</td>\n",
       "      <td>7</td>\n",
       "      <td>Married-civ-spouse</td>\n",
       "      <td>Handlers-cleaners</td>\n",
       "      <td>Husband</td>\n",
       "      <td>Black</td>\n",
       "      <td>Male</td>\n",
       "      <td>0</td>\n",
       "      <td>0</td>\n",
       "      <td>40</td>\n",
       "      <td>United-States</td>\n",
       "      <td>&lt;=50K</td>\n",
       "    </tr>\n",
       "    <tr>\n",
       "      <th>4</th>\n",
       "      <td>28</td>\n",
       "      <td>Private</td>\n",
       "      <td>338409</td>\n",
       "      <td>Bachelors</td>\n",
       "      <td>13</td>\n",
       "      <td>Married-civ-spouse</td>\n",
       "      <td>Prof-specialty</td>\n",
       "      <td>Wife</td>\n",
       "      <td>Black</td>\n",
       "      <td>Female</td>\n",
       "      <td>0</td>\n",
       "      <td>0</td>\n",
       "      <td>40</td>\n",
       "      <td>Cuba</td>\n",
       "      <td>&lt;=50K</td>\n",
       "    </tr>\n",
       "    <tr>\n",
       "      <th>...</th>\n",
       "      <td>...</td>\n",
       "      <td>...</td>\n",
       "      <td>...</td>\n",
       "      <td>...</td>\n",
       "      <td>...</td>\n",
       "      <td>...</td>\n",
       "      <td>...</td>\n",
       "      <td>...</td>\n",
       "      <td>...</td>\n",
       "      <td>...</td>\n",
       "      <td>...</td>\n",
       "      <td>...</td>\n",
       "      <td>...</td>\n",
       "      <td>...</td>\n",
       "      <td>...</td>\n",
       "    </tr>\n",
       "    <tr>\n",
       "      <th>32556</th>\n",
       "      <td>27</td>\n",
       "      <td>Private</td>\n",
       "      <td>257302</td>\n",
       "      <td>Assoc-acdm</td>\n",
       "      <td>12</td>\n",
       "      <td>Married-civ-spouse</td>\n",
       "      <td>Tech-support</td>\n",
       "      <td>Wife</td>\n",
       "      <td>White</td>\n",
       "      <td>Female</td>\n",
       "      <td>0</td>\n",
       "      <td>0</td>\n",
       "      <td>38</td>\n",
       "      <td>United-States</td>\n",
       "      <td>&lt;=50K</td>\n",
       "    </tr>\n",
       "    <tr>\n",
       "      <th>32557</th>\n",
       "      <td>40</td>\n",
       "      <td>Private</td>\n",
       "      <td>154374</td>\n",
       "      <td>HS-grad</td>\n",
       "      <td>9</td>\n",
       "      <td>Married-civ-spouse</td>\n",
       "      <td>Machine-op-inspct</td>\n",
       "      <td>Husband</td>\n",
       "      <td>White</td>\n",
       "      <td>Male</td>\n",
       "      <td>0</td>\n",
       "      <td>0</td>\n",
       "      <td>40</td>\n",
       "      <td>United-States</td>\n",
       "      <td>&gt;50K</td>\n",
       "    </tr>\n",
       "    <tr>\n",
       "      <th>32558</th>\n",
       "      <td>58</td>\n",
       "      <td>Private</td>\n",
       "      <td>151910</td>\n",
       "      <td>HS-grad</td>\n",
       "      <td>9</td>\n",
       "      <td>Widowed</td>\n",
       "      <td>Adm-clerical</td>\n",
       "      <td>Unmarried</td>\n",
       "      <td>White</td>\n",
       "      <td>Female</td>\n",
       "      <td>0</td>\n",
       "      <td>0</td>\n",
       "      <td>40</td>\n",
       "      <td>United-States</td>\n",
       "      <td>&lt;=50K</td>\n",
       "    </tr>\n",
       "    <tr>\n",
       "      <th>32559</th>\n",
       "      <td>22</td>\n",
       "      <td>Private</td>\n",
       "      <td>201490</td>\n",
       "      <td>HS-grad</td>\n",
       "      <td>9</td>\n",
       "      <td>Never-married</td>\n",
       "      <td>Adm-clerical</td>\n",
       "      <td>Own-child</td>\n",
       "      <td>White</td>\n",
       "      <td>Male</td>\n",
       "      <td>0</td>\n",
       "      <td>0</td>\n",
       "      <td>20</td>\n",
       "      <td>United-States</td>\n",
       "      <td>&lt;=50K</td>\n",
       "    </tr>\n",
       "    <tr>\n",
       "      <th>32560</th>\n",
       "      <td>52</td>\n",
       "      <td>Self-emp-inc</td>\n",
       "      <td>287927</td>\n",
       "      <td>HS-grad</td>\n",
       "      <td>9</td>\n",
       "      <td>Married-civ-spouse</td>\n",
       "      <td>Exec-managerial</td>\n",
       "      <td>Wife</td>\n",
       "      <td>White</td>\n",
       "      <td>Female</td>\n",
       "      <td>15024</td>\n",
       "      <td>0</td>\n",
       "      <td>40</td>\n",
       "      <td>United-States</td>\n",
       "      <td>&gt;50K</td>\n",
       "    </tr>\n",
       "  </tbody>\n",
       "</table>\n",
       "<p>30718 rows × 15 columns</p>\n",
       "</div>"
      ],
      "text/plain": [
       "       age         workclass  fnlwgt    education  education_num  \\\n",
       "0       39         State-gov   77516    Bachelors             13   \n",
       "1       50  Self-emp-not-inc   83311    Bachelors             13   \n",
       "2       38           Private  215646      HS-grad              9   \n",
       "3       53           Private  234721         11th              7   \n",
       "4       28           Private  338409    Bachelors             13   \n",
       "...    ...               ...     ...          ...            ...   \n",
       "32556   27           Private  257302   Assoc-acdm             12   \n",
       "32557   40           Private  154374      HS-grad              9   \n",
       "32558   58           Private  151910      HS-grad              9   \n",
       "32559   22           Private  201490      HS-grad              9   \n",
       "32560   52      Self-emp-inc  287927      HS-grad              9   \n",
       "\n",
       "            marital_status         occupation    relationship    race  \\\n",
       "0            Never-married       Adm-clerical   Not-in-family   White   \n",
       "1       Married-civ-spouse    Exec-managerial         Husband   White   \n",
       "2                 Divorced  Handlers-cleaners   Not-in-family   White   \n",
       "3       Married-civ-spouse  Handlers-cleaners         Husband   Black   \n",
       "4       Married-civ-spouse     Prof-specialty            Wife   Black   \n",
       "...                    ...                ...             ...     ...   \n",
       "32556   Married-civ-spouse       Tech-support            Wife   White   \n",
       "32557   Married-civ-spouse  Machine-op-inspct         Husband   White   \n",
       "32558              Widowed       Adm-clerical       Unmarried   White   \n",
       "32559        Never-married       Adm-clerical       Own-child   White   \n",
       "32560   Married-civ-spouse    Exec-managerial            Wife   White   \n",
       "\n",
       "           sex  capital_gain  capital_loss  hours_per_week  native_country  \\\n",
       "0         Male          2174             0              40   United-States   \n",
       "1         Male             0             0              13   United-States   \n",
       "2         Male             0             0              40   United-States   \n",
       "3         Male             0             0              40   United-States   \n",
       "4       Female             0             0              40            Cuba   \n",
       "...        ...           ...           ...             ...             ...   \n",
       "32556   Female             0             0              38   United-States   \n",
       "32557     Male             0             0              40   United-States   \n",
       "32558   Female             0             0              40   United-States   \n",
       "32559     Male             0             0              20   United-States   \n",
       "32560   Female         15024             0              40   United-States   \n",
       "\n",
       "       income  \n",
       "0       <=50K  \n",
       "1       <=50K  \n",
       "2       <=50K  \n",
       "3       <=50K  \n",
       "4       <=50K  \n",
       "...       ...  \n",
       "32556   <=50K  \n",
       "32557    >50K  \n",
       "32558   <=50K  \n",
       "32559   <=50K  \n",
       "32560    >50K  \n",
       "\n",
       "[30718 rows x 15 columns]"
      ]
     },
     "execution_count": 80,
     "metadata": {},
     "output_type": "execute_result"
    }
   ],
   "source": [
    "df"
   ]
  },
  {
   "cell_type": "raw",
   "id": "42efd376-a102-4f18-ae76-5bb5f17bdb25",
   "metadata": {},
   "source": [
    "One-Hot Encoding (OHE)\n",
    "Pros\n",
    "No ordinal relationship assumed → good for nominal data.\n",
    "Works well with tree-based models (Decision Trees, Random Forests).\n",
    "\n",
    "Cons\n",
    "Expands dataset size (curse of dimensionality).\n",
    "Sparse data → may slow down training with large categories.\n",
    "\n",
    "Label Encoding (LE)\n",
    "Pros\n",
    "Keeps dataset compact (only one column per feature).\n",
    "Useful for features with many categories.\n",
    "\n",
    "Cons\n",
    "Imposes an artificial ordinal relationship between categories (e.g., \"Doctor=1, Engineer=2\" may mislead linear models).\n",
    "Some algorithms may interpret encoded numbers as having meaning (e.g., regression, distance-based models)."
   ]
  },
  {
   "cell_type": "code",
   "execution_count": 81,
   "id": "559761b7-59eb-46b8-8ab9-f845fcce591c",
   "metadata": {},
   "outputs": [],
   "source": [
    "df['age_group'] = pd.cut(df['age'], bins=[0, 30, 50, 100], labels=['Young', 'Middle-aged', 'Senior'])\n"
   ]
  },
  {
   "cell_type": "code",
   "execution_count": 82,
   "id": "ae58ee98-a6e5-475a-9e2b-c058ecbffea6",
   "metadata": {},
   "outputs": [
    {
     "data": {
      "text/plain": [
       "age_group\n",
       "Middle-aged    15183\n",
       "Young           9749\n",
       "Senior          5786\n",
       "Name: count, dtype: int64"
      ]
     },
     "execution_count": 82,
     "metadata": {},
     "output_type": "execute_result"
    }
   ],
   "source": [
    "df['age_group'].value_counts()"
   ]
  },
  {
   "cell_type": "code",
   "execution_count": 83,
   "id": "0aaeae8a-b0d5-4487-a1ce-143f619fc6bc",
   "metadata": {},
   "outputs": [],
   "source": [
    "df['work_hours_category'] = pd.cut(df['hours_per_week'], \n",
    "                                   bins=[0, 34, 40, 60, 100], \n",
    "                                   labels=['Part-time', 'Full-time', 'Over-time', 'Workaholic'])\n"
   ]
  },
  {
   "cell_type": "code",
   "execution_count": 84,
   "id": "0f214f46-2b6c-41ee-a589-fc055c8c01ed",
   "metadata": {},
   "outputs": [
    {
     "data": {
      "text/plain": [
       "work_hours_category\n",
       "Full-time     16580\n",
       "Over-time      8298\n",
       "Part-time      4764\n",
       "Workaholic     1076\n",
       "Name: count, dtype: int64"
      ]
     },
     "execution_count": 84,
     "metadata": {},
     "output_type": "execute_result"
    }
   ],
   "source": [
    "df['work_hours_category'].value_counts()"
   ]
  },
  {
   "cell_type": "code",
   "execution_count": 85,
   "id": "4b7d14d2-c81c-4af3-8b3a-393e689b24f5",
   "metadata": {},
   "outputs": [],
   "source": [
    "df['capital_diff'] = df['capital_gain'] - df['capital_loss']\n"
   ]
  },
  {
   "cell_type": "code",
   "execution_count": 86,
   "id": "50a182e3-1896-40fc-8702-8d1f36f55556",
   "metadata": {},
   "outputs": [
    {
     "data": {
      "text/plain": [
       "0         2174\n",
       "1            0\n",
       "2            0\n",
       "3            0\n",
       "4            0\n",
       "         ...  \n",
       "32556        0\n",
       "32557        0\n",
       "32558        0\n",
       "32559        0\n",
       "32560    15024\n",
       "Name: capital_diff, Length: 30718, dtype: int64"
      ]
     },
     "execution_count": 86,
     "metadata": {},
     "output_type": "execute_result"
    }
   ],
   "source": [
    "df['capital_diff']"
   ]
  },
  {
   "cell_type": "code",
   "execution_count": 87,
   "id": "6d550716-af79-4234-a68c-f53bf04f771f",
   "metadata": {},
   "outputs": [],
   "source": [
    "# Log transform with +1 to handle zeros\n",
    "df['log_capital_gain'] = np.log1p(df['capital_gain'])\n",
    "df['log_capital_loss'] = np.log1p(df['capital_loss'])"
   ]
  },
  {
   "cell_type": "code",
   "execution_count": 88,
   "id": "b36f4882-d7c9-4c8c-9d39-3253490a7232",
   "metadata": {},
   "outputs": [
    {
     "data": {
      "text/plain": [
       "0        7.684784\n",
       "1        0.000000\n",
       "2        0.000000\n",
       "3        0.000000\n",
       "4        0.000000\n",
       "           ...   \n",
       "32556    0.000000\n",
       "32557    0.000000\n",
       "32558    0.000000\n",
       "32559    0.000000\n",
       "32560    9.617471\n",
       "Name: log_capital_gain, Length: 30718, dtype: float64"
      ]
     },
     "execution_count": 88,
     "metadata": {},
     "output_type": "execute_result"
    }
   ],
   "source": [
    "df['log_capital_gain']"
   ]
  },
  {
   "cell_type": "code",
   "execution_count": 89,
   "id": "2568ae59-27e8-4f71-8961-74832e054725",
   "metadata": {},
   "outputs": [
    {
     "data": {
      "text/plain": [
       "0        0.0\n",
       "1        0.0\n",
       "2        0.0\n",
       "3        0.0\n",
       "4        0.0\n",
       "        ... \n",
       "32556    0.0\n",
       "32557    0.0\n",
       "32558    0.0\n",
       "32559    0.0\n",
       "32560    0.0\n",
       "Name: log_capital_loss, Length: 30718, dtype: float64"
      ]
     },
     "execution_count": 89,
     "metadata": {},
     "output_type": "execute_result"
    }
   ],
   "source": [
    "df['log_capital_loss']"
   ]
  },
  {
   "cell_type": "code",
   "execution_count": 90,
   "id": "fbcf01a3-3f3b-44e9-a577-624a76924a4e",
   "metadata": {},
   "outputs": [],
   "source": [
    "from sklearn.ensemble import IsolationForest\n",
    "\n",
    "# Select numeric features for outlier detection\n",
    "num_cols = ['age', 'fnlwgt', 'education_num', 'capital_gain', 'capital_loss', 'hours_per_week']\n",
    "\n",
    "# Fit Isolation Forest\n",
    "iso = IsolationForest(contamination=0.01, random_state=42)\n",
    "outliers = iso.fit_predict(df[num_cols])\n",
    "\n",
    "# Keep only non-outliers\n",
    "df_no_outliers = df[outliers == 1]\n"
   ]
  },
  {
   "cell_type": "code",
   "execution_count": 91,
   "id": "071384be-ee16-4963-b41b-46eddd0e3573",
   "metadata": {},
   "outputs": [
    {
     "name": "stdout",
     "output_type": "stream",
     "text": [
      "C:\\Users\\HARSHIT SINGH\\anaconda3\\python.exe\n"
     ]
    }
   ],
   "source": [
    "import sys\n",
    "print(sys.executable)\n"
   ]
  },
  {
   "cell_type": "code",
   "execution_count": 92,
   "id": "810dffa0-506b-43c0-bfe4-ea95fdce259a",
   "metadata": {},
   "outputs": [
    {
     "name": "stdout",
     "output_type": "stream",
     "text": [
      "Requirement already satisfied: dython in c:\\users\\harshit singh\\anaconda3\\lib\\site-packages (0.7.9)\n",
      "Requirement already satisfied: numpy>=1.23.0 in c:\\users\\harshit singh\\appdata\\roaming\\python\\python313\\site-packages (from dython) (2.2.3)\n",
      "Requirement already satisfied: pandas>=1.4.2 in c:\\users\\harshit singh\\appdata\\roaming\\python\\python313\\site-packages (from dython) (2.3.0)\n",
      "Requirement already satisfied: seaborn>=0.12.0 in c:\\users\\harshit singh\\anaconda3\\lib\\site-packages (from dython) (0.13.2)\n",
      "Requirement already satisfied: scipy>=1.7.1 in c:\\users\\harshit singh\\anaconda3\\lib\\site-packages (from dython) (1.15.3)\n",
      "Requirement already satisfied: matplotlib>=3.6.0 in c:\\users\\harshit singh\\anaconda3\\lib\\site-packages (from dython) (3.10.0)\n",
      "Requirement already satisfied: scikit-learn>=0.24.2 in c:\\users\\harshit singh\\anaconda3\\lib\\site-packages (from dython) (1.6.1)\n",
      "Requirement already satisfied: psutil>=5.9.1 in c:\\users\\harshit singh\\appdata\\roaming\\python\\python313\\site-packages (from dython) (7.0.0)\n",
      "Requirement already satisfied: setuptools in c:\\users\\harshit singh\\anaconda3\\lib\\site-packages (from dython) (72.1.0)\n",
      "Requirement already satisfied: contourpy>=1.0.1 in c:\\users\\harshit singh\\anaconda3\\lib\\site-packages (from matplotlib>=3.6.0->dython) (1.3.1)\n",
      "Requirement already satisfied: cycler>=0.10 in c:\\users\\harshit singh\\anaconda3\\lib\\site-packages (from matplotlib>=3.6.0->dython) (0.11.0)\n",
      "Requirement already satisfied: fonttools>=4.22.0 in c:\\users\\harshit singh\\anaconda3\\lib\\site-packages (from matplotlib>=3.6.0->dython) (4.55.3)\n",
      "Requirement already satisfied: kiwisolver>=1.3.1 in c:\\users\\harshit singh\\anaconda3\\lib\\site-packages (from matplotlib>=3.6.0->dython) (1.4.8)\n",
      "Requirement already satisfied: packaging>=20.0 in c:\\users\\harshit singh\\appdata\\roaming\\python\\python313\\site-packages (from matplotlib>=3.6.0->dython) (25.0)\n",
      "Requirement already satisfied: pillow>=8 in c:\\users\\harshit singh\\anaconda3\\lib\\site-packages (from matplotlib>=3.6.0->dython) (11.1.0)\n",
      "Requirement already satisfied: pyparsing>=2.3.1 in c:\\users\\harshit singh\\appdata\\roaming\\python\\python313\\site-packages (from matplotlib>=3.6.0->dython) (3.2.1)\n",
      "Requirement already satisfied: python-dateutil>=2.7 in c:\\users\\harshit singh\\appdata\\roaming\\python\\python313\\site-packages (from matplotlib>=3.6.0->dython) (2.9.0.post0)\n",
      "Requirement already satisfied: pytz>=2020.1 in c:\\users\\harshit singh\\appdata\\roaming\\python\\python313\\site-packages (from pandas>=1.4.2->dython) (2025.2)\n",
      "Requirement already satisfied: tzdata>=2022.7 in c:\\users\\harshit singh\\appdata\\roaming\\python\\python313\\site-packages (from pandas>=1.4.2->dython) (2025.2)\n",
      "Requirement already satisfied: six>=1.5 in c:\\users\\harshit singh\\appdata\\roaming\\python\\python313\\site-packages (from python-dateutil>=2.7->matplotlib>=3.6.0->dython) (1.17.0)\n",
      "Requirement already satisfied: joblib>=1.2.0 in c:\\users\\harshit singh\\appdata\\roaming\\python\\python313\\site-packages (from scikit-learn>=0.24.2->dython) (1.4.2)\n",
      "Requirement already satisfied: threadpoolctl>=3.1.0 in c:\\users\\harshit singh\\anaconda3\\lib\\site-packages (from scikit-learn>=0.24.2->dython) (3.5.0)\n",
      "Note: you may need to restart the kernel to use updated packages.\n"
     ]
    }
   ],
   "source": [
    "pip install dython\n"
   ]
  },
  {
   "cell_type": "code",
   "execution_count": 96,
   "id": "d74c69dc-8363-4fa9-931c-e7b1115f6b7c",
   "metadata": {},
   "outputs": [
    {
     "data": {
      "image/png": "[encoded data removed]",
      "text/plain": [
       "<Figure size 1350x1350 with 2 Axes>"
      ]
     },
     "metadata": {},
     "output_type": "display_data"
    },
    {
     "data": {
      "text/plain": [
       "{'corr':                        age    fnlwgt  education_num  capital_gain  \\\n",
       " age               1.000000 -0.072614       0.005379           0.0   \n",
       " fnlwgt           -0.072614  1.000000      -0.034439           0.0   \n",
       " education_num     0.005379 -0.034439       1.000000           0.0   \n",
       " capital_gain      0.000000  0.000000       0.000000           0.0   \n",
       " capital_loss      0.000000  0.000000       0.000000           0.0   \n",
       " hours_per_week    0.045038 -0.019293       0.126286           0.0   \n",
       " capital_diff      0.000000  0.000000       0.000000           0.0   \n",
       " log_capital_gain  0.000000  0.000000       0.000000           0.0   \n",
       " log_capital_loss  0.000000  0.000000       0.000000           0.0   \n",
       " \n",
       "                   capital_loss  hours_per_week  capital_diff  \\\n",
       " age                        0.0        0.045038           0.0   \n",
       " fnlwgt                     0.0       -0.019293           0.0   \n",
       " education_num              0.0        0.126286           0.0   \n",
       " capital_gain               0.0        0.000000           0.0   \n",
       " capital_loss               0.0        0.000000           0.0   \n",
       " hours_per_week             0.0        1.000000           0.0   \n",
       " capital_diff               0.0        0.000000           0.0   \n",
       " log_capital_gain           0.0        0.000000           0.0   \n",
       " log_capital_loss           0.0        0.000000           0.0   \n",
       " \n",
       "                   log_capital_gain  log_capital_loss  \n",
       " age                            0.0               0.0  \n",
       " fnlwgt                         0.0               0.0  \n",
       " education_num                  0.0               0.0  \n",
       " capital_gain                   0.0               0.0  \n",
       " capital_loss                   0.0               0.0  \n",
       " hours_per_week                 0.0               0.0  \n",
       " capital_diff                   0.0               0.0  \n",
       " log_capital_gain               0.0               0.0  \n",
       " log_capital_loss               0.0               0.0  ,\n",
       " 'ax': <Axes: >}"
      ]
     },
     "execution_count": 96,
     "metadata": {},
     "output_type": "execute_result"
    }
   ],
   "source": [
    "# Select only numeric columns\n",
    "numeric_df = df.select_dtypes(include=['number'])\n",
    "\n",
    "# Example: removing outliers using IQR\n",
    "Q1 = numeric_df.quantile(0.25)\n",
    "Q3 = numeric_df.quantile(0.75)\n",
    "IQR = Q3 - Q1\n",
    "\n",
    "df_no_outliers = numeric_df[~((numeric_df < (Q1 - 1.5 * IQR)) |(numeric_df > (Q3 + 1.5 * IQR))).any(axis=1)]\n",
    "\n",
    "# Now run associations\n",
    "from dython.nominal import associations\n",
    "associations(df_no_outliers, plot=True)\n",
    "\n"
   ]
  },
  {
   "cell_type": "code",
   "execution_count": 97,
   "id": "47788f69-0f59-4bae-9afe-37e51260caeb",
   "metadata": {},
   "outputs": [
    {
     "name": "stdout",
     "output_type": "stream",
     "text": [
      "       age  fnlwgt  education_num  capital_gain  capital_loss  hours_per_week  \\\n",
      "2       38  215646              9             0             0              40   \n",
      "3       53  234721              7             0             0              40   \n",
      "4       28  338409             13             0             0              40   \n",
      "5       37  284582             14             0             0              40   \n",
      "7       52  209642              9             0             0              45   \n",
      "...    ...     ...            ...           ...           ...             ...   \n",
      "32554   53  321865             14             0             0              40   \n",
      "32555   22  310152             10             0             0              40   \n",
      "32556   27  257302             12             0             0              38   \n",
      "32557   40  154374              9             0             0              40   \n",
      "32558   58  151910              9             0             0              40   \n",
      "\n",
      "       capital_diff  log_capital_gain  log_capital_loss  \n",
      "2                 0               0.0               0.0  \n",
      "3                 0               0.0               0.0  \n",
      "4                 0               0.0               0.0  \n",
      "5                 0               0.0               0.0  \n",
      "7                 0               0.0               0.0  \n",
      "...             ...               ...               ...  \n",
      "32554             0               0.0               0.0  \n",
      "32555             0               0.0               0.0  \n",
      "32556             0               0.0               0.0  \n",
      "32557             0               0.0               0.0  \n",
      "32558             0               0.0               0.0  \n",
      "\n",
      "[18788 rows x 9 columns]\n"
     ]
    }
   ],
   "source": [
    "print(df_no_outliers)"
   ]
  },
  {
   "cell_type": "code",
   "execution_count": 100,
   "id": "a02ed5af-eeab-4060-b28d-3a15b352ef1f",
   "metadata": {},
   "outputs": [
    {
     "data": {
      "image/png": "[encoded data removed]",
      "text/plain": [
       "<Figure size 800x600 with 2 Axes>"
      ]
     },
     "metadata": {},
     "output_type": "display_data"
    }
   ],
   "source": [
    "import seaborn as sns\n",
    "import matplotlib.pyplot as plt\n",
    "\n",
    "corr = df_no_outliers[num_cols].corr()\n",
    "\n",
    "plt.figure(figsize=(8,6))\n",
    "sns.heatmap(corr, annot=True, cmap='coolwarm')\n",
    "plt.title(\"Correlation Matrix\")\n",
    "plt.show()\n"
   ]
  },
  {
   "cell_type": "code",
   "execution_count": null,
   "id": "97d525b2-fcce-4b46-8353-66baa4bf24a2",
   "metadata": {},
   "outputs": [],
   "source": []
  }
 ],
 "metadata": {
  "kernelspec": {
   "display_name": "Python 3 (ipykernel)",
   "language": "python",
   "name": "python3"
  },
  "language_info": {
   "codemirror_mode": {
    "name": "ipython",
    "version": 3
   },
   "file_extension": ".py",
   "mimetype": "text/x-python",
   "name": "python",
   "nbconvert_exporter": "python",
   "pygments_lexer": "ipython3",
   "version": "3.13.5"
  }
 },
 "nbformat": 4,
 "nbformat_minor": 5
}
