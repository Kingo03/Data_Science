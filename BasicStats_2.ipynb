{
 "cells": [
  {
   "cell_type": "raw",
   "id": "0661d6be-8043-4442-932f-8e347191886a",
   "metadata": {},
   "source": [
    "Assigment No. 2"
   ]
  },
  {
   "cell_type": "raw",
   "id": "11602e0b-7998-4816-89e6-4870d1c9e7e8",
   "metadata": {},
   "source": [
    "Estimation and Confidence Intervals\n",
    "\n",
    "Data Given:\n",
    "- 15 print-heads were randomly selected and tested until failure.\n",
    "- The Durability of each print-head(in million of characters) was recorded \n",
    "- data are as follows:\n",
    "  1.13, 1.55, 1.43, 0.92, 1.25, 1.36, 1.32, 0.85, 1.07, 1.48, 1.20, 1.33, 1.18, 1.22, 1.29"
   ]
  },
  {
   "cell_type": "code",
   "execution_count": 29,
   "id": "4a59b6c8-5475-469a-99c3-e0a4c3feb4e7",
   "metadata": {},
   "outputs": [
    {
     "name": "stdout",
     "output_type": "stream",
     "text": [
      "1.239\n"
     ]
    }
   ],
   "source": [
    "import numpy as np\n",
    "\n",
    "sample =np.array([1.13, 1.55, 1.43, 0.92, 1.25, 1.36, 1.32, 0.85, 1.07, 1.48, 1.20, 1.33, 1.18, 1.22, 1.29])\n",
    "n = len(sample)\n",
    "mean_ = np.mean(sample)\n",
    "print(round(mean_ ,3))\n",
    "\n",
    "s = np.std(sample)"
   ]
  },
  {
   "cell_type": "raw",
   "id": "ba6e39ca-2880-4164-bb4b-7126991193a8",
   "metadata": {},
   "source": [
    "Task to perform:\n",
    "\n",
    "a.Build 99% Confidence Interval Using Sample Standard Deviation.\n",
    "\n",
    "using t-distribution:\n",
    "When the population standard deviation is unknown and the sample size is small.\n",
    "degree of freedom df is n-1 = 15 -1 = 14"
   ]
  },
  {
   "cell_type": "code",
   "execution_count": 33,
   "id": "8948633b-eb09-4d83-806a-192681875c22",
   "metadata": {},
   "outputs": [
    {
     "name": "stdout",
     "output_type": "stream",
     "text": [
      "\n",
      "99% CI using t-distribution (unknown sigma):\n",
      "1.095 to 1.382\n"
     ]
    }
   ],
   "source": [
    "import scipy.stats as st\n",
    "\n",
    "alpha = 0.01  # 99% confidence level -> alpha = 0.01\n",
    "df = n - 1    # degrees of freedom for t-distribution\n",
    "\n",
    "# Critical t-value\n",
    "t_crit = st.t.ppf(1 - alpha/2, df)\n",
    "\n",
    "# Margin of error\n",
    "margin_t = t_crit * (s / np.sqrt(n))\n",
    "\n",
    "# Confidence Interval\n",
    "ci_t = (mean_ - margin_t, mean_ + margin_t)\n",
    "\n",
    "print(\"\\n99% CI using t-distribution (unknown sigma):\")\n",
    "print(f\"{ci_t[0]:.3f} to {ci_t[1]:.3f}\")\n"
   ]
  },
  {
   "cell_type": "raw",
   "id": "fd25e633-f0ad-4ab1-99bc-310f5848838e",
   "metadata": {},
   "source": [
    "b. Build 99% Confidence Interval Using Known Population Standard Deviation\n",
    "If it were known that the population standard deviation is 0.2 million characters, construct a 99% confidence interval for the mean number of characters printed before failure.\n",
    "\n",
    "using z- distribution:\n",
    "when sigma is known and sample size large but for now will be using small sample size for practice.\n"
   ]
  },
  {
   "cell_type": "code",
   "execution_count": 38,
   "id": "347080c0-7d17-4476-bda4-89b3e398f828",
   "metadata": {},
   "outputs": [
    {
     "name": "stdout",
     "output_type": "stream",
     "text": [
      "\n",
      "99% CI using z-distribution (known sigma = 0.2):\n",
      "1.106 to 1.372\n"
     ]
    }
   ],
   "source": [
    "# Critical z-value for 99% CI\n",
    "\n",
    "sigma_known = 0.2\n",
    "z_crit = st.norm.ppf(1 - alpha/2)\n",
    "\n",
    "# Margin of error\n",
    "margin_z = z_crit * (sigma_known / np.sqrt(n))\n",
    "\n",
    "# Confidence Interval\n",
    "ci_z = (mean_ - margin_z, mean_ + margin_z)\n",
    "\n",
    "print(\"\\n99% CI using z-distribution (known sigma = 0.2):\")\n",
    "print(f\"{ci_z[0]:.3f} to {ci_z[1]:.3f}\")"
   ]
  }
 ],
 "metadata": {
  "kernelspec": {
   "display_name": "Python 3 (ipykernel)",
   "language": "python",
   "name": "python3"
  },
  "language_info": {
   "codemirror_mode": {
    "name": "ipython",
    "version": 3
   },
   "file_extension": ".py",
   "mimetype": "text/x-python",
   "name": "python",
   "nbconvert_exporter": "python",
   "pygments_lexer": "ipython3",
   "version": "3.13.5"
  }
 },
 "nbformat": 4,
 "nbformat_minor": 5
}
