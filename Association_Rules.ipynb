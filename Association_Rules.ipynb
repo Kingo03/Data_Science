{
 "cells": [
  {
   "cell_type": "raw",
   "id": "38c8743f-8230-4972-a45b-d74f8c0c5c44",
   "metadata": {},
   "source": [
    "Assignment no. 10 - Association Rules\n",
    "\n",
    "In data mining, an association rule identifies the relationship between items in a large dataset by discovering \"if-then\" patterns, such as \"if a customer buys bread, they are likely to buy butter\". These rules are evaluated using support (how often items appear together) and confidence (the likelihood of the \"then\" part occurring given the \"if\" part), and are commonly applied in market basket analysis, recommendation systems, and fraud detection to improve business strategies and understand customer behavior.\n",
    "\n",
    "Apriori Algorithm \n",
    "Is a basic method used in data analysis to find groups of items that often appear together in large sets of data. It helps to discover useful patterns or rules about how items are related which is particularly valuable in market basket analysis.\n",
    "example: \n",
    "Like in a grocery store if many customers buy bread and butter together, the store can use this information to place these items closer or create special offers. This helps the store sell more and make customers happy.\n",
    "Key Mertics:\n",
    "\n",
    "1.Support: This metric measures how frequently an item appears in the dataset relative to the total number of transactions. A higher support indicates a more significant presence of the Item-Set in the dataset. Support tells us how often a particular item or combination of items appears in all the transactions like Bread is bought in 20% of all transactions.\n",
    "2.Confidence: Confidence assesses the likelihood that an item Y is purchased when item X is purchased. It provides insight into the strength of the association between two items. Confidence tells us how often items go together i.e If bread is bought, butter is bought 75% of the time.\n",
    "3.Lift: Lift evaluates how much more likely two items are to be purchased together compared to being purchased independently. A lift greater than 1 suggests a strong positive association. Lift shows how strong the connection is between items. Like Bread and butter are much more likely to be bought together than by chance."
   ]
  },
  {
   "cell_type": "code",
   "execution_count": 96,
   "id": "7aa77546-4121-4de5-9b0e-812523f4381e",
   "metadata": {},
   "outputs": [],
   "source": [
    "# Import Libraries\n",
    "import pandas as pd\n",
    "import numpy as np\n",
    "import matplotlib.pyplot as plt\n",
    "import seaborn as sns\n"
   ]
  },
  {
   "cell_type": "code",
   "execution_count": 97,
   "id": "33379ef8-fbbd-44e4-bf41-2700b9035a9c",
   "metadata": {},
   "outputs": [],
   "source": [
    "df = pd.read_excel('Online retail.xlsx')"
   ]
  },
  {
   "cell_type": "code",
   "execution_count": 98,
   "id": "48875595-77af-4465-9b16-d7f79ca51d8e",
   "metadata": {},
   "outputs": [
    {
     "data": {
      "text/html": [
       "<div>\n",
       "<style scoped>\n",
       "    .dataframe tbody tr th:only-of-type {\n",
       "        vertical-align: middle;\n",
       "    }\n",
       "\n",
       "    .dataframe tbody tr th {\n",
       "        vertical-align: top;\n",
       "    }\n",
       "\n",
       "    .dataframe thead th {\n",
       "        text-align: right;\n",
       "    }\n",
       "</style>\n",
       "<table border=\"1\" class=\"dataframe\">\n",
       "  <thead>\n",
       "    <tr style=\"text-align: right;\">\n",
       "      <th></th>\n",
       "      <th>shrimp,almonds,avocado,vegetables mix,green grapes,whole weat flour,yams,cottage cheese,energy drink,tomato juice,low fat yogurt,green tea,honey,salad,mineral water,salmon,antioxydant juice,frozen smoothie,spinach,olive oil</th>\n",
       "    </tr>\n",
       "  </thead>\n",
       "  <tbody>\n",
       "    <tr>\n",
       "      <th>0</th>\n",
       "      <td>burgers,meatballs,eggs</td>\n",
       "    </tr>\n",
       "    <tr>\n",
       "      <th>1</th>\n",
       "      <td>chutney</td>\n",
       "    </tr>\n",
       "    <tr>\n",
       "      <th>2</th>\n",
       "      <td>turkey,avocado</td>\n",
       "    </tr>\n",
       "    <tr>\n",
       "      <th>3</th>\n",
       "      <td>mineral water,milk,energy bar,whole wheat rice...</td>\n",
       "    </tr>\n",
       "    <tr>\n",
       "      <th>4</th>\n",
       "      <td>low fat yogurt</td>\n",
       "    </tr>\n",
       "  </tbody>\n",
       "</table>\n",
       "</div>"
      ],
      "text/plain": [
       "  shrimp,almonds,avocado,vegetables mix,green grapes,whole weat flour,yams,cottage cheese,energy drink,tomato juice,low fat yogurt,green tea,honey,salad,mineral water,salmon,antioxydant juice,frozen smoothie,spinach,olive oil\n",
       "0                             burgers,meatballs,eggs                                                                                                                                                                             \n",
       "1                                            chutney                                                                                                                                                                             \n",
       "2                                     turkey,avocado                                                                                                                                                                             \n",
       "3  mineral water,milk,energy bar,whole wheat rice...                                                                                                                                                                             \n",
       "4                                     low fat yogurt                                                                                                                                                                             "
      ]
     },
     "execution_count": 98,
     "metadata": {},
     "output_type": "execute_result"
    }
   ],
   "source": [
    "df.head()"
   ]
  },
  {
   "cell_type": "code",
   "execution_count": 99,
   "id": "271623da-8273-4761-a025-4b3e4b200d52",
   "metadata": {},
   "outputs": [
    {
     "name": "stdout",
     "output_type": "stream",
     "text": [
      "Requirement already satisfied: mlxtend in c:\\users\\harshit singh\\anaconda3\\lib\\site-packages (0.23.4)\n",
      "Requirement already satisfied: scipy>=1.2.1 in c:\\users\\harshit singh\\anaconda3\\lib\\site-packages (from mlxtend) (1.15.3)\n",
      "Requirement already satisfied: numpy>=1.16.2 in c:\\users\\harshit singh\\appdata\\roaming\\python\\python313\\site-packages (from mlxtend) (2.2.3)\n",
      "Requirement already satisfied: pandas>=0.24.2 in c:\\users\\harshit singh\\appdata\\roaming\\python\\python313\\site-packages (from mlxtend) (2.3.0)\n",
      "Requirement already satisfied: scikit-learn>=1.3.1 in c:\\users\\harshit singh\\anaconda3\\lib\\site-packages (from mlxtend) (1.6.1)\n",
      "Requirement already satisfied: matplotlib>=3.0.0 in c:\\users\\harshit singh\\anaconda3\\lib\\site-packages (from mlxtend) (3.10.0)\n",
      "Requirement already satisfied: joblib>=0.13.2 in c:\\users\\harshit singh\\appdata\\roaming\\python\\python313\\site-packages (from mlxtend) (1.4.2)\n",
      "Requirement already satisfied: contourpy>=1.0.1 in c:\\users\\harshit singh\\anaconda3\\lib\\site-packages (from matplotlib>=3.0.0->mlxtend) (1.3.1)\n",
      "Requirement already satisfied: cycler>=0.10 in c:\\users\\harshit singh\\anaconda3\\lib\\site-packages (from matplotlib>=3.0.0->mlxtend) (0.11.0)\n",
      "Requirement already satisfied: fonttools>=4.22.0 in c:\\users\\harshit singh\\anaconda3\\lib\\site-packages (from matplotlib>=3.0.0->mlxtend) (4.55.3)\n",
      "Requirement already satisfied: kiwisolver>=1.3.1 in c:\\users\\harshit singh\\anaconda3\\lib\\site-packages (from matplotlib>=3.0.0->mlxtend) (1.4.8)\n",
      "Requirement already satisfied: packaging>=20.0 in c:\\users\\harshit singh\\appdata\\roaming\\python\\python313\\site-packages (from matplotlib>=3.0.0->mlxtend) (25.0)\n",
      "Requirement already satisfied: pillow>=8 in c:\\users\\harshit singh\\anaconda3\\lib\\site-packages (from matplotlib>=3.0.0->mlxtend) (11.1.0)\n",
      "Requirement already satisfied: pyparsing>=2.3.1 in c:\\users\\harshit singh\\appdata\\roaming\\python\\python313\\site-packages (from matplotlib>=3.0.0->mlxtend) (3.2.1)\n",
      "Requirement already satisfied: python-dateutil>=2.7 in c:\\users\\harshit singh\\appdata\\roaming\\python\\python313\\site-packages (from matplotlib>=3.0.0->mlxtend) (2.9.0.post0)\n",
      "Requirement already satisfied: pytz>=2020.1 in c:\\users\\harshit singh\\appdata\\roaming\\python\\python313\\site-packages (from pandas>=0.24.2->mlxtend) (2025.2)\n",
      "Requirement already satisfied: tzdata>=2022.7 in c:\\users\\harshit singh\\appdata\\roaming\\python\\python313\\site-packages (from pandas>=0.24.2->mlxtend) (2025.2)\n",
      "Requirement already satisfied: six>=1.5 in c:\\users\\harshit singh\\appdata\\roaming\\python\\python313\\site-packages (from python-dateutil>=2.7->matplotlib>=3.0.0->mlxtend) (1.17.0)\n",
      "Requirement already satisfied: threadpoolctl>=3.1.0 in c:\\users\\harshit singh\\anaconda3\\lib\\site-packages (from scikit-learn>=1.3.1->mlxtend) (3.5.0)\n"
     ]
    }
   ],
   "source": [
    "!pip install mlxtend"
   ]
  },
  {
   "cell_type": "code",
   "execution_count": 100,
   "id": "67221dce-1827-4756-8af9-c6a08e166a16",
   "metadata": {},
   "outputs": [
    {
     "name": "stdout",
     "output_type": "stream",
     "text": [
      "Requirement already satisfied: pip in c:\\users\\harshit singh\\anaconda3\\lib\\site-packages (25.2)\n",
      "Note: you may need to restart the kernel to use updated packages.\n"
     ]
    }
   ],
   "source": [
    "pip install --upgrade pip"
   ]
  },
  {
   "cell_type": "code",
   "execution_count": 101,
   "id": "6a4eab7f-9946-496f-aa8c-e782723c999c",
   "metadata": {},
   "outputs": [],
   "source": [
    "from mlxtend.frequent_patterns import apriori , association_rules"
   ]
  },
  {
   "cell_type": "code",
   "execution_count": 102,
   "id": "a3e0f200-6fa8-4854-8404-8f2f0c0b9966",
   "metadata": {},
   "outputs": [
    {
     "data": {
      "text/html": [
       "<div>\n",
       "<style scoped>\n",
       "    .dataframe tbody tr th:only-of-type {\n",
       "        vertical-align: middle;\n",
       "    }\n",
       "\n",
       "    .dataframe tbody tr th {\n",
       "        vertical-align: top;\n",
       "    }\n",
       "\n",
       "    .dataframe thead th {\n",
       "        text-align: right;\n",
       "    }\n",
       "</style>\n",
       "<table border=\"1\" class=\"dataframe\">\n",
       "  <thead>\n",
       "    <tr style=\"text-align: right;\">\n",
       "      <th></th>\n",
       "      <th>shrimp,almonds,avocado,vegetables mix,green grapes,whole weat flour,yams,cottage cheese,energy drink,tomato juice,low fat yogurt,green tea,honey,salad,mineral water,salmon,antioxydant juice,frozen smoothie,spinach,olive oil</th>\n",
       "    </tr>\n",
       "  </thead>\n",
       "  <tbody>\n",
       "    <tr>\n",
       "      <th>0</th>\n",
       "      <td>burgers,meatballs,eggs</td>\n",
       "    </tr>\n",
       "    <tr>\n",
       "      <th>1</th>\n",
       "      <td>chutney</td>\n",
       "    </tr>\n",
       "    <tr>\n",
       "      <th>2</th>\n",
       "      <td>turkey,avocado</td>\n",
       "    </tr>\n",
       "    <tr>\n",
       "      <th>3</th>\n",
       "      <td>mineral water,milk,energy bar,whole wheat rice...</td>\n",
       "    </tr>\n",
       "    <tr>\n",
       "      <th>4</th>\n",
       "      <td>low fat yogurt</td>\n",
       "    </tr>\n",
       "    <tr>\n",
       "      <th>...</th>\n",
       "      <td>...</td>\n",
       "    </tr>\n",
       "    <tr>\n",
       "      <th>7495</th>\n",
       "      <td>butter,light mayo,fresh bread</td>\n",
       "    </tr>\n",
       "    <tr>\n",
       "      <th>7496</th>\n",
       "      <td>burgers,frozen vegetables,eggs,french fries,ma...</td>\n",
       "    </tr>\n",
       "    <tr>\n",
       "      <th>7497</th>\n",
       "      <td>chicken</td>\n",
       "    </tr>\n",
       "    <tr>\n",
       "      <th>7498</th>\n",
       "      <td>escalope,green tea</td>\n",
       "    </tr>\n",
       "    <tr>\n",
       "      <th>7499</th>\n",
       "      <td>eggs,frozen smoothie,yogurt cake,low fat yogurt</td>\n",
       "    </tr>\n",
       "  </tbody>\n",
       "</table>\n",
       "<p>7500 rows × 1 columns</p>\n",
       "</div>"
      ],
      "text/plain": [
       "     shrimp,almonds,avocado,vegetables mix,green grapes,whole weat flour,yams,cottage cheese,energy drink,tomato juice,low fat yogurt,green tea,honey,salad,mineral water,salmon,antioxydant juice,frozen smoothie,spinach,olive oil\n",
       "0                                burgers,meatballs,eggs                                                                                                                                                                             \n",
       "1                                               chutney                                                                                                                                                                             \n",
       "2                                        turkey,avocado                                                                                                                                                                             \n",
       "3     mineral water,milk,energy bar,whole wheat rice...                                                                                                                                                                             \n",
       "4                                        low fat yogurt                                                                                                                                                                             \n",
       "...                                                 ...                                                                                                                                                                             \n",
       "7495                      butter,light mayo,fresh bread                                                                                                                                                                             \n",
       "7496  burgers,frozen vegetables,eggs,french fries,ma...                                                                                                                                                                             \n",
       "7497                                            chicken                                                                                                                                                                             \n",
       "7498                                 escalope,green tea                                                                                                                                                                             \n",
       "7499    eggs,frozen smoothie,yogurt cake,low fat yogurt                                                                                                                                                                             \n",
       "\n",
       "[7500 rows x 1 columns]"
      ]
     },
     "execution_count": 102,
     "metadata": {},
     "output_type": "execute_result"
    }
   ],
   "source": [
    "df"
   ]
  },
  {
   "cell_type": "code",
   "execution_count": 103,
   "id": "dbfe5b43-f85b-4f20-ac87-03768664ed36",
   "metadata": {},
   "outputs": [],
   "source": [
    "df.columns = ['items'] # column name set to items"
   ]
  },
  {
   "cell_type": "code",
   "execution_count": 104,
   "id": "e7656106-6fdf-4794-af43-6fbc337de745",
   "metadata": {},
   "outputs": [
    {
     "data": {
      "text/html": [
       "<div>\n",
       "<style scoped>\n",
       "    .dataframe tbody tr th:only-of-type {\n",
       "        vertical-align: middle;\n",
       "    }\n",
       "\n",
       "    .dataframe tbody tr th {\n",
       "        vertical-align: top;\n",
       "    }\n",
       "\n",
       "    .dataframe thead th {\n",
       "        text-align: right;\n",
       "    }\n",
       "</style>\n",
       "<table border=\"1\" class=\"dataframe\">\n",
       "  <thead>\n",
       "    <tr style=\"text-align: right;\">\n",
       "      <th></th>\n",
       "      <th>items</th>\n",
       "    </tr>\n",
       "  </thead>\n",
       "  <tbody>\n",
       "    <tr>\n",
       "      <th>0</th>\n",
       "      <td>burgers,meatballs,eggs</td>\n",
       "    </tr>\n",
       "    <tr>\n",
       "      <th>1</th>\n",
       "      <td>chutney</td>\n",
       "    </tr>\n",
       "    <tr>\n",
       "      <th>2</th>\n",
       "      <td>turkey,avocado</td>\n",
       "    </tr>\n",
       "    <tr>\n",
       "      <th>3</th>\n",
       "      <td>mineral water,milk,energy bar,whole wheat rice...</td>\n",
       "    </tr>\n",
       "    <tr>\n",
       "      <th>4</th>\n",
       "      <td>low fat yogurt</td>\n",
       "    </tr>\n",
       "    <tr>\n",
       "      <th>...</th>\n",
       "      <td>...</td>\n",
       "    </tr>\n",
       "    <tr>\n",
       "      <th>7495</th>\n",
       "      <td>butter,light mayo,fresh bread</td>\n",
       "    </tr>\n",
       "    <tr>\n",
       "      <th>7496</th>\n",
       "      <td>burgers,frozen vegetables,eggs,french fries,ma...</td>\n",
       "    </tr>\n",
       "    <tr>\n",
       "      <th>7497</th>\n",
       "      <td>chicken</td>\n",
       "    </tr>\n",
       "    <tr>\n",
       "      <th>7498</th>\n",
       "      <td>escalope,green tea</td>\n",
       "    </tr>\n",
       "    <tr>\n",
       "      <th>7499</th>\n",
       "      <td>eggs,frozen smoothie,yogurt cake,low fat yogurt</td>\n",
       "    </tr>\n",
       "  </tbody>\n",
       "</table>\n",
       "<p>7500 rows × 1 columns</p>\n",
       "</div>"
      ],
      "text/plain": [
       "                                                  items\n",
       "0                                burgers,meatballs,eggs\n",
       "1                                               chutney\n",
       "2                                        turkey,avocado\n",
       "3     mineral water,milk,energy bar,whole wheat rice...\n",
       "4                                        low fat yogurt\n",
       "...                                                 ...\n",
       "7495                      butter,light mayo,fresh bread\n",
       "7496  burgers,frozen vegetables,eggs,french fries,ma...\n",
       "7497                                            chicken\n",
       "7498                                 escalope,green tea\n",
       "7499    eggs,frozen smoothie,yogurt cake,low fat yogurt\n",
       "\n",
       "[7500 rows x 1 columns]"
      ]
     },
     "execution_count": 104,
     "metadata": {},
     "output_type": "execute_result"
    }
   ],
   "source": [
    "df"
   ]
  },
  {
   "cell_type": "code",
   "execution_count": 105,
   "id": "baf3736f-5544-4869-85b3-061b26148d1e",
   "metadata": {},
   "outputs": [],
   "source": [
    "new_row = pd.DataFrame({'items': ['shrimp,almonds,avocado,vegetables mix,green grapes,whole weat flour,yams,cottage cheese,energy drink,tomato juice,low fat yogurt,green tea,honey,salad,mineral water,salmon,antioxydant juice,frozen smoothie,spinach,olive oil']})\n",
    "df = pd.concat([df, new_row], ignore_index=True) # readding since i lost first row data while naming the column"
   ]
  },
  {
   "cell_type": "code",
   "execution_count": 106,
   "id": "eed9fa83-43e4-444f-995a-f40161d04c74",
   "metadata": {},
   "outputs": [
    {
     "data": {
      "text/html": [
       "<div>\n",
       "<style scoped>\n",
       "    .dataframe tbody tr th:only-of-type {\n",
       "        vertical-align: middle;\n",
       "    }\n",
       "\n",
       "    .dataframe tbody tr th {\n",
       "        vertical-align: top;\n",
       "    }\n",
       "\n",
       "    .dataframe thead th {\n",
       "        text-align: right;\n",
       "    }\n",
       "</style>\n",
       "<table border=\"1\" class=\"dataframe\">\n",
       "  <thead>\n",
       "    <tr style=\"text-align: right;\">\n",
       "      <th></th>\n",
       "      <th>items</th>\n",
       "    </tr>\n",
       "  </thead>\n",
       "  <tbody>\n",
       "    <tr>\n",
       "      <th>7500</th>\n",
       "      <td>shrimp,almonds,avocado,vegetables mix,green gr...</td>\n",
       "    </tr>\n",
       "  </tbody>\n",
       "</table>\n",
       "</div>"
      ],
      "text/plain": [
       "                                                  items\n",
       "7500  shrimp,almonds,avocado,vegetables mix,green gr..."
      ]
     },
     "execution_count": 106,
     "metadata": {},
     "output_type": "execute_result"
    }
   ],
   "source": [
    "df[df['items'] == 'shrimp,almonds,avocado,vegetables mix,green grapes,whole weat flour,yams,cottage cheese,energy drink,tomato juice,low fat yogurt,green tea,honey,salad,mineral water,salmon,antioxydant juice,frozen smoothie,spinach,olive oil']"
   ]
  },
  {
   "cell_type": "code",
   "execution_count": 107,
   "id": "7b166854-3d59-4789-9e13-8b591a98d044",
   "metadata": {},
   "outputs": [
    {
     "data": {
      "text/plain": [
       "items    0\n",
       "dtype: int64"
      ]
     },
     "execution_count": 107,
     "metadata": {},
     "output_type": "execute_result"
    }
   ],
   "source": [
    "df.isnull().sum() # no null value present"
   ]
  },
  {
   "cell_type": "code",
   "execution_count": 108,
   "id": "6fdecc3b-84fd-4485-b381-515cc6b486e8",
   "metadata": {},
   "outputs": [],
   "source": [
    "df = df.drop_duplicates() # deleted duplicates"
   ]
  },
  {
   "cell_type": "code",
   "execution_count": 109,
   "id": "202f34b7-d8e8-424e-8b28-73b2bc49a486",
   "metadata": {},
   "outputs": [
    {
     "data": {
      "text/html": [
       "<div>\n",
       "<style scoped>\n",
       "    .dataframe tbody tr th:only-of-type {\n",
       "        vertical-align: middle;\n",
       "    }\n",
       "\n",
       "    .dataframe tbody tr th {\n",
       "        vertical-align: top;\n",
       "    }\n",
       "\n",
       "    .dataframe thead th {\n",
       "        text-align: right;\n",
       "    }\n",
       "</style>\n",
       "<table border=\"1\" class=\"dataframe\">\n",
       "  <thead>\n",
       "    <tr style=\"text-align: right;\">\n",
       "      <th></th>\n",
       "      <th>items</th>\n",
       "    </tr>\n",
       "  </thead>\n",
       "  <tbody>\n",
       "    <tr>\n",
       "      <th>0</th>\n",
       "      <td>burgers,meatballs,eggs</td>\n",
       "    </tr>\n",
       "    <tr>\n",
       "      <th>1</th>\n",
       "      <td>chutney</td>\n",
       "    </tr>\n",
       "    <tr>\n",
       "      <th>2</th>\n",
       "      <td>turkey,avocado</td>\n",
       "    </tr>\n",
       "    <tr>\n",
       "      <th>3</th>\n",
       "      <td>mineral water,milk,energy bar,whole wheat rice...</td>\n",
       "    </tr>\n",
       "    <tr>\n",
       "      <th>4</th>\n",
       "      <td>low fat yogurt</td>\n",
       "    </tr>\n",
       "    <tr>\n",
       "      <th>...</th>\n",
       "      <td>...</td>\n",
       "    </tr>\n",
       "    <tr>\n",
       "      <th>7493</th>\n",
       "      <td>turkey,burgers,dessert wine,shrimp,pasta,tomat...</td>\n",
       "    </tr>\n",
       "    <tr>\n",
       "      <th>7495</th>\n",
       "      <td>butter,light mayo,fresh bread</td>\n",
       "    </tr>\n",
       "    <tr>\n",
       "      <th>7496</th>\n",
       "      <td>burgers,frozen vegetables,eggs,french fries,ma...</td>\n",
       "    </tr>\n",
       "    <tr>\n",
       "      <th>7499</th>\n",
       "      <td>eggs,frozen smoothie,yogurt cake,low fat yogurt</td>\n",
       "    </tr>\n",
       "    <tr>\n",
       "      <th>7500</th>\n",
       "      <td>shrimp,almonds,avocado,vegetables mix,green gr...</td>\n",
       "    </tr>\n",
       "  </tbody>\n",
       "</table>\n",
       "<p>5176 rows × 1 columns</p>\n",
       "</div>"
      ],
      "text/plain": [
       "                                                  items\n",
       "0                                burgers,meatballs,eggs\n",
       "1                                               chutney\n",
       "2                                        turkey,avocado\n",
       "3     mineral water,milk,energy bar,whole wheat rice...\n",
       "4                                        low fat yogurt\n",
       "...                                                 ...\n",
       "7493  turkey,burgers,dessert wine,shrimp,pasta,tomat...\n",
       "7495                      butter,light mayo,fresh bread\n",
       "7496  burgers,frozen vegetables,eggs,french fries,ma...\n",
       "7499    eggs,frozen smoothie,yogurt cake,low fat yogurt\n",
       "7500  shrimp,almonds,avocado,vegetables mix,green gr...\n",
       "\n",
       "[5176 rows x 1 columns]"
      ]
     },
     "execution_count": 109,
     "metadata": {},
     "output_type": "execute_result"
    }
   ],
   "source": [
    "df # which leads to reduction of rows from 7.5k to 5.1k"
   ]
  },
  {
   "cell_type": "code",
   "execution_count": 110,
   "id": "2ae9341e-7d3c-4e8f-90d3-ef8dc42645d6",
   "metadata": {},
   "outputs": [],
   "source": [
    "df['items'] = df['items'].str.lower().str.strip() #making sure each element is in lower order + seprarted by , "
   ]
  },
  {
   "cell_type": "code",
   "execution_count": 111,
   "id": "6fa48b55-faca-439f-9dcf-54114ae4a894",
   "metadata": {},
   "outputs": [
    {
     "data": {
      "text/plain": [
       "np.int64(5176)"
      ]
     },
     "execution_count": 111,
     "metadata": {},
     "output_type": "execute_result"
    }
   ],
   "source": [
    "df['items'].count()"
   ]
  },
  {
   "cell_type": "code",
   "execution_count": 119,
   "id": "78610899-528b-4ab6-8c24-782951c5da54",
   "metadata": {},
   "outputs": [],
   "source": [
    "# Create a one-hot encoded dataframe\n",
    "from mlxtend.preprocessing import TransactionEncoder\n",
    "\n",
    "# Convert each items into a list of items (split by comma if multiple items in one cell)\n",
    "transactions = df['items'].apply(lambda x: [item.strip() for item in x.split(',')]).tolist()\n",
    "\n",
    "# Initialize TransactionEncoder\n",
    "te = TransactionEncoder()\n",
    "te_ary = te.fit(transactions).transform(transactions)\n",
    "\n",
    "basket_sets = pd.DataFrame(te_ary, columns=te.columns_)\n",
    "\n",
    "# print(transactions)"
   ]
  },
  {
   "cell_type": "code",
   "execution_count": 113,
   "id": "63f45e67-f0c5-4538-b282-6e10945eb342",
   "metadata": {},
   "outputs": [
    {
     "name": "stdout",
     "output_type": "stream",
     "text": [
      "   almonds  antioxydant juice  asparagus  avocado  babies food  bacon  \\\n",
      "0    False              False      False    False        False  False   \n",
      "1    False              False      False    False        False  False   \n",
      "2    False              False      False     True        False  False   \n",
      "3    False              False      False    False        False  False   \n",
      "4    False              False      False    False        False  False   \n",
      "\n",
      "   barbecue sauce  black tea  blueberries  body spray  ...  turkey  \\\n",
      "0           False      False        False       False  ...   False   \n",
      "1           False      False        False       False  ...   False   \n",
      "2           False      False        False       False  ...    True   \n",
      "3           False      False        False       False  ...   False   \n",
      "4           False      False        False       False  ...   False   \n",
      "\n",
      "   vegetables mix  water spray  white wine  whole weat flour  \\\n",
      "0           False        False       False             False   \n",
      "1           False        False       False             False   \n",
      "2           False        False       False             False   \n",
      "3           False        False       False             False   \n",
      "4           False        False       False             False   \n",
      "\n",
      "   whole wheat pasta  whole wheat rice   yams  yogurt cake  zucchini  \n",
      "0              False             False  False        False     False  \n",
      "1              False             False  False        False     False  \n",
      "2              False             False  False        False     False  \n",
      "3              False              True  False        False     False  \n",
      "4              False             False  False        False     False  \n",
      "\n",
      "[5 rows x 119 columns]\n",
      "almonds              152\n",
      "antioxydant juice     58\n",
      "asparagus             35\n",
      "avocado              238\n",
      "babies food           31\n",
      "                    ... \n",
      "whole wheat pasta    210\n",
      "whole wheat rice     403\n",
      "yams                  79\n",
      "yogurt cake          170\n",
      "zucchini              70\n",
      "Length: 119, dtype: int64\n"
     ]
    }
   ],
   "source": [
    "print(basket_sets.head())\n",
    "print(basket_sets.sum()) "
   ]
  },
  {
   "cell_type": "code",
   "execution_count": 115,
   "id": "e51b065b-2721-4436-a0a6-b2d42edc975d",
   "metadata": {},
   "outputs": [
    {
     "name": "stdout",
     "output_type": "stream",
     "text": [
      "                          antecedents      consequents   support  confidence  \\\n",
      "304              (chicken, chocolate)  (mineral water)  0.011012    0.518182   \n",
      "395            (chocolate, olive oil)  (mineral water)  0.011978    0.508197   \n",
      "456               (eggs, ground beef)  (mineral water)  0.014490    0.503356   \n",
      "490  (frozen vegetables, ground beef)  (mineral water)  0.013331    0.543307   \n",
      "498  (frozen vegetables, ground beef)      (spaghetti)  0.012558    0.511811   \n",
      "529               (ground beef, milk)  (mineral water)  0.016036    0.506098   \n",
      "540           (pancakes, ground beef)  (mineral water)  0.010819    0.518519   \n",
      "554                 (milk, olive oil)  (mineral water)  0.012365    0.512000   \n",
      "572                      (soup, milk)  (mineral water)  0.012365    0.576577   \n",
      "607                 (spaghetti, soup)  (mineral water)  0.010819    0.523364   \n",
      "\n",
      "         lift  \n",
      "304  1.728163  \n",
      "395  1.694862  \n",
      "456  1.678717  \n",
      "490  1.811957  \n",
      "498  2.229911  \n",
      "529  1.687861  \n",
      "540  1.729286  \n",
      "554  1.707546  \n",
      "572  1.922913  \n",
      "607  1.745448  \n"
     ]
    }
   ],
   "source": [
    "from mlxtend.frequent_patterns import apriori, association_rules\n",
    "\n",
    "# Frequent itemsets\n",
    "frequent_itemsets = apriori(basket_sets, min_support=0.01, use_colnames=True)\n",
    "\n",
    "# Generate rules\n",
    "rules = association_rules(frequent_itemsets, metric=\"lift\", min_threshold=1.2)\n",
    "\n",
    "# filter rules by confidence\n",
    "rules = rules[(rules['confidence'] >= 0.5)] # for 0.5\n",
    "\n",
    "print(rules[['antecedents','consequents','support','confidence','lift']])\n"
   ]
  },
  {
   "cell_type": "code",
   "execution_count": 121,
   "id": "a26a431a-e84c-4d7f-b1d1-1ae0e54f1097",
   "metadata": {},
   "outputs": [
    {
     "name": "stdout",
     "output_type": "stream",
     "text": [
      "     support             itemsets\n",
      "54  0.299845      (mineral water)\n",
      "73  0.229521          (spaghetti)\n",
      "24  0.208076               (eggs)\n",
      "17  0.205178          (chocolate)\n",
      "30  0.192620       (french fries)\n",
      "53  0.170015               (milk)\n",
      "40  0.169243          (green tea)\n",
      "41  0.135819        (ground beef)\n",
      "36  0.129830  (frozen vegetables)\n",
      "61  0.125193           (pancakes)\n"
     ]
    }
   ],
   "source": [
    "print(frequent_itemsets.sort_values(by=\"support\", ascending=False).head(10))\n"
   ]
  },
  {
   "cell_type": "code",
   "execution_count": 124,
   "id": "c4eadba2-85e0-43a0-8590-a024c2a9a31b",
   "metadata": {},
   "outputs": [
    {
     "name": "stdout",
     "output_type": "stream",
     "text": [
      "        antecedents      consequents   support  confidence      lift\n",
      "0         (almonds)  (mineral water)  0.011012    0.375000  1.250644\n",
      "3         (avocado)      (chocolate)  0.010240    0.222689  1.085347\n",
      "5         (avocado)   (french fries)  0.011592    0.252101  1.308800\n",
      "7         (avocado)           (milk)  0.010819    0.235294  1.383957\n",
      "9         (avocado)  (mineral water)  0.016036    0.348739  1.163064\n",
      "..              ...              ...       ...         ...       ...\n",
      "222      (pancakes)   (french fries)  0.028014    0.223765  1.161695\n",
      "225  (tomato juice)   (french fries)  0.010240    0.242009  1.256408\n",
      "229   (french wine)  (mineral water)  0.011978    0.369048  1.230793\n",
      "231   (french wine)      (spaghetti)  0.011206    0.345238  1.504169\n",
      "232   (fresh bread)           (milk)  0.013331    0.224756  1.321972\n",
      "\n",
      "[100 rows x 5 columns]\n"
     ]
    }
   ],
   "source": [
    "rules = association_rules(frequent_itemsets, metric=\"lift\", min_threshold=1.0)\n",
    "\n",
    "# filter for higher confidence\n",
    "rules = rules[rules['confidence'] >= 0.2] # for 0.2\n",
    "\n",
    "print(rules[['antecedents', 'consequents', 'support', 'confidence', 'lift']].head(100))\n"
   ]
  },
  {
   "cell_type": "code",
   "execution_count": 118,
   "id": "6427b3c9-b03e-4362-adca-c82572a743c2",
   "metadata": {},
   "outputs": [
    {
     "data": {
      "image/png": "[encoded data removed]",
      "text/plain": [
       "<Figure size 640x480 with 1 Axes>"
      ]
     },
     "metadata": {},
     "output_type": "display_data"
    }
   ],
   "source": [
    "import matplotlib.pyplot as plt\n",
    "\n",
    "plt.scatter(rules['support'], rules['confidence'], alpha=0.5)\n",
    "plt.xlabel('Support')\n",
    "plt.ylabel('Confidence')\n",
    "plt.title('Support vs Confidence')\n",
    "plt.show()\n"
   ]
  },
  {
   "cell_type": "raw",
   "id": "6db01768-38ef-4699-9ebd-815a1f67b619",
   "metadata": {},
   "source": [
    "What is lift and why is it important?\n",
    "\n",
    "Lift measures the strength of a rule compared to random chance.\n",
    "Lift > 1 → items are positively correlated.\n",
    "Lift = 1 → no correlation.\n",
    "Lift < 1 → negative correlation.\n",
    "Important because it tells us whether a co-purchase is meaningful or just by chance.\n",
    "\n",
    "What is support and confidence? How to calculate?\n",
    "\n",
    "Support: Fraction of transactions containing the itemset.\n",
    "Support(A)=Transactions containing A /Total transactions\n",
    "\n",
    "Confidence: How likely the consequent is purchased when antecedent is purchased.\n",
    "Confidence(𝐴→𝐵)=(Transactions containing A ∪ B )/Transactions containing A\n",
    "\n",
    "\n",
    "Limitations of Association Rule Mining:\n",
    "Generates too many rules → need thresholds to filter.\n",
    "Sensitive to support/confidence settings.\n",
    "Doesn’t capture temporal sequences (when items are purchased).\n",
    "Only identifies correlation, not causation."
   ]
  }
 ],
 "metadata": {
  "kernelspec": {
   "display_name": "Python 3 (ipykernel)",
   "language": "python",
   "name": "python3"
  },
  "language_info": {
   "codemirror_mode": {
    "name": "ipython",
    "version": 3
   },
   "file_extension": ".py",
   "mimetype": "text/x-python",
   "name": "python",
   "nbconvert_exporter": "python",
   "pygments_lexer": "ipython3",
   "version": "3.13.5"
  }
 },
 "nbformat": 4,
 "nbformat_minor": 5
}
