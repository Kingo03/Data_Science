{
 "cells": [
  {
   "cell_type": "raw",
   "id": "bb870fd1-5778-44af-8730-89f9c180e330",
   "metadata": {},
   "source": [
    "Assignment no 16 - KNN (k- nearest neigbour)\n",
    "\n",
    "K-Nearest Neighbors (KNN) is a supervised machine learning algorithm generally used for classification but can also be used for regression tasks.\n",
    "It works by finding the \"k\" closest data points (neighbors) to a given input and makes a predictions based on the majority class (for classification) or the average value (for regression).\n",
    "Since KNN makes no assumptions about the underlying data distribution it makes it a non-parametric and instance-based learning method.\n",
    "\n",
    "K-Nearest Neighbors is also called as a lazy learner algorithm because it does not learn from the training set immediately instead it stores the entire dataset and performs computations only at the time of classification."
   ]
  },
  {
   "cell_type": "raw",
   "id": "9b71921d-2c1f-4067-bba7-6a720e043e6c",
   "metadata": {},
   "source": [
    "what is K in KNN-\n",
    "In the k-Nearest Neighbours algorithm k is just a number that tells the algorithm how many nearby points or neighbors to look at when it makes a decision.\n",
    "\n",
    "Example: Imagine you're deciding which fruit it is based on its shape and size. You compare it to fruits you already know.\n",
    "If k = 3, the algorithm looks at the 3 closest fruits to the new one.\n",
    "If 2 of those 3 fruits are apples and 1 is a banana, the algorithm says the new fruit is an apple because most of its neighbors are apples.\n",
    "\n",
    "How to choose the value of k for KNN Algorithm?\n",
    "The value of k in KNN decides how many neighbors the algorithm looks at when making a prediction.\n",
    "Choosing the right k is important for good results.\n",
    "If the data has lots of noise or outliers, using a larger k can make the predictions more stable.\n",
    "But if k is too large the model may become too simple and miss important patterns and this is called underfitting.\n",
    "So k should be picked carefully based on the data\n",
    "\n",
    "Statistical Methods to choose K- \n",
    "1. cross validation\n",
    "2. elbow method\n",
    "3. odd value for k "
   ]
  },
  {
   "cell_type": "raw",
   "id": "743b897a-83eb-46b8-87f9-84997e0d9638",
   "metadata": {},
   "source": [
    "Distance Metrics Used in KNN Algorithm\n",
    "1. Euclidean Distance\n",
    "2. Manhattan Distance\n",
    "3. Minkowski Distance : when p = 2 its Euclidean distance and when p = 1 its manhattan \n",
    "\n",
    "d(x,y)=(∑ i=1 to n(xi−yi)^p)^1/p\n",
    "when p = 1\n",
    "d(x,y)=(∑ i=1 to n(xi−yi)^1)^1/1\n",
    "when p = 2\n",
    "d(x,y)=(∑ i=1 to n (xi−yi)^2)^1/2\n",
    "\n"
   ]
  },
  {
   "cell_type": "raw",
   "id": "fb4c148c-e9f6-443c-a939-2e2bb7a0c867",
   "metadata": {},
   "source": [
    "working of KNN:\n",
    "\n",
    "Step 1: Selecting the optimal value of K\n",
    "K represents the number of nearest neighbors that needs to be considered while making prediction.\n",
    "\n",
    "Step 2: Calculating distance\n",
    "To measure the similarity between target and training data points Euclidean distance is widely used. Distance is calculated between data points in the dataset and target point.\n",
    "\n",
    "Step 3: Finding Nearest Neighbors\n",
    "The k data points with the smallest distances to the target point are nearest neighbors.\n",
    "\n",
    "Step 4: Voting for Classification or Taking Average for Regression\n",
    "When you want to classify a data point into a category like spam or not spam, the KNN algorithm looks at the K closest points in the dataset. These closest points are called neighbors. The algorithm then looks at which category the neighbors belong to and picks the one that appears the most. This is called majority voting.\n",
    "In regression, the algorithm still looks for the K closest points. But instead of voting for a class in classification, it takes the average of the values of those K neighbors. This average is the predicted value for the new point for the algorithm."
   ]
  },
  {
   "cell_type": "code",
   "execution_count": 1,
   "id": "366c90ba-95af-4046-832b-070dd174c2a0",
   "metadata": {},
   "outputs": [],
   "source": [
    "import numpy as np\n",
    "import pandas as pd\n",
    "import matplotlib.pyplot as plt\n",
    "import seaborn as sns"
   ]
  },
  {
   "cell_type": "code",
   "execution_count": 2,
   "id": "bed0d8ba-8690-49d7-87e5-5293a890e631",
   "metadata": {},
   "outputs": [],
   "source": [
    "df = pd.read_csv('zoo.csv')"
   ]
  },
  {
   "cell_type": "code",
   "execution_count": 3,
   "id": "bc4bfc5f-629b-46be-94cb-36ff4c6d86ba",
   "metadata": {},
   "outputs": [
    {
     "data": {
      "text/html": [
       "<div>\n",
       "<style scoped>\n",
       "    .dataframe tbody tr th:only-of-type {\n",
       "        vertical-align: middle;\n",
       "    }\n",
       "\n",
       "    .dataframe tbody tr th {\n",
       "        vertical-align: top;\n",
       "    }\n",
       "\n",
       "    .dataframe thead th {\n",
       "        text-align: right;\n",
       "    }\n",
       "</style>\n",
       "<table border=\"1\" class=\"dataframe\">\n",
       "  <thead>\n",
       "    <tr style=\"text-align: right;\">\n",
       "      <th></th>\n",
       "      <th>animal name</th>\n",
       "      <th>hair</th>\n",
       "      <th>feathers</th>\n",
       "      <th>eggs</th>\n",
       "      <th>milk</th>\n",
       "      <th>airborne</th>\n",
       "      <th>aquatic</th>\n",
       "      <th>predator</th>\n",
       "      <th>toothed</th>\n",
       "      <th>backbone</th>\n",
       "      <th>breathes</th>\n",
       "      <th>venomous</th>\n",
       "      <th>fins</th>\n",
       "      <th>legs</th>\n",
       "      <th>tail</th>\n",
       "      <th>domestic</th>\n",
       "      <th>catsize</th>\n",
       "      <th>type</th>\n",
       "    </tr>\n",
       "  </thead>\n",
       "  <tbody>\n",
       "    <tr>\n",
       "      <th>0</th>\n",
       "      <td>aardvark</td>\n",
       "      <td>1</td>\n",
       "      <td>0</td>\n",
       "      <td>0</td>\n",
       "      <td>1</td>\n",
       "      <td>0</td>\n",
       "      <td>0</td>\n",
       "      <td>1</td>\n",
       "      <td>1</td>\n",
       "      <td>1</td>\n",
       "      <td>1</td>\n",
       "      <td>0</td>\n",
       "      <td>0</td>\n",
       "      <td>4</td>\n",
       "      <td>0</td>\n",
       "      <td>0</td>\n",
       "      <td>1</td>\n",
       "      <td>1</td>\n",
       "    </tr>\n",
       "    <tr>\n",
       "      <th>1</th>\n",
       "      <td>antelope</td>\n",
       "      <td>1</td>\n",
       "      <td>0</td>\n",
       "      <td>0</td>\n",
       "      <td>1</td>\n",
       "      <td>0</td>\n",
       "      <td>0</td>\n",
       "      <td>0</td>\n",
       "      <td>1</td>\n",
       "      <td>1</td>\n",
       "      <td>1</td>\n",
       "      <td>0</td>\n",
       "      <td>0</td>\n",
       "      <td>4</td>\n",
       "      <td>1</td>\n",
       "      <td>0</td>\n",
       "      <td>1</td>\n",
       "      <td>1</td>\n",
       "    </tr>\n",
       "    <tr>\n",
       "      <th>2</th>\n",
       "      <td>bass</td>\n",
       "      <td>0</td>\n",
       "      <td>0</td>\n",
       "      <td>1</td>\n",
       "      <td>0</td>\n",
       "      <td>0</td>\n",
       "      <td>1</td>\n",
       "      <td>1</td>\n",
       "      <td>1</td>\n",
       "      <td>1</td>\n",
       "      <td>0</td>\n",
       "      <td>0</td>\n",
       "      <td>1</td>\n",
       "      <td>0</td>\n",
       "      <td>1</td>\n",
       "      <td>0</td>\n",
       "      <td>0</td>\n",
       "      <td>4</td>\n",
       "    </tr>\n",
       "    <tr>\n",
       "      <th>3</th>\n",
       "      <td>bear</td>\n",
       "      <td>1</td>\n",
       "      <td>0</td>\n",
       "      <td>0</td>\n",
       "      <td>1</td>\n",
       "      <td>0</td>\n",
       "      <td>0</td>\n",
       "      <td>1</td>\n",
       "      <td>1</td>\n",
       "      <td>1</td>\n",
       "      <td>1</td>\n",
       "      <td>0</td>\n",
       "      <td>0</td>\n",
       "      <td>4</td>\n",
       "      <td>0</td>\n",
       "      <td>0</td>\n",
       "      <td>1</td>\n",
       "      <td>1</td>\n",
       "    </tr>\n",
       "    <tr>\n",
       "      <th>4</th>\n",
       "      <td>boar</td>\n",
       "      <td>1</td>\n",
       "      <td>0</td>\n",
       "      <td>0</td>\n",
       "      <td>1</td>\n",
       "      <td>0</td>\n",
       "      <td>0</td>\n",
       "      <td>1</td>\n",
       "      <td>1</td>\n",
       "      <td>1</td>\n",
       "      <td>1</td>\n",
       "      <td>0</td>\n",
       "      <td>0</td>\n",
       "      <td>4</td>\n",
       "      <td>1</td>\n",
       "      <td>0</td>\n",
       "      <td>1</td>\n",
       "      <td>1</td>\n",
       "    </tr>\n",
       "  </tbody>\n",
       "</table>\n",
       "</div>"
      ],
      "text/plain": [
       "  animal name  hair  feathers  eggs  milk  airborne  aquatic  predator  \\\n",
       "0    aardvark     1         0     0     1         0        0         1   \n",
       "1    antelope     1         0     0     1         0        0         0   \n",
       "2        bass     0         0     1     0         0        1         1   \n",
       "3        bear     1         0     0     1         0        0         1   \n",
       "4        boar     1         0     0     1         0        0         1   \n",
       "\n",
       "   toothed  backbone  breathes  venomous  fins  legs  tail  domestic  catsize  \\\n",
       "0        1         1         1         0     0     4     0         0        1   \n",
       "1        1         1         1         0     0     4     1         0        1   \n",
       "2        1         1         0         0     1     0     1         0        0   \n",
       "3        1         1         1         0     0     4     0         0        1   \n",
       "4        1         1         1         0     0     4     1         0        1   \n",
       "\n",
       "   type  \n",
       "0     1  \n",
       "1     1  \n",
       "2     4  \n",
       "3     1  \n",
       "4     1  "
      ]
     },
     "execution_count": 3,
     "metadata": {},
     "output_type": "execute_result"
    }
   ],
   "source": [
    "df.head()"
   ]
  },
  {
   "cell_type": "code",
   "execution_count": 4,
   "id": "0fc275f5-1ad5-4346-b98a-51002691306f",
   "metadata": {},
   "outputs": [
    {
     "data": {
      "text/plain": [
       "(101, 18)"
      ]
     },
     "execution_count": 4,
     "metadata": {},
     "output_type": "execute_result"
    }
   ],
   "source": [
    "df.shape"
   ]
  },
  {
   "cell_type": "code",
   "execution_count": 5,
   "id": "cccab22a-5a51-4b59-8274-ae014957512c",
   "metadata": {},
   "outputs": [
    {
     "name": "stdout",
     "output_type": "stream",
     "text": [
      "<class 'pandas.core.frame.DataFrame'>\n",
      "RangeIndex: 101 entries, 0 to 100\n",
      "Data columns (total 18 columns):\n",
      " #   Column       Non-Null Count  Dtype \n",
      "---  ------       --------------  ----- \n",
      " 0   animal name  101 non-null    object\n",
      " 1   hair         101 non-null    int64 \n",
      " 2   feathers     101 non-null    int64 \n",
      " 3   eggs         101 non-null    int64 \n",
      " 4   milk         101 non-null    int64 \n",
      " 5   airborne     101 non-null    int64 \n",
      " 6   aquatic      101 non-null    int64 \n",
      " 7   predator     101 non-null    int64 \n",
      " 8   toothed      101 non-null    int64 \n",
      " 9   backbone     101 non-null    int64 \n",
      " 10  breathes     101 non-null    int64 \n",
      " 11  venomous     101 non-null    int64 \n",
      " 12  fins         101 non-null    int64 \n",
      " 13  legs         101 non-null    int64 \n",
      " 14  tail         101 non-null    int64 \n",
      " 15  domestic     101 non-null    int64 \n",
      " 16  catsize      101 non-null    int64 \n",
      " 17  type         101 non-null    int64 \n",
      "dtypes: int64(17), object(1)\n",
      "memory usage: 14.3+ KB\n"
     ]
    }
   ],
   "source": [
    "df.info() "
   ]
  },
  {
   "cell_type": "code",
   "execution_count": null,
   "id": "b8e04d8c-7402-4aed-8851-23457cbab6bc",
   "metadata": {},
   "outputs": [],
   "source": [
    "# its a clean dataset."
   ]
  },
  {
   "cell_type": "code",
   "execution_count": 10,
   "id": "516f6ea0-e650-4896-bd78-2613fbbb46e3",
   "metadata": {},
   "outputs": [],
   "source": [
    "from sklearn.model_selection import train_test_split\n",
    "from sklearn.preprocessing import StandardScaler\n",
    "from sklearn.neighbors import KNeighborsClassifier\n",
    "from sklearn.metrics import accuracy_score, precision_score, recall_score, f1_score, confusion_matrix"
   ]
  },
  {
   "cell_type": "code",
   "execution_count": 12,
   "id": "19cba031-76d5-4408-af34-cf3ab78a6ced",
   "metadata": {},
   "outputs": [],
   "source": [
    "# Drop animal name if present\n",
    "if 'animal name' in df.columns:\n",
    "    df.drop('animal name', axis=1, inplace=True)\n"
   ]
  },
  {
   "cell_type": "code",
   "execution_count": 13,
   "id": "9ad81872-0007-41f0-a9a8-f77c5e4f8c1f",
   "metadata": {},
   "outputs": [],
   "source": [
    "# Features and target\n",
    "# Assuming the target column is 'class_type'\n",
    "X = df.drop('type', axis=1)\n",
    "y = df['type']\n",
    "\n",
    "# --- Train-test split ---\n",
    "X_train, X_test, y_train, y_test = train_test_split(\n",
    "    X, y, test_size=0.2, random_state=42, stratify=y\n",
    ")\n"
   ]
  },
  {
   "cell_type": "code",
   "execution_count": 14,
   "id": "a6a6bc2b-4fef-4ba0-9796-225fcc8b6a26",
   "metadata": {},
   "outputs": [],
   "source": [
    "# --- Feature Scaling (important for KNN) ---\n",
    "scaler = StandardScaler()\n",
    "X_train_scaled = scaler.fit_transform(X_train)\n",
    "X_test_scaled = scaler.transform(X_test)"
   ]
  },
  {
   "cell_type": "code",
   "execution_count": 15,
   "id": "d4151736-fed1-4cb7-ab69-0b8227623e48",
   "metadata": {},
   "outputs": [],
   "source": [
    "# --- KNN Model ---\n",
    "knn = KNeighborsClassifier(n_neighbors=5)  # You can tune n_neighbors\n",
    "knn.fit(X_train_scaled, y_train)\n",
    "\n",
    "# --- Predictions ---\n",
    "y_pred = knn.predict(X_test_scaled)\n"
   ]
  },
  {
   "cell_type": "code",
   "execution_count": 16,
   "id": "b9271252-020d-4715-9306-2cfdd9e10296",
   "metadata": {},
   "outputs": [
    {
     "name": "stdout",
     "output_type": "stream",
     "text": [
      "KNN Performance (Zoo Dataset):\n",
      "Accuracy : 1.0000\n",
      "Precision: 1.0000\n",
      "Recall   : 1.0000\n",
      "F1-score : 1.0000\n",
      "Confusion Matrix:\n",
      "[[8 0 0 0 0 0 0]\n",
      " [0 4 0 0 0 0 0]\n",
      " [0 0 1 0 0 0 0]\n",
      " [0 0 0 3 0 0 0]\n",
      " [0 0 0 0 1 0 0]\n",
      " [0 0 0 0 0 2 0]\n",
      " [0 0 0 0 0 0 2]]\n"
     ]
    }
   ],
   "source": [
    "# --- Evaluation ---\n",
    "accuracy = accuracy_score(y_test, y_pred)\n",
    "precision = precision_score(y_test, y_pred, average='weighted')\n",
    "recall = recall_score(y_test, y_pred, average='weighted')\n",
    "f1 = f1_score(y_test, y_pred, average='weighted')\n",
    "conf_matrix = confusion_matrix(y_test, y_pred)\n",
    "\n",
    "print(\"KNN Performance (Zoo Dataset):\")\n",
    "print(f\"Accuracy : {accuracy:.4f}\")\n",
    "print(f\"Precision: {precision:.4f}\")\n",
    "print(f\"Recall   : {recall:.4f}\")\n",
    "print(f\"F1-score : {f1:.4f}\")\n",
    "print(\"Confusion Matrix:\")\n",
    "print(conf_matrix)"
   ]
  },
  {
   "cell_type": "code",
   "execution_count": 21,
   "id": "dca1cdea-2a9b-44b8-ae76-f9765148cfda",
   "metadata": {},
   "outputs": [
    {
     "data": {
      "image/png": "[encoded data removed]",
      "text/plain": [
       "<Figure size 1000x600 with 1 Axes>"
      ]
     },
     "metadata": {},
     "output_type": "display_data"
    }
   ],
   "source": [
    "from matplotlib.colors import ListedColormap \n",
    "# --- Select 2 features for visualization ---\n",
    "features = ['hair', 'feathers']  # Choose any 2 features\n",
    "X = df[features]\n",
    "y = df['type']\n",
    "\n",
    "# Train-test split\n",
    "X_train, X_test, y_train, y_test = train_test_split(\n",
    "    X, y, test_size=0.2, random_state=42, stratify=y\n",
    ")\n",
    "\n",
    "# Feature scaling\n",
    "scaler = StandardScaler()\n",
    "X_train_scaled = scaler.fit_transform(X_train)\n",
    "X_test_scaled = scaler.transform(X_test)\n",
    "\n",
    "# --- Train KNN on 2 features only ---\n",
    "knn_2d = KNeighborsClassifier(n_neighbors=5)\n",
    "knn_2d.fit(X_train_scaled, y_train)\n",
    "\n",
    "# --- Create meshgrid for decision boundary ---\n",
    "h = 0.02\n",
    "x_min, x_max = X_train_scaled[:, 0].min() - 1, X_train_scaled[:, 0].max() + 1\n",
    "y_min, y_max = X_train_scaled[:, 1].min() - 1, X_train_scaled[:, 1].max() + 1\n",
    "xx, yy = np.meshgrid(np.arange(x_min, x_max, h),\n",
    "                     np.arange(y_min, y_max, h))\n",
    "\n",
    "Z = knn_2d.predict(np.c_[xx.ravel(), yy.ravel()])\n",
    "Z = Z.reshape(xx.shape)\n",
    "\n",
    "# Plot\n",
    "cmap_light = ListedColormap(['#FFAAAA', '#AAFFAA', '#AAAAFF', '#FFFFAA', '#FFAACC', '#AAFFFF', '#DDAAFF'])\n",
    "cmap_bold  = ListedColormap(['#FF0000', '#00FF00', '#0000FF', '#FFFF00', '#FF00AA', '#00FFFF', '#AA00FF'])\n",
    "\n",
    "plt.figure(figsize=(10,6))\n",
    "plt.contourf(xx, yy, Z, cmap=cmap_light, alpha=0.5)\n",
    "\n",
    "# Plot training points\n",
    "for idx, class_label in enumerate(np.unique(y)):\n",
    "    plt.scatter(X_train_scaled[y_train == class_label, 0],\n",
    "                X_train_scaled[y_train == class_label, 1],\n",
    "                c=[cmap_bold(idx)],\n",
    "                label=f'Class {class_label}',\n",
    "                edgecolor='k',\n",
    "                s=80)\n",
    "\n",
    "plt.xlabel(features[0] + ' (scaled)')\n",
    "plt.ylabel(features[1] + ' (scaled)')\n",
    "plt.title('KNN Decision Boundaries (Zoo Dataset)')\n",
    "plt.legend()\n",
    "plt.show()"
   ]
  },
  {
   "cell_type": "raw",
   "id": "383e4ddb-79b4-4e40-8b4a-014d7e58fe2d",
   "metadata": {},
   "source": [
    "1. What are the key hyperparameters in KNN?\n",
    "2. What distance metrics can be used in KNN? \n",
    "\n",
    "I have answered them above in knn description part."
   ]
  }
 ],
 "metadata": {
  "kernelspec": {
   "display_name": "Python 3 (ipykernel)",
   "language": "python",
   "name": "python3"
  },
  "language_info": {
   "codemirror_mode": {
    "name": "ipython",
    "version": 3
   },
   "file_extension": ".py",
   "mimetype": "text/x-python",
   "name": "python",
   "nbconvert_exporter": "python",
   "pygments_lexer": "ipython3",
   "version": "3.13.5"
  }
 },
 "nbformat": 4,
 "nbformat_minor": 5
}
