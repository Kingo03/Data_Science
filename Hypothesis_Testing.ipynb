{
 "cells": [
  {
   "cell_type": "raw",
   "id": "39f746cc-c289-43f4-96f9-d6c0dd00e92c",
   "metadata": {},
   "source": [
    "Assignment no. 4"
   ]
  },
  {
   "cell_type": "raw",
   "id": "e43b2e29-56e6-4b44-805d-70cda07cfc5d",
   "metadata": {},
   "source": [
    "Assignment part 1: Hypothesis Test\n",
    "\n",
    "1. state the hypothesis statement:\n",
    "\n",
    "Hypothesis is the statistical method that uses sample data to evaluate an assumption (hypothesis) about the population.\n",
    "we use null hypothesis(H0) which is statement and we try to prove it wrong with another hypothesis named Alternate Hypothesi(H1) which is Negation of (H0).\n",
    "To do this we use different terms:\n",
    "1.Significance level\n",
    "2.p_value\n",
    "3.Test_stats\n",
    "4.Ciritical_value(t_score when alpha is not known + for small data size and z_score when alpha is given and data size is big can also use for small too)\n",
    "5.Degree of Freedom\n",
    "\n",
    "Types of hypothesis \n",
    "1.one tailed\n",
    "  - Right Tailed\n",
    "  - Left Tailed \n",
    "2.Two-Tailed \n",
    "\n",
    "here,\n",
    "* The null hypothesis (H₀): The mean weekly operating cost = model value (Rs. 4,000).\n",
    "* The alternative hypothesis (H₁): The mean weekly operating cost ≠ model value (or specifically, < 4000 in a left-tailed test)."
   ]
  },
  {
   "cell_type": "code",
   "execution_count": 7,
   "id": "4f6de87a-8efd-4c19-bd3b-c1b658e74999",
   "metadata": {},
   "outputs": [
    {
     "name": "stdout",
     "output_type": "stream",
     "text": [
      "Theoretical Mean (mu): 4000\n",
      "Standard Error (SE): 25.0\n",
      "t-statistic: -38.0\n"
     ]
    }
   ],
   "source": [
    "# 2.Calculate the Test Statistic:\n",
    "import math\n",
    "# t_stat = m/(s/sqrt(n))\n",
    "# Given values\n",
    "x_bar = 3050            # Sample mean\n",
    "mu = 1000 + 5 * 600     # Theoretical mean\n",
    "s = 5 * 25              # Standard deviation\n",
    "n = 25                  # Sample size\n",
    "\n",
    "# Step 1: Standard Error\n",
    "SE = s / math.sqrt(n)\n",
    "\n",
    "# Step 2: Test Statistic\n",
    "t_stat = (x_bar - mu) / SE\n",
    "\n",
    "print(\"Theoretical Mean (mu):\", mu)\n",
    "print(\"Standard Error (SE):\", SE)\n",
    "print(\"t-statistic:\", t_stat)"
   ]
  },
  {
   "cell_type": "code",
   "execution_count": 9,
   "id": "52d87c6a-2683-4b14-b2cd-921406a8ffba",
   "metadata": {},
   "outputs": [
    {
     "name": "stdout",
     "output_type": "stream",
     "text": [
      "1.959963984540054\n"
     ]
    }
   ],
   "source": [
    "# 3. Determine the Critical Value:\n",
    "from scipy.stats import norm\n",
    "alpha = 0.05\n",
    "critical_val = norm.ppf(1 - alpha/2)\n",
    "print(critical_val)"
   ]
  },
  {
   "cell_type": "code",
   "execution_count": 5,
   "id": "1c7e3c9a-6416-4d27-93c8-42172f136f9a",
   "metadata": {},
   "outputs": [
    {
     "name": "stdout",
     "output_type": "stream",
     "text": [
      "Reject H0: Sample mean is significantly different from population mean.\n"
     ]
    }
   ],
   "source": [
    "# 4. Make a Decision:\n",
    "\n",
    "if abs(t_stat) > critical_val:\n",
    "    print(\"Reject H0: Sample mean is significantly different from population mean.\")\n",
    "else:\n",
    "    print(\"Fail to reject H0: No significant difference.\")"
   ]
  },
  {
   "cell_type": "raw",
   "id": "0d522e5f-6239-4b1e-abc6-ae7a102df0b9",
   "metadata": {},
   "source": [
    "5. Conclusion:\n",
    "\n",
    "Since we got z = -38 (way below critical), we have strong evidence to reject H₀.\n",
    "Conclusion: The sample data provides very strong evidence that the actual weekly operating costs (≈ Rs. 3,050) are lower than what the cost model suggests (Rs. 4,000)."
   ]
  },
  {
   "cell_type": "raw",
   "id": "f5ee2424-fe47-4ec8-8f13-e476c3cec0bd",
   "metadata": {},
   "source": [
    "Assignment part 2:CHI-SQUARE TEST\n",
    "\n",
    "Chi-squared test indicates that there is a relationship between two entities. Handling data often involves testing hypotheses to extract useful information. In categorical analysis, chi-square tests are used to determine whether observed frequencies differ significantly from expected frequencies under a given hypothesis.Bascially,Chi-squared test, or χ² test, helps in determining whether these two variables are associated with each other."
   ]
  },
  {
   "cell_type": "raw",
   "id": "b307d5be-a116-456d-a0c5-de3026493674",
   "metadata": {},
   "source": [
    "1. State the Hypotheses:\n",
    "\n",
    "Null hypothesis (H₀): Device type and customer satisfaction are independent (no association).\n",
    "Alternative hypothesis (H₁): Device type and customer satisfaction are associated (dependent).\n"
   ]
  },
  {
   "cell_type": "code",
   "execution_count": 3,
   "id": "d8b0e6d2-9a8d-45d9-a5c8-17bf1465e0aa",
   "metadata": {},
   "outputs": [
    {
     "name": "stdout",
     "output_type": "stream",
     "text": [
      "Chi-Square Statistic: 5.638227513227513\n",
      "Degrees of Freedom: 4\n",
      "p-value: 0.22784371130697179\n",
      "Expected Frequencies:\n",
      " [[ 48.  72.]\n",
      " [ 72. 108.]\n",
      " [ 60.  90.]\n",
      " [ 32.  48.]\n",
      " [ 28.  42.]]\n"
     ]
    }
   ],
   "source": [
    "# 2. Compute the Chi-Square Statistic:\n",
    "import numpy as np\n",
    "import scipy.stats as stats\n",
    "\n",
    "# Observed frequencies (from the given table)\n",
    "observed = np.array([\n",
    "    [50, 70],   # Very Satisfied\n",
    "    [80, 100],  # Satisfied\n",
    "    [60, 90],   # Neutral\n",
    "    [30, 50],   # Unsatisfied\n",
    "    [20, 50]    # Very Unsatisfied\n",
    "])\n",
    "\n",
    "# Perform Chi-Square test\n",
    "chi2, p, dof, expected = stats.chi2_contingency(observed)\n",
    "\n",
    "print(\"Chi-Square Statistic:\", chi2)\n",
    "print(\"Degrees of Freedom:\", dof)\n",
    "print(\"p-value:\", p)\n",
    "print(\"Expected Frequencies:\\n\", expected)\n",
    "\n",
    "\n",
    "\n"
   ]
  },
  {
   "cell_type": "code",
   "execution_count": 4,
   "id": "aac9c12a-8a4f-40ce-97aa-d7ac95f60e53",
   "metadata": {},
   "outputs": [
    {
     "name": "stdout",
     "output_type": "stream",
     "text": [
      "Critical Value (0.05): 9.487729036781154\n"
     ]
    }
   ],
   "source": [
    "# 3. Determine the Critical Value:\n",
    "# Critical value at 0.05 significance level\n",
    "alpha = 0.05\n",
    "critical_value = stats.chi2.ppf(1 - alpha, dof)\n",
    "\n",
    "print(\"Critical Value (0.05):\", critical_value)"
   ]
  },
  {
   "cell_type": "code",
   "execution_count": 5,
   "id": "05c1a525-891e-42db-8242-338ba4b277fb",
   "metadata": {},
   "outputs": [
    {
     "name": "stdout",
     "output_type": "stream",
     "text": [
      "Fail to Reject H0 → No significant association.\n"
     ]
    }
   ],
   "source": [
    "# Make a Decision\n",
    "if chi2 > critical_value:\n",
    "    print(\"Reject H0 → There is a significant association.\")\n",
    "else:\n",
    "    print(\"Fail to Reject H0 → No significant association.\")"
   ]
  },
  {
   "cell_type": "raw",
   "id": "2c6f96fc-6ed6-4b39-91ec-9257fb375c04",
   "metadata": {},
   "source": [
    "Conclusion:\n",
    "There is no significant association between the type of smart home device and customer satisfaction. \n",
    "Satisfaction appears independent of device type."
   ]
  }
 ],
 "metadata": {
  "kernelspec": {
   "display_name": "Python 3 (ipykernel)",
   "language": "python",
   "name": "python3"
  },
  "language_info": {
   "codemirror_mode": {
    "name": "ipython",
    "version": 3
   },
   "file_extension": ".py",
   "mimetype": "text/x-python",
   "name": "python",
   "nbconvert_exporter": "python",
   "pygments_lexer": "ipython3",
   "version": "3.13.5"
  }
 },
 "nbformat": 4,
 "nbformat_minor": 5
}
