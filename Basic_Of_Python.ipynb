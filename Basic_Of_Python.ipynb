{
 "cells": [
  {
   "cell_type": "raw",
   "id": "1d021aa1-fed7-412b-8397-7666aa7b9610",
   "metadata": {},
   "source": [
    "Assignment no. 3"
   ]
  },
  {
   "cell_type": "code",
   "execution_count": 41,
   "id": "c0fda0c0-2a32-4e1b-9676-0bbfe66f9e47",
   "metadata": {},
   "outputs": [
    {
     "name": "stdin",
     "output_type": "stream",
     "text": [
      "Enter the number 19\n"
     ]
    },
    {
     "data": {
      "text/plain": [
       "True"
      ]
     },
     "execution_count": 41,
     "metadata": {},
     "output_type": "execute_result"
    }
   ],
   "source": [
    "# Exercise 1: Prime Numbers\n",
    "import math\n",
    "def is_prime(number):\n",
    "\n",
    "    if number <= 1:\n",
    "        return False  # Numbers less than or equal to 1 are not prime\n",
    "    if number == 2:\n",
    "        return True   # 2 is the only even prime number\n",
    "    if number % 2 == 0:\n",
    "        return False  # Other even numbers are not prime\n",
    "\n",
    "    # Check for divisibility by odd numbers up to the square root of the number\n",
    "    for i in range(3, int(math.sqrt(number)) + 1, 2):\n",
    "        if number % i == 0:\n",
    "            return False\n",
    "    return True\n",
    "\n",
    "number = int(input((\"Enter the number\")))\n",
    "is_prime(number)\n"
   ]
  },
  {
   "cell_type": "code",
   "execution_count": 56,
   "id": "f9a56982-f068-4d76-90d9-64af90de1a1b",
   "metadata": {},
   "outputs": [
    {
     "name": "stdout",
     "output_type": "stream",
     "text": [
      "61 82\n"
     ]
    },
    {
     "name": "stdin",
     "output_type": "stream",
     "text": [
      "The product of Two number is: 455\n"
     ]
    },
    {
     "name": "stdout",
     "output_type": "stream",
     "text": [
      "Try Again!\n"
     ]
    }
   ],
   "source": [
    "#Exercise 2: Product of Random Numbers\n",
    "import random \n",
    "num1 = random.randint(1,100)\n",
    "num2 = random.randint(1, 100)\n",
    "\n",
    "print(num1, num2)\n",
    "product = int(input(\"The product of Two number is:\"))\n",
    "              \n",
    "prod = num1*num2\n",
    "\n",
    "if prod == product:\n",
    "    print(f\"yes, your product of number {product} is same as mine {prod}\")\n",
    "else:\n",
    "    print(f\"Try Again!\")"
   ]
  },
  {
   "cell_type": "code",
   "execution_count": 66,
   "id": "c26034de-5c70-4f1f-9100-335e1bd990f5",
   "metadata": {},
   "outputs": [
    {
     "name": "stdin",
     "output_type": "stream",
     "text": [
      "Enter 1 for even, 2 for odd:  2\n"
     ]
    },
    {
     "name": "stdout",
     "output_type": "stream",
     "text": [
      "[10201, 10609, 11025, 11449, 11881, 12321, 12769, 13225, 13689, 14161, 14641, 15129, 15625, 16129, 16641, 17161, 17689, 18225, 18769, 19321, 19881, 20449, 21025, 21609, 22201, 22801, 23409, 24025, 24649, 25281, 25921, 26569, 27225, 27889, 28561, 29241, 29929, 30625, 31329, 32041, 32761, 33489, 34225, 34969, 35721, 36481, 37249, 38025, 38809, 39601]\n"
     ]
    }
   ],
   "source": [
    "# Exercise 3: Squares of Even/Odd Numbers\n",
    "list1 = []\n",
    "def even():\n",
    "    for i in range(101, 200):\n",
    "        if i % 2 == 0:\n",
    "            list1.append(i*i)\n",
    "    return list1   \n",
    "\n",
    "def odd():\n",
    "    for i in range(101, 200):\n",
    "        if i % 2 != 0:\n",
    "            list1.append(i*i)\n",
    "    return list1   \n",
    "# Function to decide which one to run\n",
    "def get_squares(choice):\n",
    "    match choice:\n",
    "        case 1:\n",
    "            return even()\n",
    "        case 2:\n",
    "            return odd()\n",
    "        case _:\n",
    "            return \"Invalid Function\"\n",
    "\n",
    "# Take input and convert to integer\n",
    "n = int(input(\"Enter 1 for even, 2 for odd: \"))\n",
    "\n",
    "print(get_squares(n))"
   ]
  },
  {
   "cell_type": "code",
   "execution_count": 72,
   "id": "424d16ad-99e2-4c2f-8ebd-1363ca45e6ce",
   "metadata": {
    "scrolled": true
   },
   "outputs": [
    {
     "name": "stdin",
     "output_type": "stream",
     "text": [
      "Enter a statement:  This is a sample text. This text will be used to demonstrate the word counter.\n"
     ]
    },
    {
     "name": "stdout",
     "output_type": "stream",
     "text": [
      "Word Frequencies: {'this': 2, 'is': 1, 'a': 1, 'sample': 1, 'text.': 1, 'text': 1, 'will': 1, 'be': 1, 'used': 1, 'to': 1, 'demonstrate': 1, 'the': 1, 'word': 1, 'counter.': 1}\n"
     ]
    }
   ],
   "source": [
    "# Exercise 4: Word counter\n",
    "def word_frequency(statement):\n",
    "    # Split statement into words\n",
    "    words = statement.split()\n",
    "    \n",
    "    # Dictionary to hold frequency\n",
    "    freq = {}\n",
    "    \n",
    "    for word in words:\n",
    "        word = word.lower()   # make lowercase for uniform counting\n",
    "        freq[word] = freq.get(word, 0) + 1\n",
    "    \n",
    "    return freq\n",
    "\n",
    "\n",
    "# Input from user\n",
    "statement = input(\"Enter a statement: \")\n",
    "\n",
    "freq = word_frequency(statement)\n",
    "\n",
    "print(\"Word Frequencies:\", freq)\n",
    "\n"
   ]
  },
  {
   "cell_type": "code",
   "execution_count": 76,
   "id": "a6b640f6-60cd-4150-a9e3-dd862aa63a69",
   "metadata": {},
   "outputs": [
    {
     "name": "stdin",
     "output_type": "stream",
     "text": [
      "Enter a word:  tamat\n"
     ]
    },
    {
     "name": "stdout",
     "output_type": "stream",
     "text": [
      "tamat is a palindrome\n"
     ]
    }
   ],
   "source": [
    "# Exercise 5: Check for Palindrome\n",
    "\n",
    "def is_palindrome(word):\n",
    "    word = word.lower()  # ignore case\n",
    "    return word == word[::-1]\n",
    "\n",
    "# Input\n",
    "text = input(\"Enter a word: \")\n",
    "\n",
    "if is_palindrome(text):\n",
    "    print(f\"{text} is a palindrome\")\n",
    "else:\n",
    "    print(f\"{text} is not a palindrome\")\n",
    "\n",
    "\n",
    "\n",
    "        "
   ]
  },
  {
   "cell_type": "code",
   "execution_count": 78,
   "id": "46693732-1f19-41eb-a171-1bee47851868",
   "metadata": {},
   "outputs": [
    {
     "name": "stdout",
     "output_type": "stream",
     "text": [
      "tihsrah\n"
     ]
    }
   ],
   "source": [
    "word = 'harshit' \n",
    "print(word [::-1])"
   ]
  }
 ],
 "metadata": {
  "kernelspec": {
   "display_name": "Python 3 (ipykernel)",
   "language": "python",
   "name": "python3"
  },
  "language_info": {
   "codemirror_mode": {
    "name": "ipython",
    "version": 3
   },
   "file_extension": ".py",
   "mimetype": "text/x-python",
   "name": "python",
   "nbconvert_exporter": "python",
   "pygments_lexer": "ipython3",
   "version": "3.13.5"
  }
 },
 "nbformat": 4,
 "nbformat_minor": 5
}
