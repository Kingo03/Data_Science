{
 "cells": [
  {
   "cell_type": "raw",
   "id": "72cac0a7-f1f0-4118-b279-e58c48b0dcef",
   "metadata": {},
   "source": [
    "Assignment no. 11 Recomendation System "
   ]
  },
  {
   "cell_type": "code",
   "execution_count": 2,
   "id": "961f810a-a7b3-4aec-b9ee-a4c044fabde2",
   "metadata": {},
   "outputs": [],
   "source": [
    "import numpy as np\n",
    "import pandas as pd \n",
    "import seaborn as sns\n",
    "import matplotlib.pyplot as plt"
   ]
  },
  {
   "cell_type": "code",
   "execution_count": null,
   "id": "c16a5808-da78-4b5f-91f3-c285e4e166ea",
   "metadata": {},
   "outputs": [],
   "source": [
    "# Data Preprocessing:"
   ]
  },
  {
   "cell_type": "code",
   "execution_count": 3,
   "id": "7e2c823c-f183-441b-9656-8f8dcee1a546",
   "metadata": {},
   "outputs": [],
   "source": [
    "df = pd.read_csv('anime.csv')"
   ]
  },
  {
   "cell_type": "code",
   "execution_count": 4,
   "id": "11be560f-9727-4a21-87a6-d1c14cca674e",
   "metadata": {},
   "outputs": [
    {
     "data": {
      "text/html": [
       "<div>\n",
       "<style scoped>\n",
       "    .dataframe tbody tr th:only-of-type {\n",
       "        vertical-align: middle;\n",
       "    }\n",
       "\n",
       "    .dataframe tbody tr th {\n",
       "        vertical-align: top;\n",
       "    }\n",
       "\n",
       "    .dataframe thead th {\n",
       "        text-align: right;\n",
       "    }\n",
       "</style>\n",
       "<table border=\"1\" class=\"dataframe\">\n",
       "  <thead>\n",
       "    <tr style=\"text-align: right;\">\n",
       "      <th></th>\n",
       "      <th>anime_id</th>\n",
       "      <th>name</th>\n",
       "      <th>genre</th>\n",
       "      <th>type</th>\n",
       "      <th>episodes</th>\n",
       "      <th>rating</th>\n",
       "      <th>members</th>\n",
       "    </tr>\n",
       "  </thead>\n",
       "  <tbody>\n",
       "    <tr>\n",
       "      <th>0</th>\n",
       "      <td>32281</td>\n",
       "      <td>Kimi no Na wa.</td>\n",
       "      <td>Drama, Romance, School, Supernatural</td>\n",
       "      <td>Movie</td>\n",
       "      <td>1</td>\n",
       "      <td>9.37</td>\n",
       "      <td>200630</td>\n",
       "    </tr>\n",
       "    <tr>\n",
       "      <th>1</th>\n",
       "      <td>5114</td>\n",
       "      <td>Fullmetal Alchemist: Brotherhood</td>\n",
       "      <td>Action, Adventure, Drama, Fantasy, Magic, Mili...</td>\n",
       "      <td>TV</td>\n",
       "      <td>64</td>\n",
       "      <td>9.26</td>\n",
       "      <td>793665</td>\n",
       "    </tr>\n",
       "    <tr>\n",
       "      <th>2</th>\n",
       "      <td>28977</td>\n",
       "      <td>Gintama°</td>\n",
       "      <td>Action, Comedy, Historical, Parody, Samurai, S...</td>\n",
       "      <td>TV</td>\n",
       "      <td>51</td>\n",
       "      <td>9.25</td>\n",
       "      <td>114262</td>\n",
       "    </tr>\n",
       "    <tr>\n",
       "      <th>3</th>\n",
       "      <td>9253</td>\n",
       "      <td>Steins;Gate</td>\n",
       "      <td>Sci-Fi, Thriller</td>\n",
       "      <td>TV</td>\n",
       "      <td>24</td>\n",
       "      <td>9.17</td>\n",
       "      <td>673572</td>\n",
       "    </tr>\n",
       "    <tr>\n",
       "      <th>4</th>\n",
       "      <td>9969</td>\n",
       "      <td>Gintama&amp;#039;</td>\n",
       "      <td>Action, Comedy, Historical, Parody, Samurai, S...</td>\n",
       "      <td>TV</td>\n",
       "      <td>51</td>\n",
       "      <td>9.16</td>\n",
       "      <td>151266</td>\n",
       "    </tr>\n",
       "  </tbody>\n",
       "</table>\n",
       "</div>"
      ],
      "text/plain": [
       "   anime_id                              name  \\\n",
       "0     32281                    Kimi no Na wa.   \n",
       "1      5114  Fullmetal Alchemist: Brotherhood   \n",
       "2     28977                          Gintama°   \n",
       "3      9253                       Steins;Gate   \n",
       "4      9969                     Gintama&#039;   \n",
       "\n",
       "                                               genre   type episodes  rating  \\\n",
       "0               Drama, Romance, School, Supernatural  Movie        1    9.37   \n",
       "1  Action, Adventure, Drama, Fantasy, Magic, Mili...     TV       64    9.26   \n",
       "2  Action, Comedy, Historical, Parody, Samurai, S...     TV       51    9.25   \n",
       "3                                   Sci-Fi, Thriller     TV       24    9.17   \n",
       "4  Action, Comedy, Historical, Parody, Samurai, S...     TV       51    9.16   \n",
       "\n",
       "   members  \n",
       "0   200630  \n",
       "1   793665  \n",
       "2   114262  \n",
       "3   673572  \n",
       "4   151266  "
      ]
     },
     "execution_count": 4,
     "metadata": {},
     "output_type": "execute_result"
    }
   ],
   "source": [
    "df.head()"
   ]
  },
  {
   "cell_type": "code",
   "execution_count": 5,
   "id": "9e55c05c-2f0d-468b-86ed-cb046fecbeae",
   "metadata": {},
   "outputs": [
    {
     "data": {
      "text/html": [
       "<div>\n",
       "<style scoped>\n",
       "    .dataframe tbody tr th:only-of-type {\n",
       "        vertical-align: middle;\n",
       "    }\n",
       "\n",
       "    .dataframe tbody tr th {\n",
       "        vertical-align: top;\n",
       "    }\n",
       "\n",
       "    .dataframe thead th {\n",
       "        text-align: right;\n",
       "    }\n",
       "</style>\n",
       "<table border=\"1\" class=\"dataframe\">\n",
       "  <thead>\n",
       "    <tr style=\"text-align: right;\">\n",
       "      <th></th>\n",
       "      <th>anime_id</th>\n",
       "      <th>name</th>\n",
       "      <th>genre</th>\n",
       "      <th>type</th>\n",
       "      <th>episodes</th>\n",
       "      <th>rating</th>\n",
       "      <th>members</th>\n",
       "    </tr>\n",
       "  </thead>\n",
       "  <tbody>\n",
       "    <tr>\n",
       "      <th>12289</th>\n",
       "      <td>9316</td>\n",
       "      <td>Toushindai My Lover: Minami tai Mecha-Minami</td>\n",
       "      <td>Hentai</td>\n",
       "      <td>OVA</td>\n",
       "      <td>1</td>\n",
       "      <td>4.15</td>\n",
       "      <td>211</td>\n",
       "    </tr>\n",
       "    <tr>\n",
       "      <th>12290</th>\n",
       "      <td>5543</td>\n",
       "      <td>Under World</td>\n",
       "      <td>Hentai</td>\n",
       "      <td>OVA</td>\n",
       "      <td>1</td>\n",
       "      <td>4.28</td>\n",
       "      <td>183</td>\n",
       "    </tr>\n",
       "    <tr>\n",
       "      <th>12291</th>\n",
       "      <td>5621</td>\n",
       "      <td>Violence Gekiga David no Hoshi</td>\n",
       "      <td>Hentai</td>\n",
       "      <td>OVA</td>\n",
       "      <td>4</td>\n",
       "      <td>4.88</td>\n",
       "      <td>219</td>\n",
       "    </tr>\n",
       "    <tr>\n",
       "      <th>12292</th>\n",
       "      <td>6133</td>\n",
       "      <td>Violence Gekiga Shin David no Hoshi: Inma Dens...</td>\n",
       "      <td>Hentai</td>\n",
       "      <td>OVA</td>\n",
       "      <td>1</td>\n",
       "      <td>4.98</td>\n",
       "      <td>175</td>\n",
       "    </tr>\n",
       "    <tr>\n",
       "      <th>12293</th>\n",
       "      <td>26081</td>\n",
       "      <td>Yasuji no Pornorama: Yacchimae!!</td>\n",
       "      <td>Hentai</td>\n",
       "      <td>Movie</td>\n",
       "      <td>1</td>\n",
       "      <td>5.46</td>\n",
       "      <td>142</td>\n",
       "    </tr>\n",
       "  </tbody>\n",
       "</table>\n",
       "</div>"
      ],
      "text/plain": [
       "       anime_id                                               name   genre  \\\n",
       "12289      9316       Toushindai My Lover: Minami tai Mecha-Minami  Hentai   \n",
       "12290      5543                                        Under World  Hentai   \n",
       "12291      5621                     Violence Gekiga David no Hoshi  Hentai   \n",
       "12292      6133  Violence Gekiga Shin David no Hoshi: Inma Dens...  Hentai   \n",
       "12293     26081                   Yasuji no Pornorama: Yacchimae!!  Hentai   \n",
       "\n",
       "        type episodes  rating  members  \n",
       "12289    OVA        1    4.15      211  \n",
       "12290    OVA        1    4.28      183  \n",
       "12291    OVA        4    4.88      219  \n",
       "12292    OVA        1    4.98      175  \n",
       "12293  Movie        1    5.46      142  "
      ]
     },
     "execution_count": 5,
     "metadata": {},
     "output_type": "execute_result"
    }
   ],
   "source": [
    "df.tail()"
   ]
  },
  {
   "cell_type": "code",
   "execution_count": 6,
   "id": "ed35c867-7c80-4bf4-8b29-0e495888f92a",
   "metadata": {},
   "outputs": [
    {
     "name": "stdout",
     "output_type": "stream",
     "text": [
      "<class 'pandas.core.frame.DataFrame'>\n",
      "RangeIndex: 12294 entries, 0 to 12293\n",
      "Data columns (total 7 columns):\n",
      " #   Column    Non-Null Count  Dtype  \n",
      "---  ------    --------------  -----  \n",
      " 0   anime_id  12294 non-null  int64  \n",
      " 1   name      12294 non-null  object \n",
      " 2   genre     12232 non-null  object \n",
      " 3   type      12269 non-null  object \n",
      " 4   episodes  12294 non-null  object \n",
      " 5   rating    12064 non-null  float64\n",
      " 6   members   12294 non-null  int64  \n",
      "dtypes: float64(1), int64(2), object(4)\n",
      "memory usage: 672.5+ KB\n"
     ]
    }
   ],
   "source": [
    "df.info()"
   ]
  },
  {
   "cell_type": "code",
   "execution_count": 7,
   "id": "34c426ff-c673-4a51-8855-edcc98938a0b",
   "metadata": {},
   "outputs": [
    {
     "data": {
      "text/plain": [
       "anime_id      0\n",
       "name          0\n",
       "genre        62\n",
       "type         25\n",
       "episodes      0\n",
       "rating      230\n",
       "members       0\n",
       "dtype: int64"
      ]
     },
     "execution_count": 7,
     "metadata": {},
     "output_type": "execute_result"
    }
   ],
   "source": [
    "df.isnull().sum()"
   ]
  },
  {
   "cell_type": "code",
   "execution_count": 8,
   "id": "e35abaa4-9a90-4ca4-ad30-dd20faf587aa",
   "metadata": {},
   "outputs": [
    {
     "data": {
      "text/plain": [
       "genre\n",
       "Hentai                                                  823\n",
       "Comedy                                                  523\n",
       "Music                                                   301\n",
       "Kids                                                    199\n",
       "Comedy, Slice of Life                                   179\n",
       "                                                       ... \n",
       "Hentai, Parody, Sci-Fi                                    1\n",
       "Hentai, Historical, Mystery                               1\n",
       "Action, Comedy, Hentai                                    1\n",
       "Comedy, Ecchi, Fantasy, Parody, Yuri                      1\n",
       "Action, Mecha, Military, School, Sci-Fi, Super Power      1\n",
       "Name: count, Length: 3264, dtype: int64"
      ]
     },
     "execution_count": 8,
     "metadata": {},
     "output_type": "execute_result"
    }
   ],
   "source": [
    "df['genre'].value_counts()"
   ]
  },
  {
   "cell_type": "code",
   "execution_count": 9,
   "id": "7845f01d-c097-4acd-9df1-d4f2c60f57b5",
   "metadata": {},
   "outputs": [
    {
     "data": {
      "text/plain": [
       "count      12232\n",
       "unique      3264\n",
       "top       Hentai\n",
       "freq         823\n",
       "Name: genre, dtype: object"
      ]
     },
     "execution_count": 9,
     "metadata": {},
     "output_type": "execute_result"
    }
   ],
   "source": [
    "df['genre'].describe()"
   ]
  },
  {
   "cell_type": "code",
   "execution_count": 40,
   "id": "f34907e7-03b3-41b8-872f-d97a5cfe0f95",
   "metadata": {},
   "outputs": [],
   "source": [
    "df['genre'] = df['genre'].fillna('Unknown') #i am replacing null genre with most frequent genre in the genre category \n",
    "# we can use apriori here to be more specfic with the genre like we have hentai combination with other genres too.\n",
    "# in my opinion it is best to drop them for the bettermenrt for othe valid dataset since 0.5% of the data "
   ]
  },
  {
   "cell_type": "code",
   "execution_count": 11,
   "id": "0638d77c-4dff-49bf-99b7-d4fe5c3987c8",
   "metadata": {},
   "outputs": [
    {
     "data": {
      "text/plain": [
       "0.504311046038718"
      ]
     },
     "execution_count": 11,
     "metadata": {},
     "output_type": "execute_result"
    }
   ],
   "source": [
    "(62/12294)* 100 "
   ]
  },
  {
   "cell_type": "code",
   "execution_count": 12,
   "id": "0f5460c7-a5a4-4c0b-ade2-ff93e56aeac6",
   "metadata": {},
   "outputs": [
    {
     "data": {
      "text/plain": [
       "np.int64(12232)"
      ]
     },
     "execution_count": 12,
     "metadata": {},
     "output_type": "execute_result"
    }
   ],
   "source": [
    "df['genre'].count()"
   ]
  },
  {
   "cell_type": "code",
   "execution_count": 13,
   "id": "6e706890-8367-4115-9d5b-f7a4775b0007",
   "metadata": {},
   "outputs": [
    {
     "data": {
      "text/plain": [
       "type\n",
       "TV         3787\n",
       "OVA        3311\n",
       "Movie      2348\n",
       "Special    1676\n",
       "ONA         659\n",
       "Music       488\n",
       "Name: count, dtype: int64"
      ]
     },
     "execution_count": 13,
     "metadata": {},
     "output_type": "execute_result"
    }
   ],
   "source": [
    "df['type'].value_counts()"
   ]
  },
  {
   "cell_type": "code",
   "execution_count": 14,
   "id": "aab5832e-aa88-456e-836e-d41702e5fcb2",
   "metadata": {},
   "outputs": [
    {
     "data": {
      "text/plain": [
       "count     12269\n",
       "unique        6\n",
       "top          TV\n",
       "freq       3787\n",
       "Name: type, dtype: object"
      ]
     },
     "execution_count": 14,
     "metadata": {},
     "output_type": "execute_result"
    }
   ],
   "source": [
    "df['type'].describe()"
   ]
  },
  {
   "cell_type": "code",
   "execution_count": 15,
   "id": "e18f2a68-10cb-4b32-971d-05eaf8ba3994",
   "metadata": {},
   "outputs": [
    {
     "name": "stdout",
     "output_type": "stream",
     "text": [
      "<class 'pandas.core.frame.DataFrame'>\n",
      "RangeIndex: 12294 entries, 0 to 12293\n",
      "Data columns (total 7 columns):\n",
      " #   Column    Non-Null Count  Dtype  \n",
      "---  ------    --------------  -----  \n",
      " 0   anime_id  12294 non-null  int64  \n",
      " 1   name      12294 non-null  object \n",
      " 2   genre     12232 non-null  object \n",
      " 3   type      12269 non-null  object \n",
      " 4   episodes  12294 non-null  object \n",
      " 5   rating    12064 non-null  float64\n",
      " 6   members   12294 non-null  int64  \n",
      "dtypes: float64(1), int64(2), object(4)\n",
      "memory usage: 672.5+ KB\n"
     ]
    }
   ],
   "source": [
    "df.info()"
   ]
  },
  {
   "cell_type": "code",
   "execution_count": 16,
   "id": "bdd71a81-33bf-4097-b171-7b9697dd183b",
   "metadata": {},
   "outputs": [],
   "source": [
    "df2 = df.dropna(subset=['type'])"
   ]
  },
  {
   "cell_type": "code",
   "execution_count": 17,
   "id": "77ca7612-009f-479b-b54f-c1765a20bf31",
   "metadata": {},
   "outputs": [
    {
     "name": "stdout",
     "output_type": "stream",
     "text": [
      "<class 'pandas.core.frame.DataFrame'>\n",
      "Index: 12269 entries, 0 to 12293\n",
      "Data columns (total 7 columns):\n",
      " #   Column    Non-Null Count  Dtype  \n",
      "---  ------    --------------  -----  \n",
      " 0   anime_id  12269 non-null  int64  \n",
      " 1   name      12269 non-null  object \n",
      " 2   genre     12210 non-null  object \n",
      " 3   type      12269 non-null  object \n",
      " 4   episodes  12269 non-null  object \n",
      " 5   rating    12064 non-null  float64\n",
      " 6   members   12269 non-null  int64  \n",
      "dtypes: float64(1), int64(2), object(4)\n",
      "memory usage: 766.8+ KB\n"
     ]
    }
   ],
   "source": [
    "df2.info()"
   ]
  },
  {
   "cell_type": "code",
   "execution_count": 18,
   "id": "cc2491d7-22bf-436f-b9a2-a96c3401c9eb",
   "metadata": {},
   "outputs": [
    {
     "data": {
      "text/plain": [
       "0        9.37\n",
       "1        9.26\n",
       "2        9.25\n",
       "3        9.17\n",
       "4        9.16\n",
       "         ... \n",
       "12289    4.15\n",
       "12290    4.28\n",
       "12291    4.88\n",
       "12292    4.98\n",
       "12293    5.46\n",
       "Name: rating, Length: 12294, dtype: float64"
      ]
     },
     "execution_count": 18,
     "metadata": {},
     "output_type": "execute_result"
    }
   ],
   "source": [
    "df['rating']"
   ]
  },
  {
   "cell_type": "code",
   "execution_count": 19,
   "id": "d729f7be-9a18-437b-89c5-63d14792b35b",
   "metadata": {},
   "outputs": [
    {
     "data": {
      "text/plain": [
       "np.int64(230)"
      ]
     },
     "execution_count": 19,
     "metadata": {},
     "output_type": "execute_result"
    }
   ],
   "source": [
    "df['rating'].isnull().sum()"
   ]
  },
  {
   "cell_type": "code",
   "execution_count": 20,
   "id": "c0a4d7ae-a1b1-4cb5-a4e2-cfa5817cfc06",
   "metadata": {},
   "outputs": [
    {
     "data": {
      "text/plain": [
       "count    12064.000000\n",
       "mean         6.473902\n",
       "std          1.026746\n",
       "min          1.670000\n",
       "25%          5.880000\n",
       "50%          6.570000\n",
       "75%          7.180000\n",
       "max         10.000000\n",
       "Name: rating, dtype: float64"
      ]
     },
     "execution_count": 20,
     "metadata": {},
     "output_type": "execute_result"
    }
   ],
   "source": [
    "df['rating'].describe()"
   ]
  },
  {
   "cell_type": "code",
   "execution_count": 21,
   "id": "eef73150-9f4f-466b-b544-038174c89e60",
   "metadata": {},
   "outputs": [
    {
     "data": {
      "text/plain": [
       "6.57"
      ]
     },
     "execution_count": 21,
     "metadata": {},
     "output_type": "execute_result"
    }
   ],
   "source": [
    "df['rating'].median()"
   ]
  },
  {
   "cell_type": "code",
   "execution_count": 22,
   "id": "9905f9f5-b17d-4c47-ad3c-4ee0fd89ba4b",
   "metadata": {},
   "outputs": [
    {
     "data": {
      "text/plain": [
       "0    6.0\n",
       "Name: rating, dtype: float64"
      ]
     },
     "execution_count": 22,
     "metadata": {},
     "output_type": "execute_result"
    }
   ],
   "source": [
    "df['rating'].mode()  # mode "
   ]
  },
  {
   "cell_type": "code",
   "execution_count": 23,
   "id": "5940a8de-8810-4068-a8af-5e6663541552",
   "metadata": {},
   "outputs": [
    {
     "data": {
      "text/plain": [
       "np.float64(-0.5435700688578503)"
      ]
     },
     "execution_count": 23,
     "metadata": {},
     "output_type": "execute_result"
    }
   ],
   "source": [
    "df['rating'].skew()"
   ]
  },
  {
   "cell_type": "code",
   "execution_count": 24,
   "id": "1b026ad2-7153-4dcf-9af5-2ff4e452eb54",
   "metadata": {},
   "outputs": [
    {
     "data": {
      "text/plain": [
       "<Axes: >"
      ]
     },
     "execution_count": 24,
     "metadata": {},
     "output_type": "execute_result"
    },
    {
     "data": {
      "image/png": "[encoded data removed]",
      "text/plain": [
       "<Figure size 640x480 with 1 Axes>"
      ]
     },
     "metadata": {},
     "output_type": "display_data"
    }
   ],
   "source": [
    "df['rating'].plot(kind ='box')"
   ]
  },
  {
   "cell_type": "code",
   "execution_count": 25,
   "id": "4c36b59c-f879-4a8a-adca-9ec93322f805",
   "metadata": {},
   "outputs": [
    {
     "data": {
      "text/plain": [
       "rating\n",
       "6.00    141\n",
       "7.00     99\n",
       "6.50     90\n",
       "6.25     84\n",
       "5.00     76\n",
       "       ... \n",
       "2.98      1\n",
       "3.44      1\n",
       "1.92      1\n",
       "2.86      1\n",
       "3.14      1\n",
       "Name: count, Length: 598, dtype: int64"
      ]
     },
     "execution_count": 25,
     "metadata": {},
     "output_type": "execute_result"
    }
   ],
   "source": [
    "df['rating'].value_counts()"
   ]
  },
  {
   "cell_type": "code",
   "execution_count": 26,
   "id": "106bc5ed-6775-4d27-98e1-549ea0a712b1",
   "metadata": {},
   "outputs": [],
   "source": [
    "# Ensure numeric type\n",
    "df['rating'] = pd.to_numeric(df['rating'], errors='coerce')\n",
    "\n",
    "# Fill null with median (correct way)\n",
    "df['rating'] = df['rating'].fillna(df['rating'].median())\n",
    "\n"
   ]
  },
  {
   "cell_type": "code",
   "execution_count": 27,
   "id": "0078e0e5-c2f1-4ae7-8b4e-3d09d1866b8f",
   "metadata": {},
   "outputs": [
    {
     "name": "stdout",
     "output_type": "stream",
     "text": [
      "<class 'pandas.core.frame.DataFrame'>\n",
      "RangeIndex: 12294 entries, 0 to 12293\n",
      "Data columns (total 7 columns):\n",
      " #   Column    Non-Null Count  Dtype  \n",
      "---  ------    --------------  -----  \n",
      " 0   anime_id  12294 non-null  int64  \n",
      " 1   name      12294 non-null  object \n",
      " 2   genre     12232 non-null  object \n",
      " 3   type      12269 non-null  object \n",
      " 4   episodes  12294 non-null  object \n",
      " 5   rating    12294 non-null  float64\n",
      " 6   members   12294 non-null  int64  \n",
      "dtypes: float64(1), int64(2), object(4)\n",
      "memory usage: 672.5+ KB\n"
     ]
    }
   ],
   "source": [
    "df.info()"
   ]
  },
  {
   "cell_type": "code",
   "execution_count": 28,
   "id": "1cf7f04c-d41c-4df0-9879-068ffccb13b9",
   "metadata": {},
   "outputs": [],
   "source": [
    "df3 = df.dropna(subset=['type'])"
   ]
  },
  {
   "cell_type": "code",
   "execution_count": 29,
   "id": "ae6a0b80-4637-4380-825f-c0d7cd492055",
   "metadata": {},
   "outputs": [
    {
     "name": "stdout",
     "output_type": "stream",
     "text": [
      "<class 'pandas.core.frame.DataFrame'>\n",
      "Index: 12269 entries, 0 to 12293\n",
      "Data columns (total 7 columns):\n",
      " #   Column    Non-Null Count  Dtype  \n",
      "---  ------    --------------  -----  \n",
      " 0   anime_id  12269 non-null  int64  \n",
      " 1   name      12269 non-null  object \n",
      " 2   genre     12210 non-null  object \n",
      " 3   type      12269 non-null  object \n",
      " 4   episodes  12269 non-null  object \n",
      " 5   rating    12269 non-null  float64\n",
      " 6   members   12269 non-null  int64  \n",
      "dtypes: float64(1), int64(2), object(4)\n",
      "memory usage: 766.8+ KB\n"
     ]
    }
   ],
   "source": [
    "df3.info()"
   ]
  },
  {
   "cell_type": "code",
   "execution_count": 30,
   "id": "3d013ee4-fc17-4bce-84b7-c334f24fc8dd",
   "metadata": {},
   "outputs": [],
   "source": [
    "df3.to_csv('Cleaned_data.csv', index = False)"
   ]
  },
  {
   "cell_type": "code",
   "execution_count": 31,
   "id": "578e721c-f991-49dd-bd2c-1d5730965076",
   "metadata": {},
   "outputs": [
    {
     "data": {
      "text/html": [
       "<div>\n",
       "<style scoped>\n",
       "    .dataframe tbody tr th:only-of-type {\n",
       "        vertical-align: middle;\n",
       "    }\n",
       "\n",
       "    .dataframe tbody tr th {\n",
       "        vertical-align: top;\n",
       "    }\n",
       "\n",
       "    .dataframe thead th {\n",
       "        text-align: right;\n",
       "    }\n",
       "</style>\n",
       "<table border=\"1\" class=\"dataframe\">\n",
       "  <thead>\n",
       "    <tr style=\"text-align: right;\">\n",
       "      <th></th>\n",
       "      <th>anime_id</th>\n",
       "      <th>name</th>\n",
       "      <th>genre</th>\n",
       "      <th>type</th>\n",
       "      <th>episodes</th>\n",
       "      <th>rating</th>\n",
       "      <th>members</th>\n",
       "    </tr>\n",
       "  </thead>\n",
       "  <tbody>\n",
       "    <tr>\n",
       "      <th>12274</th>\n",
       "      <td>34492</td>\n",
       "      <td>Nuki Doki! Tenshi to Akuma no Sakusei Battle -...</td>\n",
       "      <td>Hentai</td>\n",
       "      <td>OVA</td>\n",
       "      <td>Unknown</td>\n",
       "      <td>6.57</td>\n",
       "      <td>392</td>\n",
       "    </tr>\n",
       "  </tbody>\n",
       "</table>\n",
       "</div>"
      ],
      "text/plain": [
       "       anime_id                                               name   genre  \\\n",
       "12274     34492  Nuki Doki! Tenshi to Akuma no Sakusei Battle -...  Hentai   \n",
       "\n",
       "      type episodes  rating  members  \n",
       "12274  OVA  Unknown    6.57      392  "
      ]
     },
     "execution_count": 31,
     "metadata": {},
     "output_type": "execute_result"
    }
   ],
   "source": [
    "df3[df3['anime_id'] == 34492] # i guess the episode unknow should not create any problem in recomendation system \n",
    "# since genre , type , rating and members plays important role compare to episode."
   ]
  },
  {
   "cell_type": "code",
   "execution_count": 34,
   "id": "19fd9cc4-2344-4a44-9653-43ab4ef82d59",
   "metadata": {},
   "outputs": [
    {
     "name": "stdout",
     "output_type": "stream",
     "text": [
      "<class 'pandas.core.frame.DataFrame'>\n",
      "Index: 12269 entries, 0 to 12293\n",
      "Data columns (total 7 columns):\n",
      " #   Column    Non-Null Count  Dtype  \n",
      "---  ------    --------------  -----  \n",
      " 0   anime_id  12269 non-null  int64  \n",
      " 1   name      12269 non-null  object \n",
      " 2   genre     12210 non-null  object \n",
      " 3   type      12269 non-null  object \n",
      " 4   episodes  12269 non-null  object \n",
      " 5   rating    12269 non-null  float64\n",
      " 6   members   12269 non-null  int64  \n",
      "dtypes: float64(1), int64(2), object(4)\n",
      "memory usage: 766.8+ KB\n"
     ]
    }
   ],
   "source": [
    "df3.info()"
   ]
  },
  {
   "cell_type": "code",
   "execution_count": 43,
   "id": "be5f7755-909e-4c9d-adf5-bbe6f455455b",
   "metadata": {},
   "outputs": [],
   "source": [
    "from sklearn.preprocessing import MultiLabelBinarizer, StandardScaler\n",
    "from sklearn.metrics.pairwise import cosine_similarity\n",
    "from sklearn.model_selection import train_test_split\n",
    "\n",
    "# Load dataset\n",
    "df = pd.read_csv(\"cleaned_data.csv\")\n"
   ]
  },
  {
   "cell_type": "code",
   "execution_count": 44,
   "id": "0ae7bf6c-b7d1-4ce9-8202-f19f54fdc554",
   "metadata": {},
   "outputs": [],
   "source": [
    "# Feature Extraction:\n",
    "# Convert genres to list\n",
    "df['genre'] = df['genre'].apply(lambda x: x.split(',') if isinstance(x, str) else ['Unknown'])\n",
    "\n",
    "# One-hot encoding for genres\n",
    "mlb = MultiLabelBinarizer()\n",
    "genre_features = pd.DataFrame(mlb.fit_transform(df['genre']), columns=mlb.classes_, index=df.index)\n",
    "\n",
    "# Combine with rating\n",
    "df_features = pd.concat([genre_features, df[['rating']]], axis=1)\n",
    "\n",
    "# Normalize rating\n",
    "scaler = StandardScaler()\n",
    "df_features['rating'] = scaler.fit_transform(df_features[['rating']])"
   ]
  },
  {
   "cell_type": "code",
   "execution_count": 45,
   "id": "c7220f2a-5830-4d76-9528-3a808beec00a",
   "metadata": {},
   "outputs": [
    {
     "name": "stdout",
     "output_type": "stream",
     "text": [
      "Recommendations for 'Naruto': ['Naruto: Shippuuden', 'Boruto: Naruto the Movie - Naruto ga Hokage ni Natta Hi', 'Boruto: Naruto the Movie', 'Naruto x UT', 'Naruto: Shippuuden Movie 4 - The Lost Tower']\n"
     ]
    }
   ],
   "source": [
    "# 3. Recommendation System:\n",
    "\n",
    "# Cosine similarity matrix\n",
    "similarity_matrix = cosine_similarity(df_features)\n",
    "\n",
    "# Function to recommend anime\n",
    "def recommend_anime(anime_title, top_n=5, threshold=0.2):\n",
    "    if anime_title not in df['name'].values:\n",
    "        return f\"Anime '{anime_title}' not found in dataset.\"\n",
    "    \n",
    "    idx = df[df['name'] == anime_title].index[0]\n",
    "    sim_scores = list(enumerate(similarity_matrix[idx]))\n",
    "    \n",
    "    # Apply threshold\n",
    "    sim_scores = [(i, score) for i, score in sim_scores if score >= threshold]\n",
    "    sim_scores = sorted(sim_scores, key=lambda x: x[1], reverse=True)\n",
    "    \n",
    "    # Exclude the anime itself\n",
    "    sim_scores = [s for s in sim_scores if s[0] != idx][:top_n]\n",
    "    \n",
    "    anime_indices = [i[0] for i in sim_scores]\n",
    "    return df['name'].iloc[anime_indices].tolist()\n",
    "\n",
    "# Example Recommendation\n",
    "print(\"Recommendations for 'Naruto':\", recommend_anime(\"Naruto\", top_n=5))\n"
   ]
  },
  {
   "cell_type": "code",
   "execution_count": 46,
   "id": "ef292c57-2ff3-4cb3-a084-0bac01b883de",
   "metadata": {},
   "outputs": [
    {
     "name": "stdout",
     "output_type": "stream",
     "text": [
      "Precision: 0.80, Recall: 0.80, F1: 0.80\n"
     ]
    }
   ],
   "source": [
    "# 4. Evaluation (Simple Version)\n",
    "\n",
    "# Split dataset\n",
    "train_df, test_df = train_test_split(df, test_size=0.2, random_state=42)\n",
    "\n",
    "# Dummy evaluation: precision & recall based on genre overlap\n",
    "def evaluate():\n",
    "    relevant = 0\n",
    "    recommended = 0\n",
    "    possible = 0\n",
    "    \n",
    "    for _, row in test_df.iterrows():\n",
    "        recs = recommend_anime(row['name'], top_n=5)\n",
    "        if isinstance(recs, list):\n",
    "            recommended += len(recs)\n",
    "            possible += 5\n",
    "            overlap = len(set(recs).intersection(set(train_df['name'].values)))\n",
    "            relevant += overlap\n",
    "    \n",
    "    precision = relevant / recommended if recommended > 0 else 0\n",
    "    recall = relevant / possible if possible > 0 else 0\n",
    "    f1 = (2 * precision * recall) / (precision + recall) if (precision + recall) else 0\n",
    "    \n",
    "    return precision, recall, f1\n",
    "\n",
    "precision, recall, f1 = evaluate()\n",
    "print(f\"Precision: {precision:.2f}, Recall: {recall:.2f}, F1: {f1:.2f}\")"
   ]
  },
  {
   "cell_type": "raw",
   "id": "d748617c-2288-4eee-af7b-76efc011f585",
   "metadata": {},
   "source": [
    "1. Difference between User-Based and Item-Based Collaborative Filtering\n",
    "\n",
    "User-Based Collaborative Filtering\n",
    "Idea: “Users who are similar tend to like similar items.”\n",
    "Process:\n",
    "Find users who have rated items similarly to the target user.\n",
    "Recommend items that those similar users liked but the target user hasn’t seen yet.\n",
    "Example: If User A and User B both liked Naruto and One Piece, and User A also liked Bleach, then recommend Bleach to User B.\n",
    "\n",
    "Item-Based Collaborative Filtering\n",
    "Idea: “Items that are similar tend to be liked by the same users.”\n",
    "Process:\n",
    "Compute similarity between items (e.g., using cosine similarity, Pearson correlation).\n",
    "Recommend items similar to those the target user has already liked.\n",
    "Example: If most users who liked Naruto also liked Bleach, then recommend Bleach to someone who liked Naruto.\n",
    "\n",
    "Key Difference:\n",
    "\n",
    "User-based focuses on relationships between users.\n",
    "Item-based focuses on relationships between items.\n",
    "In practice, item-based is often preferred because item similarities are more stable than user preferences (users change, but item relationships don’t change as much).\n",
    "\n",
    "2. What is Collaborative Filtering, and How Does It Work?\n",
    "\n",
    "Definition:\n",
    "Collaborative Filtering (CF) is a recommendation technique that predicts a user’s preference for an item by leveraging the preferences of many users.\n",
    "How it works:\n",
    "Collect data about users’ interactions with items (ratings, clicks, purchases, watch history, etc.).\n",
    "Build a user-item matrix where rows are users and columns are items.\n",
    "Use similarity measures (cosine similarity, Pearson correlation) or latent factor models (like SVD in matrix factorization) to find patterns.\n",
    "\n",
    "Recommend items either by:\n",
    "User-based CF → “Find similar users, recommend what they liked.”\n",
    "Item-based CF → “Find similar items, recommend items related to what the user already liked.”\n",
    "\n",
    "Real-world examples:\n",
    "Netflix suggesting shows based on what people with similar taste watched.\n",
    "Amazon recommending products “Customers who bought this also bought…”"
   ]
  }
 ],
 "metadata": {
  "kernelspec": {
   "display_name": "Python 3 (ipykernel)",
   "language": "python",
   "name": "python3"
  },
  "language_info": {
   "codemirror_mode": {
    "name": "ipython",
    "version": 3
   },
   "file_extension": ".py",
   "mimetype": "text/x-python",
   "name": "python",
   "nbconvert_exporter": "python",
   "pygments_lexer": "ipython3",
   "version": "3.13.5"
  }
 },
 "nbformat": 4,
 "nbformat_minor": 5
}
