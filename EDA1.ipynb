{
 "cells": [
  {
   "cell_type": "raw",
   "id": "b0444d48-2a66-40a5-8602-bf758b31a140",
   "metadata": {},
   "source": [
    "Assignment No. 5\n",
    "EXPLORATORY DATA ANALYSIS ON A DATASET"
   ]
  },
  {
   "cell_type": "code",
   "execution_count": 2,
   "id": "c6619f1e-98fd-4986-babf-d8ce8663f6d1",
   "metadata": {},
   "outputs": [],
   "source": [
    "# Required libraries for the EDA\n",
    "import numpy as np\n",
    "import pandas as pd\n",
    "import matplotlib.pyplot as plt\n",
    "import seaborn as sns"
   ]
  },
  {
   "cell_type": "code",
   "execution_count": 3,
   "id": "de02f0f4-f3e3-4c89-a3c8-82418c5d7de2",
   "metadata": {},
   "outputs": [],
   "source": [
    "df = pd.read_csv(\"Cardiotocographic.csv\") #using panda read_csv file"
   ]
  },
  {
   "cell_type": "code",
   "execution_count": 4,
   "id": "a12e5c8e-852f-4dac-a2e6-f6ab8d7ad012",
   "metadata": {},
   "outputs": [
    {
     "data": {
      "text/html": [
       "<div>\n",
       "<style scoped>\n",
       "    .dataframe tbody tr th:only-of-type {\n",
       "        vertical-align: middle;\n",
       "    }\n",
       "\n",
       "    .dataframe tbody tr th {\n",
       "        vertical-align: top;\n",
       "    }\n",
       "\n",
       "    .dataframe thead th {\n",
       "        text-align: right;\n",
       "    }\n",
       "</style>\n",
       "<table border=\"1\" class=\"dataframe\">\n",
       "  <thead>\n",
       "    <tr style=\"text-align: right;\">\n",
       "      <th></th>\n",
       "      <th>LB</th>\n",
       "      <th>AC</th>\n",
       "      <th>FM</th>\n",
       "      <th>UC</th>\n",
       "      <th>DL</th>\n",
       "      <th>DS</th>\n",
       "      <th>DP</th>\n",
       "      <th>ASTV</th>\n",
       "      <th>MSTV</th>\n",
       "      <th>ALTV</th>\n",
       "      <th>MLTV</th>\n",
       "      <th>Width</th>\n",
       "      <th>Tendency</th>\n",
       "      <th>NSP</th>\n",
       "    </tr>\n",
       "  </thead>\n",
       "  <tbody>\n",
       "    <tr>\n",
       "      <th>0</th>\n",
       "      <td>120.000000</td>\n",
       "      <td>0.000000</td>\n",
       "      <td>0.0</td>\n",
       "      <td>0.000000</td>\n",
       "      <td>0.000000</td>\n",
       "      <td>0.0</td>\n",
       "      <td>0.0</td>\n",
       "      <td>73.0</td>\n",
       "      <td>0.5</td>\n",
       "      <td>43.0</td>\n",
       "      <td>2.4</td>\n",
       "      <td>64.0</td>\n",
       "      <td>0.999926</td>\n",
       "      <td>2.0</td>\n",
       "    </tr>\n",
       "    <tr>\n",
       "      <th>1</th>\n",
       "      <td>132.000000</td>\n",
       "      <td>0.006380</td>\n",
       "      <td>0.0</td>\n",
       "      <td>0.006380</td>\n",
       "      <td>0.003190</td>\n",
       "      <td>0.0</td>\n",
       "      <td>0.0</td>\n",
       "      <td>17.0</td>\n",
       "      <td>2.1</td>\n",
       "      <td>0.0</td>\n",
       "      <td>10.4</td>\n",
       "      <td>130.0</td>\n",
       "      <td>0.000000</td>\n",
       "      <td>1.0</td>\n",
       "    </tr>\n",
       "    <tr>\n",
       "      <th>2</th>\n",
       "      <td>133.000000</td>\n",
       "      <td>0.003322</td>\n",
       "      <td>0.0</td>\n",
       "      <td>0.008306</td>\n",
       "      <td>0.003322</td>\n",
       "      <td>0.0</td>\n",
       "      <td>0.0</td>\n",
       "      <td>16.0</td>\n",
       "      <td>2.1</td>\n",
       "      <td>0.0</td>\n",
       "      <td>13.4</td>\n",
       "      <td>130.0</td>\n",
       "      <td>0.000000</td>\n",
       "      <td>1.0</td>\n",
       "    </tr>\n",
       "    <tr>\n",
       "      <th>3</th>\n",
       "      <td>134.000000</td>\n",
       "      <td>0.002561</td>\n",
       "      <td>0.0</td>\n",
       "      <td>0.007742</td>\n",
       "      <td>0.002561</td>\n",
       "      <td>0.0</td>\n",
       "      <td>0.0</td>\n",
       "      <td>16.0</td>\n",
       "      <td>2.4</td>\n",
       "      <td>0.0</td>\n",
       "      <td>23.0</td>\n",
       "      <td>117.0</td>\n",
       "      <td>1.000000</td>\n",
       "      <td>1.0</td>\n",
       "    </tr>\n",
       "    <tr>\n",
       "      <th>4</th>\n",
       "      <td>131.948232</td>\n",
       "      <td>0.006515</td>\n",
       "      <td>0.0</td>\n",
       "      <td>0.008143</td>\n",
       "      <td>0.000000</td>\n",
       "      <td>0.0</td>\n",
       "      <td>0.0</td>\n",
       "      <td>16.0</td>\n",
       "      <td>2.4</td>\n",
       "      <td>0.0</td>\n",
       "      <td>19.9</td>\n",
       "      <td>117.0</td>\n",
       "      <td>1.000000</td>\n",
       "      <td>1.0</td>\n",
       "    </tr>\n",
       "  </tbody>\n",
       "</table>\n",
       "</div>"
      ],
      "text/plain": [
       "           LB        AC   FM        UC        DL   DS   DP  ASTV  MSTV  ALTV  \\\n",
       "0  120.000000  0.000000  0.0  0.000000  0.000000  0.0  0.0  73.0   0.5  43.0   \n",
       "1  132.000000  0.006380  0.0  0.006380  0.003190  0.0  0.0  17.0   2.1   0.0   \n",
       "2  133.000000  0.003322  0.0  0.008306  0.003322  0.0  0.0  16.0   2.1   0.0   \n",
       "3  134.000000  0.002561  0.0  0.007742  0.002561  0.0  0.0  16.0   2.4   0.0   \n",
       "4  131.948232  0.006515  0.0  0.008143  0.000000  0.0  0.0  16.0   2.4   0.0   \n",
       "\n",
       "   MLTV  Width  Tendency  NSP  \n",
       "0   2.4   64.0  0.999926  2.0  \n",
       "1  10.4  130.0  0.000000  1.0  \n",
       "2  13.4  130.0  0.000000  1.0  \n",
       "3  23.0  117.0  1.000000  1.0  \n",
       "4  19.9  117.0  1.000000  1.0  "
      ]
     },
     "execution_count": 4,
     "metadata": {},
     "output_type": "execute_result"
    }
   ],
   "source": [
    "df.head(5) #display first 5(we can set it as per our convenience) data frame from the dataset"
   ]
  },
  {
   "cell_type": "code",
   "execution_count": 5,
   "id": "eb45e8f9-81fc-499b-9967-7a1b6a5ca8ff",
   "metadata": {},
   "outputs": [
    {
     "data": {
      "text/html": [
       "<div>\n",
       "<style scoped>\n",
       "    .dataframe tbody tr th:only-of-type {\n",
       "        vertical-align: middle;\n",
       "    }\n",
       "\n",
       "    .dataframe tbody tr th {\n",
       "        vertical-align: top;\n",
       "    }\n",
       "\n",
       "    .dataframe thead th {\n",
       "        text-align: right;\n",
       "    }\n",
       "</style>\n",
       "<table border=\"1\" class=\"dataframe\">\n",
       "  <thead>\n",
       "    <tr style=\"text-align: right;\">\n",
       "      <th></th>\n",
       "      <th>LB</th>\n",
       "      <th>AC</th>\n",
       "      <th>FM</th>\n",
       "      <th>UC</th>\n",
       "      <th>DL</th>\n",
       "      <th>DS</th>\n",
       "      <th>DP</th>\n",
       "      <th>ASTV</th>\n",
       "      <th>MSTV</th>\n",
       "      <th>ALTV</th>\n",
       "      <th>MLTV</th>\n",
       "      <th>Width</th>\n",
       "      <th>Tendency</th>\n",
       "      <th>NSP</th>\n",
       "    </tr>\n",
       "  </thead>\n",
       "  <tbody>\n",
       "    <tr>\n",
       "      <th>2121</th>\n",
       "      <td>140.0</td>\n",
       "      <td>0.000000</td>\n",
       "      <td>0.961268</td>\n",
       "      <td>0.007426</td>\n",
       "      <td>0.0</td>\n",
       "      <td>0.0</td>\n",
       "      <td>0.0</td>\n",
       "      <td>79.0</td>\n",
       "      <td>0.2</td>\n",
       "      <td>25.000000</td>\n",
       "      <td>7.2</td>\n",
       "      <td>40.0</td>\n",
       "      <td>0.0</td>\n",
       "      <td>2.000000</td>\n",
       "    </tr>\n",
       "    <tr>\n",
       "      <th>2122</th>\n",
       "      <td>140.0</td>\n",
       "      <td>0.000775</td>\n",
       "      <td>0.000000</td>\n",
       "      <td>0.006979</td>\n",
       "      <td>0.0</td>\n",
       "      <td>0.0</td>\n",
       "      <td>0.0</td>\n",
       "      <td>78.0</td>\n",
       "      <td>0.4</td>\n",
       "      <td>22.000000</td>\n",
       "      <td>7.1</td>\n",
       "      <td>66.0</td>\n",
       "      <td>1.0</td>\n",
       "      <td>2.000000</td>\n",
       "    </tr>\n",
       "    <tr>\n",
       "      <th>2123</th>\n",
       "      <td>140.0</td>\n",
       "      <td>0.000980</td>\n",
       "      <td>0.000000</td>\n",
       "      <td>0.006863</td>\n",
       "      <td>0.0</td>\n",
       "      <td>0.0</td>\n",
       "      <td>0.0</td>\n",
       "      <td>79.0</td>\n",
       "      <td>0.4</td>\n",
       "      <td>20.000000</td>\n",
       "      <td>6.1</td>\n",
       "      <td>67.0</td>\n",
       "      <td>1.0</td>\n",
       "      <td>1.990464</td>\n",
       "    </tr>\n",
       "    <tr>\n",
       "      <th>2124</th>\n",
       "      <td>140.0</td>\n",
       "      <td>0.000679</td>\n",
       "      <td>0.000000</td>\n",
       "      <td>0.006110</td>\n",
       "      <td>0.0</td>\n",
       "      <td>0.0</td>\n",
       "      <td>0.0</td>\n",
       "      <td>78.0</td>\n",
       "      <td>0.4</td>\n",
       "      <td>27.000000</td>\n",
       "      <td>7.0</td>\n",
       "      <td>66.0</td>\n",
       "      <td>1.0</td>\n",
       "      <td>2.000000</td>\n",
       "    </tr>\n",
       "    <tr>\n",
       "      <th>2125</th>\n",
       "      <td>142.0</td>\n",
       "      <td>0.001616</td>\n",
       "      <td>-0.000188</td>\n",
       "      <td>0.008078</td>\n",
       "      <td>0.0</td>\n",
       "      <td>0.0</td>\n",
       "      <td>0.0</td>\n",
       "      <td>74.0</td>\n",
       "      <td>0.4</td>\n",
       "      <td>35.857183</td>\n",
       "      <td>5.0</td>\n",
       "      <td>42.0</td>\n",
       "      <td>0.0</td>\n",
       "      <td>1.000000</td>\n",
       "    </tr>\n",
       "  </tbody>\n",
       "</table>\n",
       "</div>"
      ],
      "text/plain": [
       "         LB        AC        FM        UC   DL   DS   DP  ASTV  MSTV  \\\n",
       "2121  140.0  0.000000  0.961268  0.007426  0.0  0.0  0.0  79.0   0.2   \n",
       "2122  140.0  0.000775  0.000000  0.006979  0.0  0.0  0.0  78.0   0.4   \n",
       "2123  140.0  0.000980  0.000000  0.006863  0.0  0.0  0.0  79.0   0.4   \n",
       "2124  140.0  0.000679  0.000000  0.006110  0.0  0.0  0.0  78.0   0.4   \n",
       "2125  142.0  0.001616 -0.000188  0.008078  0.0  0.0  0.0  74.0   0.4   \n",
       "\n",
       "           ALTV  MLTV  Width  Tendency       NSP  \n",
       "2121  25.000000   7.2   40.0       0.0  2.000000  \n",
       "2122  22.000000   7.1   66.0       1.0  2.000000  \n",
       "2123  20.000000   6.1   67.0       1.0  1.990464  \n",
       "2124  27.000000   7.0   66.0       1.0  2.000000  \n",
       "2125  35.857183   5.0   42.0       0.0  1.000000  "
      ]
     },
     "execution_count": 5,
     "metadata": {},
     "output_type": "execute_result"
    }
   ],
   "source": [
    "df.tail(5) #display from end"
   ]
  },
  {
   "cell_type": "code",
   "execution_count": 6,
   "id": "af728df8-bf28-4e47-af29-0ebacac80e62",
   "metadata": {},
   "outputs": [
    {
     "data": {
      "text/plain": [
       "(2126, 14)"
      ]
     },
     "execution_count": 6,
     "metadata": {},
     "output_type": "execute_result"
    }
   ],
   "source": [
    "df.shape #tells dimensions of dataset"
   ]
  },
  {
   "cell_type": "code",
   "execution_count": 7,
   "id": "1b6b9593-2db3-41d0-89d2-b851d846ff4b",
   "metadata": {},
   "outputs": [
    {
     "name": "stdout",
     "output_type": "stream",
     "text": [
      "<class 'pandas.core.frame.DataFrame'>\n",
      "RangeIndex: 2126 entries, 0 to 2125\n",
      "Data columns (total 14 columns):\n",
      " #   Column    Non-Null Count  Dtype  \n",
      "---  ------    --------------  -----  \n",
      " 0   LB        2105 non-null   float64\n",
      " 1   AC        2106 non-null   float64\n",
      " 2   FM        2126 non-null   float64\n",
      " 3   UC        2126 non-null   float64\n",
      " 4   DL        2126 non-null   float64\n",
      " 5   DS        2105 non-null   float64\n",
      " 6   DP        2105 non-null   float64\n",
      " 7   ASTV      2126 non-null   float64\n",
      " 8   MSTV      2126 non-null   float64\n",
      " 9   ALTV      2126 non-null   float64\n",
      " 10  MLTV      2105 non-null   float64\n",
      " 11  Width     2105 non-null   float64\n",
      " 12  Tendency  2105 non-null   float64\n",
      " 13  NSP       2105 non-null   float64\n",
      "dtypes: float64(14)\n",
      "memory usage: 232.7 KB\n"
     ]
    }
   ],
   "source": [
    "df.info() #Give information regarding column name , number of non-null value and data type etc."
   ]
  },
  {
   "cell_type": "raw",
   "id": "c973c0fd-ba1e-45e6-9b33-0d62f1349f6e",
   "metadata": {},
   "source": [
    "why we do EDA ?\n",
    "Ans->\n",
    "for..\n",
    "1.Model Building\n",
    "2.Analysis and reporting\n",
    "3.Validate assumptions\n",
    "4.Handling missing values\n",
    "5.feature engineering\n",
    "6.detecting outliers"
   ]
  },
  {
   "cell_type": "code",
   "execution_count": 8,
   "id": "80ebb49e-a5ac-4f17-b373-c5874162077a",
   "metadata": {},
   "outputs": [
    {
     "data": {
      "text/plain": [
       "count    2105.000000\n",
       "mean      133.343598\n",
       "std        11.270154\n",
       "min        51.842487\n",
       "25%       126.000000\n",
       "50%       133.000000\n",
       "75%       140.000000\n",
       "max       214.000000\n",
       "Name: LB, dtype: float64"
      ]
     },
     "execution_count": 8,
     "metadata": {},
     "output_type": "execute_result"
    }
   ],
   "source": [
    "df['LB'].describe() #Baseline Fetal Heart Rate (FHR)"
   ]
  },
  {
   "cell_type": "code",
   "execution_count": 9,
   "id": "c7fd63cf-e816-4eda-acd5-9ad95d443494",
   "metadata": {},
   "outputs": [
    {
     "data": {
      "text/plain": [
       "133.0"
      ]
     },
     "execution_count": 9,
     "metadata": {},
     "output_type": "execute_result"
    }
   ],
   "source": [
    "df['LB'].median()"
   ]
  },
  {
   "cell_type": "code",
   "execution_count": 10,
   "id": "9e2a8fee-a232-4e55-9566-9fb2ae311425",
   "metadata": {},
   "outputs": [
    {
     "data": {
      "text/plain": [
       "np.float64(0.3207470577305014)"
      ]
     },
     "execution_count": 10,
     "metadata": {},
     "output_type": "execute_result"
    }
   ],
   "source": [
    "df['LB'].skew() #skewness of the data which side it is bais towards here it is close symmetric"
   ]
  },
  {
   "cell_type": "raw",
   "id": "5f4072d1-403d-4ba0-b4ff-e793d6037739",
   "metadata": {},
   "source": [
    "Skewness ≈ 0 → perfectly symmetric distribution.\n",
    "Skewness between -0.5 and +0.5 → approximately symmetric (normal enough).\n",
    "Skewness between ±0.5 and ±1 → moderately skewed.\n",
    "Skewness > |1| → highly skewed."
   ]
  },
  {
   "cell_type": "code",
   "execution_count": 11,
   "id": "b7e0373d-79db-44ff-9c47-4a2c2394d834",
   "metadata": {},
   "outputs": [
    {
     "data": {
      "text/plain": [
       "<Axes: ylabel='Frequency'>"
      ]
     },
     "execution_count": 11,
     "metadata": {},
     "output_type": "execute_result"
    },
    {
     "data": {
      "image/png": "[encoded data removed]",
      "text/plain": [
       "<Figure size 640x480 with 1 Axes>"
      ]
     },
     "metadata": {},
     "output_type": "display_data"
    }
   ],
   "source": [
    "df['LB'].plot(kind='hist',bins=20) #Histogram visualization of LB"
   ]
  },
  {
   "cell_type": "code",
   "execution_count": 12,
   "id": "c09a906a-aa20-43c8-ab94-4d69e9552565",
   "metadata": {},
   "outputs": [
    {
     "data": {
      "text/plain": [
       "<Axes: ylabel='Density'>"
      ]
     },
     "execution_count": 12,
     "metadata": {},
     "output_type": "execute_result"
    },
    {
     "data": {
      "image/png": "[encoded data removed]",
      "text/plain": [
       "<Figure size 640x480 with 1 Axes>"
      ]
     },
     "metadata": {},
     "output_type": "display_data"
    }
   ],
   "source": [
    "df['LB'].plot(kind='kde') #Kernel Density Estimation"
   ]
  },
  {
   "cell_type": "code",
   "execution_count": 13,
   "id": "bbf611e5-059b-45d0-8ba6-c4d862850b54",
   "metadata": {},
   "outputs": [
    {
     "data": {
      "text/plain": [
       "<Axes: >"
      ]
     },
     "execution_count": 13,
     "metadata": {},
     "output_type": "execute_result"
    },
    {
     "data": {
      "image/png": "[encoded data removed]",
      "text/plain": [
       "<Figure size 640x480 with 1 Axes>"
      ]
     },
     "metadata": {},
     "output_type": "display_data"
    }
   ],
   "source": [
    "df['LB'].plot(kind='box')"
   ]
  },
  {
   "cell_type": "code",
   "execution_count": 14,
   "id": "208a68fc-fc15-43ad-b3d6-caa7f77e1c76",
   "metadata": {},
   "outputs": [
    {
     "data": {
      "text/plain": [
       "np.int64(21)"
      ]
     },
     "execution_count": 14,
     "metadata": {},
     "output_type": "execute_result"
    }
   ],
   "source": [
    "df['LB'].isnull().sum() #Total Null values in LB"
   ]
  },
  {
   "cell_type": "code",
   "execution_count": 15,
   "id": "221d4665-4353-4cba-9cb7-c6117047e260",
   "metadata": {},
   "outputs": [
    {
     "data": {
      "text/plain": [
       "count    2106.000000\n",
       "mean        0.003219\n",
       "std         0.004391\n",
       "min        -0.019284\n",
       "25%         0.000000\n",
       "50%         0.001634\n",
       "75%         0.005650\n",
       "max         0.038567\n",
       "Name: AC, dtype: float64"
      ]
     },
     "execution_count": 15,
     "metadata": {},
     "output_type": "execute_result"
    }
   ],
   "source": [
    "df['AC'].describe()"
   ]
  },
  {
   "cell_type": "code",
   "execution_count": 16,
   "id": "af656817-38d7-4f01-9501-677d14c2a4ce",
   "metadata": {},
   "outputs": [
    {
     "data": {
      "text/plain": [
       "0.001633991"
      ]
     },
     "execution_count": 16,
     "metadata": {},
     "output_type": "execute_result"
    }
   ],
   "source": [
    "df['AC'].median()"
   ]
  },
  {
   "cell_type": "code",
   "execution_count": 17,
   "id": "03e6b76d-dcd4-4f4e-8c3e-4821fa5db592",
   "metadata": {},
   "outputs": [
    {
     "data": {
      "text/plain": [
       "np.float64(0.0032189782438000465)"
      ]
     },
     "execution_count": 17,
     "metadata": {},
     "output_type": "execute_result"
    }
   ],
   "source": [
    "df['AC'].mean()"
   ]
  },
  {
   "cell_type": "code",
   "execution_count": 18,
   "id": "d975764a-0f86-46c8-b1a2-afcb181216b7",
   "metadata": {},
   "outputs": [
    {
     "data": {
      "text/plain": [
       "<Axes: ylabel='Frequency'>"
      ]
     },
     "execution_count": 18,
     "metadata": {},
     "output_type": "execute_result"
    },
    {
     "data": {
      "image/png": "[encoded data removed]",
      "text/plain": [
       "<Figure size 640x480 with 1 Axes>"
      ]
     },
     "metadata": {},
     "output_type": "display_data"
    }
   ],
   "source": [
    "df['AC'].plot(kind='hist')"
   ]
  },
  {
   "cell_type": "code",
   "execution_count": 19,
   "id": "365704e6-ea75-4be7-89a0-21e513746553",
   "metadata": {},
   "outputs": [
    {
     "data": {
      "text/plain": [
       "<Axes: ylabel='Density'>"
      ]
     },
     "execution_count": 19,
     "metadata": {},
     "output_type": "execute_result"
    },
    {
     "data": {
      "image/png": "[encoded data removed]",
      "text/plain": [
       "<Figure size 640x480 with 1 Axes>"
      ]
     },
     "metadata": {},
     "output_type": "display_data"
    }
   ],
   "source": [
    "df['AC'].plot(kind='kde')"
   ]
  },
  {
   "cell_type": "code",
   "execution_count": 20,
   "id": "8e757503-77a1-4cff-b116-4923664efd12",
   "metadata": {},
   "outputs": [
    {
     "data": {
      "text/plain": [
       "<Axes: >"
      ]
     },
     "execution_count": 20,
     "metadata": {},
     "output_type": "execute_result"
    },
    {
     "data": {
      "image/png": "[encoded data removed]",
      "text/plain": [
       "<Figure size 640x480 with 1 Axes>"
      ]
     },
     "metadata": {},
     "output_type": "display_data"
    }
   ],
   "source": [
    "df['AC'].plot(kind='box')"
   ]
  },
  {
   "cell_type": "code",
   "execution_count": 21,
   "id": "96a873b7-3686-4dcb-b54f-2fd1eb8b0437",
   "metadata": {},
   "outputs": [
    {
     "data": {
      "text/plain": [
       "count    2126.000000\n",
       "mean       46.995984\n",
       "std        18.813973\n",
       "min       -63.000000\n",
       "25%        32.000000\n",
       "50%        49.000000\n",
       "75%        61.000000\n",
       "max       162.000000\n",
       "Name: ASTV, dtype: float64"
      ]
     },
     "execution_count": 21,
     "metadata": {},
     "output_type": "execute_result"
    }
   ],
   "source": [
    "df['ASTV'].describe()"
   ]
  },
  {
   "cell_type": "markdown",
   "id": "ee77eed8-5a3a-438f-8941-0a403dc14a91",
   "metadata": {},
   "source": [
    "●\tHandle missing values appropriately "
   ]
  },
  {
   "cell_type": "code",
   "execution_count": 22,
   "id": "4fcca777-ef5f-4650-9d47-4034ab2b1ba6",
   "metadata": {},
   "outputs": [
    {
     "data": {
      "text/plain": [
       "LB          21\n",
       "AC          20\n",
       "FM           0\n",
       "UC           0\n",
       "DL           0\n",
       "DS          21\n",
       "DP          21\n",
       "ASTV         0\n",
       "MSTV         0\n",
       "ALTV         0\n",
       "MLTV        21\n",
       "Width       21\n",
       "Tendency    21\n",
       "NSP         21\n",
       "dtype: int64"
      ]
     },
     "execution_count": 22,
     "metadata": {},
     "output_type": "execute_result"
    }
   ],
   "source": [
    "df.isnull().sum() #tells how many null columns are there in each columns"
   ]
  },
  {
   "cell_type": "code",
   "execution_count": 23,
   "id": "52090932-6a1a-48ef-b502-aa1c987201c4",
   "metadata": {},
   "outputs": [
    {
     "data": {
      "text/plain": [
       "LB          0\n",
       "AC          0\n",
       "FM          0\n",
       "UC          0\n",
       "DL          0\n",
       "DS          0\n",
       "DP          0\n",
       "ASTV        0\n",
       "MSTV        0\n",
       "ALTV        0\n",
       "MLTV        0\n",
       "Width       0\n",
       "Tendency    0\n",
       "NSP         0\n",
       "dtype: int64"
      ]
     },
     "execution_count": 23,
     "metadata": {},
     "output_type": "execute_result"
    }
   ],
   "source": [
    "# deletion of the row and columns\n",
    "df = df.dropna()  # remove rows with NaN\n",
    "df = df.dropna(axis=1)  # remove entire column with NaN\n",
    "df.isnull().sum()\n",
    "\n",
    "# by analysing the dataset we can see that most of the null values are consist of same row so deletion can be good for this type of dataset missing values.\n",
    "# deletion of data can sometime leads to overfitting, so avoid deletion approach while data cleaning\n",
    "# yes,Imputation can lead to over fitting when we use central tendency to replace null value with meand and median but it better approach compare to deletion,\n",
    "# since deletion leads to cutting down of dataset i will prefer replacement with central tendency or can talk about it with my senior about the same if the  "
   ]
  },
  {
   "cell_type": "code",
   "execution_count": 24,
   "id": "b8d67998-10e9-4e96-b808-aafcf4a19c02",
   "metadata": {},
   "outputs": [
    {
     "data": {
      "text/plain": [
       "(2105, 14)"
      ]
     },
     "execution_count": 24,
     "metadata": {},
     "output_type": "execute_result"
    }
   ],
   "source": [
    "df.shape"
   ]
  },
  {
   "cell_type": "code",
   "execution_count": 25,
   "id": "cebda970-5521-4472-9a27-5995dd73f1ab",
   "metadata": {},
   "outputs": [
    {
     "data": {
      "text/plain": [
       "LB          21\n",
       "AC          20\n",
       "FM           0\n",
       "UC           0\n",
       "DL           0\n",
       "DS          21\n",
       "DP          21\n",
       "ASTV         0\n",
       "MSTV         0\n",
       "ALTV         0\n",
       "MLTV        21\n",
       "Width       21\n",
       "Tendency    21\n",
       "NSP         21\n",
       "dtype: int64"
      ]
     },
     "execution_count": 25,
     "metadata": {},
     "output_type": "execute_result"
    }
   ],
   "source": [
    "# imputation\n",
    "df = pd.read_csv('Cardiotocographic.csv')\n",
    "df.isnull().sum()"
   ]
  },
  {
   "cell_type": "code",
   "execution_count": 26,
   "id": "1f7ce64b-e9ca-4bab-aef5-c75244f98510",
   "metadata": {},
   "outputs": [
    {
     "data": {
      "text/plain": [
       "np.int64(0)"
      ]
     },
     "execution_count": 26,
     "metadata": {},
     "output_type": "execute_result"
    }
   ],
   "source": [
    "# here we are using Imputation approach to handle missing values.\n",
    "df['LB'] = df['LB'].fillna(df['LB'].mean())  # numerical\n",
    "df['LB'].isnull().sum()\n",
    "\n",
    "# as per me there is no categorical data type in dataset\n",
    "# df['column_name'] = df['column_name'].fillna(df['column_name'].mode()[0])  # categorical\n"
   ]
  },
  {
   "cell_type": "code",
   "execution_count": 27,
   "id": "52c86317-e720-4c84-b752-8220ea2c0cd2",
   "metadata": {},
   "outputs": [
    {
     "data": {
      "text/plain": [
       "LB          0\n",
       "AC          0\n",
       "FM          0\n",
       "UC          0\n",
       "DL          0\n",
       "DS          0\n",
       "DP          0\n",
       "ASTV        0\n",
       "MSTV        0\n",
       "ALTV        0\n",
       "MLTV        0\n",
       "Width       0\n",
       "Tendency    0\n",
       "NSP         0\n",
       "dtype: int64"
      ]
     },
     "execution_count": 27,
     "metadata": {},
     "output_type": "execute_result"
    }
   ],
   "source": [
    "df['AC'] = df['AC'].fillna(df['AC'].mean()) \n",
    "df['DS'] = df['DS'].fillna(df['DS'].mean()) \n",
    "df['DP'] = df['DP'].fillna(df['DP'].mean()) \n",
    "df['MLTV'] = df['MLTV'].fillna(df['MLTV'].mean()) \n",
    "df['Width'] = df['Width'].fillna(df['Width'].mean()) \n",
    "df['Tendency'] = df['Tendency'].fillna(df['Tendency'].mean()) \n",
    "df['NSP'] = df['NSP'].fillna(df['NSP'].mean()) \n",
    "df.isnull().sum()"
   ]
  },
  {
   "cell_type": "markdown",
   "id": "0756db08-d6de-48f8-aba3-354ada43826a",
   "metadata": {},
   "source": [
    "●\tIdentify and correct any inconsistencies in data types "
   ]
  },
  {
   "cell_type": "code",
   "execution_count": 28,
   "id": "a3da3088-c2cb-4db6-97ed-05d81aa61c22",
   "metadata": {},
   "outputs": [
    {
     "data": {
      "text/plain": [
       "LB          float64\n",
       "AC          float64\n",
       "FM          float64\n",
       "UC          float64\n",
       "DL          float64\n",
       "DS          float64\n",
       "DP          float64\n",
       "ASTV        float64\n",
       "MSTV        float64\n",
       "ALTV        float64\n",
       "MLTV        float64\n",
       "Width       float64\n",
       "Tendency    float64\n",
       "NSP         float64\n",
       "dtype: object"
      ]
     },
     "execution_count": 28,
     "metadata": {},
     "output_type": "execute_result"
    }
   ],
   "source": [
    "df.dtypes"
   ]
  },
  {
   "cell_type": "code",
   "execution_count": 29,
   "id": "48f0f6c5-f9e2-4b34-bca5-106beae3c81e",
   "metadata": {},
   "outputs": [],
   "source": [
    "# No categorial Data type by watching and analysing the data set too."
   ]
  },
  {
   "cell_type": "code",
   "execution_count": 40,
   "id": "8a06d2e0-7c0b-4111-971c-166ca95a0fff",
   "metadata": {},
   "outputs": [
    {
     "data": {
      "text/plain": [
       "NSP\n",
       " 1.000000    1538\n",
       " 2.000000     279\n",
       " 3.000000     164\n",
       " 1.304507      21\n",
       "-1.000000       5\n",
       "             ... \n",
       " 0.993695       1\n",
       " 1.013864       1\n",
       " 0.989862       1\n",
       " 1.004234       1\n",
       " 1.990464       1\n",
       "Name: count, Length: 111, dtype: int64"
      ]
     },
     "execution_count": 40,
     "metadata": {},
     "output_type": "execute_result"
    }
   ],
   "source": [
    "df['NSP'].value_counts() #This way we can find the category Number in the columns since here i don't consider this columns as categorical data types"
   ]
  },
  {
   "cell_type": "markdown",
   "id": "0b2c09e6-7f30-415f-877a-84654710c875",
   "metadata": {},
   "source": [
    "●\tDetect and Treat Outliers"
   ]
  },
  {
   "cell_type": "code",
   "execution_count": 33,
   "id": "efd44103-2d2a-4d0a-8150-ef9490b0dc36",
   "metadata": {},
   "outputs": [
    {
     "data": {
      "text/plain": [
       "<Axes: >"
      ]
     },
     "execution_count": 33,
     "metadata": {},
     "output_type": "execute_result"
    },
    {
     "data": {
      "image/png": "[encoded data removed]",
      "text/plain": [
       "<Figure size 640x480 with 1 Axes>"
      ]
     },
     "metadata": {},
     "output_type": "display_data"
    }
   ],
   "source": [
    "Q1 = df['LB'].quantile(0.25)\n",
    "Q3 = df['LB'].quantile(0.75)\n",
    "IQR = Q3 - Q1\n",
    "\n",
    "# Define outlier bounds\n",
    "lower = Q1 - 1.5 * IQR\n",
    "upper = Q3 + 1.5 * IQR\n",
    "\n",
    "# Detect outliers\n",
    "outliers = df[(df['LB'] < lower) | (df['LB'] > upper)]\n",
    "\n",
    "# Option 1: Remove them\n",
    "df = df[(df['LB'] >= lower) & (df['LB'] <= upper)]\n",
    "\n",
    "# Option 2: Cap values (winsorization)\n",
    "df['LB'] = df['LB'].clip(lower, upper)\n",
    "\n",
    "df['LB'].plot(kind ='box')\n"
   ]
  },
  {
   "cell_type": "code",
   "execution_count": 34,
   "id": "b171279a-5b08-4ddc-8143-eee89e814b08",
   "metadata": {},
   "outputs": [
    {
     "data": {
      "text/plain": [
       "count    2116.000000\n",
       "mean      133.268648\n",
       "std         9.766438\n",
       "min       106.000000\n",
       "25%       126.000000\n",
       "50%       133.000000\n",
       "75%       140.000000\n",
       "max       160.000000\n",
       "Name: LB, dtype: float64"
      ]
     },
     "execution_count": 34,
     "metadata": {},
     "output_type": "execute_result"
    }
   ],
   "source": [
    "df['LB'].describe()"
   ]
  },
  {
   "cell_type": "code",
   "execution_count": 35,
   "id": "534e5e6f-0511-43ac-b8da-1f99c5f133ce",
   "metadata": {},
   "outputs": [
    {
     "data": {
      "text/plain": [
       "np.int64(0)"
      ]
     },
     "execution_count": 35,
     "metadata": {},
     "output_type": "execute_result"
    }
   ],
   "source": [
    "df['LB'].isnull().sum()"
   ]
  },
  {
   "cell_type": "code",
   "execution_count": 36,
   "id": "49377d4e-6d67-42e6-895d-b6e29959e1ea",
   "metadata": {},
   "outputs": [
    {
     "data": {
      "text/plain": [
       "np.float64(0.007407175044939602)"
      ]
     },
     "execution_count": 36,
     "metadata": {},
     "output_type": "execute_result"
    }
   ],
   "source": [
    "df['LB'].skew()"
   ]
  },
  {
   "cell_type": "markdown",
   "id": "e1885fbd-62eb-42a6-b22f-8e102179908a",
   "metadata": {},
   "source": [
    "●  Bivariate Analysis"
   ]
  },
  {
   "cell_type": "markdown",
   "id": "b7b45473-0c3e-4ee5-8dd4-593498c5a8b7",
   "metadata": {},
   "source": [
    "I don't think this dataset can be use for bivariate analysis too"
   ]
  },
  {
   "cell_type": "markdown",
   "id": "7d698dca-4f1f-4f17-a5a8-559e4b6ff703",
   "metadata": {},
   "source": [
    "if i have to do \n",
    "Select 2 cols\n",
    "\n",
    "Understand type of relationship\n",
    "\n",
    "Numerical - Numerical\n",
    "a. You can plot graphs like scatterplot(regression plots), 2D histplot, 2D KDEplots\n",
    "b. Check correlation coefficent to check linear relationship\n",
    "Numerical - Categorical - create visualizations that compare the distribution of the numerical data across different categories of the categorical data.\n",
    "a. You can plot graphs like barplot, boxplot, kdeplot violinplot even scatterplots\n",
    "Categorical - Categorical\n",
    "a. You can create cross-tabulations or contingency tables that show the distribution of values in one categorical column, grouped by the values in the other categorical column.\n",
    "b. You can plots like heatmap, stacked barplots, treemaps\n",
    "Write your conclusions"
   ]
  }
 ],
 "metadata": {
  "kernelspec": {
   "display_name": "Python 3 (ipykernel)",
   "language": "python",
   "name": "python3"
  },
  "language_info": {
   "codemirror_mode": {
    "name": "ipython",
    "version": 3
   },
   "file_extension": ".py",
   "mimetype": "text/x-python",
   "name": "python",
   "nbconvert_exporter": "python",
   "pygments_lexer": "ipython3",
   "version": "3.13.5"
  }
 },
 "nbformat": 4,
 "nbformat_minor": 5
}
